{
 "cells": [
  {
   "cell_type": "markdown",
   "id": "80f56263",
   "metadata": {},
   "source": [
    "<h1>Лабораторная работа 6</h1>\n",
    "<h2>Линейная регрессия в sklearn</h2>\n",
    "\n",
    "Выполнил: 6131 Чаплыгин Алексей Олегович"
   ]
  },
  {
   "cell_type": "markdown",
   "id": "83e3f249",
   "metadata": {},
   "source": [
    "Ссылки на теорию:\n",
    "\n",
    "https://habr.com/ru/company/ods/blog/323890/\n",
    "https://habr.com/ru/post/278513/\n",
    "https://habr.com/ru/post/279117/\n",
    "0 Найти и загрузить датасет, подходящий для задачи регрессии. Набор данных должен содержать не только числовые, но и категориальные/бинарные признаки. Опишите данные, что обозначает каждый столбец, какого типа (категориальный, вещественный, целочисленный, бинарный) данный столбец, при необходимости для категориальных в том числе бинарных признаков привести расшифровку их значений.\n",
    "\n",
    "1 Временно удалить категориальные / бинарные признаки, оставив только вещественные (потом вернёмся к ним позже).\n",
    "\n",
    "2 Визуализировать heatmap-матрицу кореллированности признаков. См. пример.\n",
    "\n",
    "3 Визуализировать взаимосвязь между целевой переменной и каждым признаком (с помощью srs.pairplot или pandas.plotting.scatter_matrix или как-то ещё). Лучше всего, если будете строить диаграмму попарного распределения не между ВСЕМИ парами признаков, а только между признаками и целевой переменной. См. пример.\n",
    "\n",
    "4 Разделить набор данных на обучающую и тестовую выборки\n",
    "\n",
    "5 Линейная регрессия\n",
    "\n",
    "5.1 Обучить модель линейной регрессии (LinearRegression)\n",
    "\n",
    "5.2 Вывести метрики MAE, MSE и R2 на обущающем и тестовом наборе\n",
    "\n",
    "5.3 Вывести model.coef_ и model.intercept_\n",
    "\n",
    "5.4 Построить график (barh) с важностью коэфициентов при соответствующих признаках (строится точно так же, как мы строили графики для feature_importance в теме с деревьями). Желательно, чтобы сверху вниз шли коэффициенты по убыванию, а названия соответствующих признаков подписаны по вертикальной оси.\n",
    "\n",
    "6 Модель Lasso\n",
    "\n",
    "6.1 Обучить модель регрессии (Lasso), с помощью GridSearchCV подобрать параметр alpha, дальше работаем с лучшей моделью\n",
    "\n",
    "6.1 Для лучшей модели вывести метрики MAE, MSE и R2 на обущающем и тестовом наборе\n",
    "\n",
    "6.3 Для лучшей модели вывести model.coef_ и model.intercept_\n",
    "\n",
    "6.4 Для лучшей модели построить график (barh) с важностью коэфициентов при соответствующих признаках\n",
    "\n",
    "7 Модель Ridge\n",
    "\n",
    "7.1 Обучить модель регрессии (Ridge), с помощью GridSearchCV подобрать параметр alpha, дальше работаем с лучшей моделью\n",
    "\n",
    "7.2 Для лучшей модели вывести метрики MAE, MSE и R2 на обущающем и тестовом наборе\n",
    "\n",
    "7.3 Для лучшей модели вывести model.coef и model.intercept\n",
    "\n",
    "7.4 Для лучшей модели построить график (barh) с важностью коэфициентов при соответствующих признаках\n",
    "\n",
    "8 Модель ElasticNet\n",
    "\n",
    "8.1 Обучить модель регрессии (ElasticNet), с помощью GridSearchCV подобрать параметры alpha и l1_ratio (в пределах 0:1), дальше работаем с лучшей моделью\n",
    "\n",
    "8.2 Для лучшей модели вывести метрики MAE, MSE и R2 на обущающем и тестовом наборе\n",
    "\n",
    "8.3 Для лучшей модели вывести model.coef и model.intercept\n",
    "\n",
    "8.4 Для лучшей модели построить график (barh) с важностью коэфициентов при соответствующих признаках\n",
    "\n",
    "9 Выбрать лучшую модель, указать значения MAE, MSE и R2 на тестовом наборе\n",
    "\n",
    "10 Возвращаем категориальные / бинарные признаки на место в датасет, категориальные признаки преобразуем в набор бинарных через pd.get_dummies( ..., drop_first = True ). Обучаем лучшую модель.\n",
    "\n",
    "11 Как изменились метрики MAE и MSE на тестовом наборе, вывести их и сделать выводы\n",
    "\n",
    "12 Прогоняем датасет, который уже обогащён бинарными признаками, через StandardScaler, обучаем найденную на предыдущих шагах лучшую модель. Как изменились MAE, MSE и R2 на тестовом наборе, вывести метрики и сделать выводы.\n",
    "\n",
    "13 Построить график (barh) с важностью коэфициентов при соответствующих признаках для задания 12\n",
    "\n",
    "Замечания: При использовании GridSearchCV для извлечения параметров лучшей модели используем атрибут с объектом лучшей модели: gs.bestestimator, например извлекаем вектор коэффициентов: gs.bestestimator.coef_\n",
    "\n",
    "Логика всего задания проста:\n",
    "\n",
    "Ищем лучший регрессор на вещественных признаках\n",
    "\n",
    "Пробуем добавить категориальные (преобразованные в бинарные), смотрим как изменилось качество, стала ли модель лучше работать\n",
    "\n",
    "Нормализуем признаки через StandardScaler, смотрим, повлияло ли это на качество модели."
   ]
  },
  {
   "cell_type": "code",
   "execution_count": 1,
   "id": "bafe0038",
   "metadata": {},
   "outputs": [],
   "source": [
    "# PRE INIT ROW\n",
    "# for new libraries if need\n",
    "# !pip install"
   ]
  },
  {
   "cell_type": "code",
   "execution_count": 2,
   "id": "f4e66e38",
   "metadata": {},
   "outputs": [],
   "source": [
    "# INIT IMPORT\n",
    "import numpy as np\n",
    "import pandas as pd\n",
    "import seaborn as sns\n",
    "\n",
    "from sklearn.model_selection import train_test_split, GridSearchCV\n",
    "from sklearn.linear_model import LinearRegression, Lasso, Ridge, ElasticNet\n",
    "from sklearn.metrics import mean_absolute_error, mean_squared_error, r2_score\n",
    "from sklearn.preprocessing import StandardScaler\n",
    "\n",
    "from pandas import get_dummies"
   ]
  },
  {
   "cell_type": "markdown",
   "id": "85b12501",
   "metadata": {},
   "source": [
    "<h2>0. Набор данных</h2>\n",
    "Найти и загрузить датасет, подходящий для задачи регрессии. Набор данных должен содержать не только числовые, но и категориальные/бинарные признаки. Опишите данные, что обозначает каждый столбец, какого типа (категориальный, вещественный, целочисленный, бинарный) данный столбец, при необходимости для категориальных в том числе бинарных признаков привести расшифровку их значений.\n",
    "</br>\n",
    "Используемый в работе набор данных \"Vehicle dataset\" доступен по следующей ссылке:https://www.kaggle.com/datasets/nehalbirla/vehicle-dataset-from-cardekho, этот набор данных содержит информацию о подержанных автомобилях. Эти данные могут быть использованы для многих целей, таких как прогнозирование цен, чтобы проиллюстрировать использование линейной регрессии в машинном обучении.</br>\n",
    "В наборе данных содержится таблица с 8 столбцами.</br>\n",
    "<table border=\"1\">\n",
    "   <caption>Vehicle dataset</caption>\n",
    "   <tr>\n",
    "    <th>Номер столбца</th>\n",
    "    <th>Название столбца</th>\n",
    "    <th>Описание столбца</th>\n",
    "   </tr>\n",
    "   <tr><td>1</td><td>fixed acidity</td><td>Название</td></tr>\n",
    "   <tr><td>2</td><td>yeary</td><td>Год выпуска</td></tr>\n",
    "   <tr><td>3</td><td>selling_price</td><td>Цена продажи</td></tr>\n",
    "   <tr><td>4</td><td>km_driven</td><td>Пробег</td></tr>\n",
    "   <tr><td>5</td><td>fuel</td><td>Тип топлива</td></tr>\n",
    "   <tr><td>6</td><td>seller_type</td><td>Тип продавца</td></tr>\n",
    "   <tr><td>7</td><td>transmission</td><td>Тип трансмиссии</td></tr>\n",
    "   <tr><td>8</td><td>owner</td><td>Тип владельца</td></tr>\n",
    "</table>"
   ]
  },
  {
   "cell_type": "code",
   "execution_count": 3,
   "id": "c40c130c",
   "metadata": {},
   "outputs": [],
   "source": [
    "df = pd.read_csv('data/CAR DETAILS FROM CAR DEKHO.csv', sep=',')"
   ]
  },
  {
   "cell_type": "code",
   "execution_count": 4,
   "id": "ced7c157",
   "metadata": {},
   "outputs": [
    {
     "data": {
      "text/html": [
       "<div>\n",
       "<style scoped>\n",
       "    .dataframe tbody tr th:only-of-type {\n",
       "        vertical-align: middle;\n",
       "    }\n",
       "\n",
       "    .dataframe tbody tr th {\n",
       "        vertical-align: top;\n",
       "    }\n",
       "\n",
       "    .dataframe thead th {\n",
       "        text-align: right;\n",
       "    }\n",
       "</style>\n",
       "<table border=\"1\" class=\"dataframe\">\n",
       "  <thead>\n",
       "    <tr style=\"text-align: right;\">\n",
       "      <th></th>\n",
       "      <th>name</th>\n",
       "      <th>year</th>\n",
       "      <th>selling_price</th>\n",
       "      <th>km_driven</th>\n",
       "      <th>fuel</th>\n",
       "      <th>seller_type</th>\n",
       "      <th>transmission</th>\n",
       "      <th>owner</th>\n",
       "    </tr>\n",
       "  </thead>\n",
       "  <tbody>\n",
       "    <tr>\n",
       "      <th>0</th>\n",
       "      <td>Maruti 800 AC</td>\n",
       "      <td>2007</td>\n",
       "      <td>60000</td>\n",
       "      <td>70000</td>\n",
       "      <td>Petrol</td>\n",
       "      <td>Individual</td>\n",
       "      <td>Manual</td>\n",
       "      <td>First Owner</td>\n",
       "    </tr>\n",
       "    <tr>\n",
       "      <th>1</th>\n",
       "      <td>Maruti Wagon R LXI Minor</td>\n",
       "      <td>2007</td>\n",
       "      <td>135000</td>\n",
       "      <td>50000</td>\n",
       "      <td>Petrol</td>\n",
       "      <td>Individual</td>\n",
       "      <td>Manual</td>\n",
       "      <td>First Owner</td>\n",
       "    </tr>\n",
       "    <tr>\n",
       "      <th>2</th>\n",
       "      <td>Hyundai Verna 1.6 SX</td>\n",
       "      <td>2012</td>\n",
       "      <td>600000</td>\n",
       "      <td>100000</td>\n",
       "      <td>Diesel</td>\n",
       "      <td>Individual</td>\n",
       "      <td>Manual</td>\n",
       "      <td>First Owner</td>\n",
       "    </tr>\n",
       "    <tr>\n",
       "      <th>3</th>\n",
       "      <td>Datsun RediGO T Option</td>\n",
       "      <td>2017</td>\n",
       "      <td>250000</td>\n",
       "      <td>46000</td>\n",
       "      <td>Petrol</td>\n",
       "      <td>Individual</td>\n",
       "      <td>Manual</td>\n",
       "      <td>First Owner</td>\n",
       "    </tr>\n",
       "    <tr>\n",
       "      <th>4</th>\n",
       "      <td>Honda Amaze VX i-DTEC</td>\n",
       "      <td>2014</td>\n",
       "      <td>450000</td>\n",
       "      <td>141000</td>\n",
       "      <td>Diesel</td>\n",
       "      <td>Individual</td>\n",
       "      <td>Manual</td>\n",
       "      <td>Second Owner</td>\n",
       "    </tr>\n",
       "    <tr>\n",
       "      <th>...</th>\n",
       "      <td>...</td>\n",
       "      <td>...</td>\n",
       "      <td>...</td>\n",
       "      <td>...</td>\n",
       "      <td>...</td>\n",
       "      <td>...</td>\n",
       "      <td>...</td>\n",
       "      <td>...</td>\n",
       "    </tr>\n",
       "    <tr>\n",
       "      <th>4335</th>\n",
       "      <td>Hyundai i20 Magna 1.4 CRDi (Diesel)</td>\n",
       "      <td>2014</td>\n",
       "      <td>409999</td>\n",
       "      <td>80000</td>\n",
       "      <td>Diesel</td>\n",
       "      <td>Individual</td>\n",
       "      <td>Manual</td>\n",
       "      <td>Second Owner</td>\n",
       "    </tr>\n",
       "    <tr>\n",
       "      <th>4336</th>\n",
       "      <td>Hyundai i20 Magna 1.4 CRDi</td>\n",
       "      <td>2014</td>\n",
       "      <td>409999</td>\n",
       "      <td>80000</td>\n",
       "      <td>Diesel</td>\n",
       "      <td>Individual</td>\n",
       "      <td>Manual</td>\n",
       "      <td>Second Owner</td>\n",
       "    </tr>\n",
       "    <tr>\n",
       "      <th>4337</th>\n",
       "      <td>Maruti 800 AC BSIII</td>\n",
       "      <td>2009</td>\n",
       "      <td>110000</td>\n",
       "      <td>83000</td>\n",
       "      <td>Petrol</td>\n",
       "      <td>Individual</td>\n",
       "      <td>Manual</td>\n",
       "      <td>Second Owner</td>\n",
       "    </tr>\n",
       "    <tr>\n",
       "      <th>4338</th>\n",
       "      <td>Hyundai Creta 1.6 CRDi SX Option</td>\n",
       "      <td>2016</td>\n",
       "      <td>865000</td>\n",
       "      <td>90000</td>\n",
       "      <td>Diesel</td>\n",
       "      <td>Individual</td>\n",
       "      <td>Manual</td>\n",
       "      <td>First Owner</td>\n",
       "    </tr>\n",
       "    <tr>\n",
       "      <th>4339</th>\n",
       "      <td>Renault KWID RXT</td>\n",
       "      <td>2016</td>\n",
       "      <td>225000</td>\n",
       "      <td>40000</td>\n",
       "      <td>Petrol</td>\n",
       "      <td>Individual</td>\n",
       "      <td>Manual</td>\n",
       "      <td>First Owner</td>\n",
       "    </tr>\n",
       "  </tbody>\n",
       "</table>\n",
       "<p>4340 rows × 8 columns</p>\n",
       "</div>"
      ],
      "text/plain": [
       "                                     name  year  selling_price  km_driven  \\\n",
       "0                           Maruti 800 AC  2007          60000      70000   \n",
       "1                Maruti Wagon R LXI Minor  2007         135000      50000   \n",
       "2                    Hyundai Verna 1.6 SX  2012         600000     100000   \n",
       "3                  Datsun RediGO T Option  2017         250000      46000   \n",
       "4                   Honda Amaze VX i-DTEC  2014         450000     141000   \n",
       "...                                   ...   ...            ...        ...   \n",
       "4335  Hyundai i20 Magna 1.4 CRDi (Diesel)  2014         409999      80000   \n",
       "4336           Hyundai i20 Magna 1.4 CRDi  2014         409999      80000   \n",
       "4337                  Maruti 800 AC BSIII  2009         110000      83000   \n",
       "4338     Hyundai Creta 1.6 CRDi SX Option  2016         865000      90000   \n",
       "4339                     Renault KWID RXT  2016         225000      40000   \n",
       "\n",
       "        fuel seller_type transmission         owner  \n",
       "0     Petrol  Individual       Manual   First Owner  \n",
       "1     Petrol  Individual       Manual   First Owner  \n",
       "2     Diesel  Individual       Manual   First Owner  \n",
       "3     Petrol  Individual       Manual   First Owner  \n",
       "4     Diesel  Individual       Manual  Second Owner  \n",
       "...      ...         ...          ...           ...  \n",
       "4335  Diesel  Individual       Manual  Second Owner  \n",
       "4336  Diesel  Individual       Manual  Second Owner  \n",
       "4337  Petrol  Individual       Manual  Second Owner  \n",
       "4338  Diesel  Individual       Manual   First Owner  \n",
       "4339  Petrol  Individual       Manual   First Owner  \n",
       "\n",
       "[4340 rows x 8 columns]"
      ]
     },
     "execution_count": 4,
     "metadata": {},
     "output_type": "execute_result"
    }
   ],
   "source": [
    "df"
   ]
  },
  {
   "cell_type": "markdown",
   "id": "a578299c",
   "metadata": {},
   "source": [
    "#### 1. Временно удалить категориальные / бинарные признаки, оставив только вещественные"
   ]
  },
  {
   "cell_type": "code",
   "execution_count": 5,
   "id": "e37ba3b2",
   "metadata": {},
   "outputs": [
    {
     "data": {
      "text/html": [
       "<div>\n",
       "<style scoped>\n",
       "    .dataframe tbody tr th:only-of-type {\n",
       "        vertical-align: middle;\n",
       "    }\n",
       "\n",
       "    .dataframe tbody tr th {\n",
       "        vertical-align: top;\n",
       "    }\n",
       "\n",
       "    .dataframe thead th {\n",
       "        text-align: right;\n",
       "    }\n",
       "</style>\n",
       "<table border=\"1\" class=\"dataframe\">\n",
       "  <thead>\n",
       "    <tr style=\"text-align: right;\">\n",
       "      <th></th>\n",
       "      <th>year</th>\n",
       "      <th>selling_price</th>\n",
       "      <th>km_driven</th>\n",
       "    </tr>\n",
       "  </thead>\n",
       "  <tbody>\n",
       "    <tr>\n",
       "      <th>0</th>\n",
       "      <td>2007</td>\n",
       "      <td>60000</td>\n",
       "      <td>70000</td>\n",
       "    </tr>\n",
       "    <tr>\n",
       "      <th>1</th>\n",
       "      <td>2007</td>\n",
       "      <td>135000</td>\n",
       "      <td>50000</td>\n",
       "    </tr>\n",
       "    <tr>\n",
       "      <th>2</th>\n",
       "      <td>2012</td>\n",
       "      <td>600000</td>\n",
       "      <td>100000</td>\n",
       "    </tr>\n",
       "    <tr>\n",
       "      <th>3</th>\n",
       "      <td>2017</td>\n",
       "      <td>250000</td>\n",
       "      <td>46000</td>\n",
       "    </tr>\n",
       "    <tr>\n",
       "      <th>4</th>\n",
       "      <td>2014</td>\n",
       "      <td>450000</td>\n",
       "      <td>141000</td>\n",
       "    </tr>\n",
       "  </tbody>\n",
       "</table>\n",
       "</div>"
      ],
      "text/plain": [
       "   year  selling_price  km_driven\n",
       "0  2007          60000      70000\n",
       "1  2007         135000      50000\n",
       "2  2012         600000     100000\n",
       "3  2017         250000      46000\n",
       "4  2014         450000     141000"
      ]
     },
     "execution_count": 5,
     "metadata": {},
     "output_type": "execute_result"
    }
   ],
   "source": [
    "df_new = df.drop('name', axis=1)\n",
    "df_new = df_new.drop('fuel', axis=1)\n",
    "df_new = df_new.drop('seller_type', axis=1)\n",
    "df_new = df_new.drop('transmission', axis=1)\n",
    "df_new = df_new.drop('owner', axis=1)\n",
    "df_new.head()"
   ]
  },
  {
   "cell_type": "markdown",
   "id": "bbebba91",
   "metadata": {},
   "source": [
    "#### 2. Визуализировать heatmap-матрицу кореллированности признаков."
   ]
  },
  {
   "cell_type": "code",
   "execution_count": 6,
   "id": "782f25ec",
   "metadata": {},
   "outputs": [
    {
     "data": {
      "text/plain": [
       "<AxesSubplot:>"
      ]
     },
     "execution_count": 6,
     "metadata": {},
     "output_type": "execute_result"
    },
    {
     "data": {
      "image/png": "[encoded data removed]",
      "text/plain": [
       "<Figure size 432x288 with 2 Axes>"
      ]
     },
     "metadata": {
      "needs_background": "light"
     },
     "output_type": "display_data"
    }
   ],
   "source": [
    "sns.heatmap(df_new.corr(), cmap = \"YlOrRd_r\")"
   ]
  },
  {
   "cell_type": "markdown",
   "id": "50244365",
   "metadata": {},
   "source": [
    "#### 3. Визуализировать взаимосвязь между целевой переменной и каждым признаком \n",
    "\n",
    "Лучше всего, если будете строить диаграмму попарного распределения не между ВСЕМИ парами признаков, а только между признаками и целевой переменной."
   ]
  },
  {
   "cell_type": "code",
   "execution_count": 7,
   "id": "f77ed0aa",
   "metadata": {},
   "outputs": [
    {
     "data": {
      "text/plain": [
       "<seaborn.axisgrid.PairGrid at 0x2acdec377f0>"
      ]
     },
     "execution_count": 7,
     "metadata": {},
     "output_type": "execute_result"
    },
    {
     "data": {
      "image/png": "[encoded data removed]",
      "text/plain": [
       "<Figure size 1222.62x1152 with 6 Axes>"
      ]
     },
     "metadata": {
      "needs_background": "light"
     },
     "output_type": "display_data"
    }
   ],
   "source": [
    "sns.pairplot(df_new, hue = \"selling_price\", palette = \"YlOrRd_r\", height=8)"
   ]
  },
  {
   "cell_type": "markdown",
   "id": "d4fc36a3",
   "metadata": {},
   "source": [
    "#### 4. Разделить набор данных на обучающую и тестовую выборки"
   ]
  },
  {
   "cell_type": "code",
   "execution_count": 8,
   "id": "ad6116b9",
   "metadata": {},
   "outputs": [],
   "source": [
    "X = df_new.drop('selling_price', axis = 1)\n",
    "Y = df_new.selling_price"
   ]
  },
  {
   "cell_type": "code",
   "execution_count": 9,
   "id": "95c6ea0a",
   "metadata": {},
   "outputs": [],
   "source": [
    "X_train, X_test, Y_train, Y_test = train_test_split(X, Y, train_size = 0.75, random_state = 25)"
   ]
  },
  {
   "cell_type": "code",
   "execution_count": 10,
   "id": "bb9804b7",
   "metadata": {},
   "outputs": [
    {
     "data": {
      "text/html": [
       "<div>\n",
       "<style scoped>\n",
       "    .dataframe tbody tr th:only-of-type {\n",
       "        vertical-align: middle;\n",
       "    }\n",
       "\n",
       "    .dataframe tbody tr th {\n",
       "        vertical-align: top;\n",
       "    }\n",
       "\n",
       "    .dataframe thead th {\n",
       "        text-align: right;\n",
       "    }\n",
       "</style>\n",
       "<table border=\"1\" class=\"dataframe\">\n",
       "  <thead>\n",
       "    <tr style=\"text-align: right;\">\n",
       "      <th></th>\n",
       "      <th>year</th>\n",
       "      <th>km_driven</th>\n",
       "    </tr>\n",
       "  </thead>\n",
       "  <tbody>\n",
       "    <tr>\n",
       "      <th>3692</th>\n",
       "      <td>2012</td>\n",
       "      <td>129627</td>\n",
       "    </tr>\n",
       "    <tr>\n",
       "      <th>3201</th>\n",
       "      <td>2011</td>\n",
       "      <td>62601</td>\n",
       "    </tr>\n",
       "    <tr>\n",
       "      <th>1089</th>\n",
       "      <td>2018</td>\n",
       "      <td>10000</td>\n",
       "    </tr>\n",
       "    <tr>\n",
       "      <th>1668</th>\n",
       "      <td>2014</td>\n",
       "      <td>244000</td>\n",
       "    </tr>\n",
       "    <tr>\n",
       "      <th>2708</th>\n",
       "      <td>2011</td>\n",
       "      <td>40000</td>\n",
       "    </tr>\n",
       "    <tr>\n",
       "      <th>...</th>\n",
       "      <td>...</td>\n",
       "      <td>...</td>\n",
       "    </tr>\n",
       "    <tr>\n",
       "      <th>1175</th>\n",
       "      <td>2013</td>\n",
       "      <td>13500</td>\n",
       "    </tr>\n",
       "    <tr>\n",
       "      <th>255</th>\n",
       "      <td>2017</td>\n",
       "      <td>64000</td>\n",
       "    </tr>\n",
       "    <tr>\n",
       "      <th>2934</th>\n",
       "      <td>2010</td>\n",
       "      <td>48781</td>\n",
       "    </tr>\n",
       "    <tr>\n",
       "      <th>2191</th>\n",
       "      <td>2018</td>\n",
       "      <td>10000</td>\n",
       "    </tr>\n",
       "    <tr>\n",
       "      <th>318</th>\n",
       "      <td>2013</td>\n",
       "      <td>167223</td>\n",
       "    </tr>\n",
       "  </tbody>\n",
       "</table>\n",
       "<p>3255 rows × 2 columns</p>\n",
       "</div>"
      ],
      "text/plain": [
       "      year  km_driven\n",
       "3692  2012     129627\n",
       "3201  2011      62601\n",
       "1089  2018      10000\n",
       "1668  2014     244000\n",
       "2708  2011      40000\n",
       "...    ...        ...\n",
       "1175  2013      13500\n",
       "255   2017      64000\n",
       "2934  2010      48781\n",
       "2191  2018      10000\n",
       "318   2013     167223\n",
       "\n",
       "[3255 rows x 2 columns]"
      ]
     },
     "execution_count": 10,
     "metadata": {},
     "output_type": "execute_result"
    }
   ],
   "source": [
    "X_train"
   ]
  },
  {
   "cell_type": "markdown",
   "id": "ba1da8b9",
   "metadata": {},
   "source": [
    "#### 5. Линейная регрессия"
   ]
  },
  {
   "cell_type": "markdown",
   "id": "57353987",
   "metadata": {},
   "source": [
    "##### 5.1 Обучить модель линейной регрессии (LinearRegression)"
   ]
  },
  {
   "cell_type": "code",
   "execution_count": 11,
   "id": "c2016937",
   "metadata": {},
   "outputs": [],
   "source": [
    "# обучение модели\n",
    "model_regress = LinearRegression()\n",
    "model_regress.fit(X_train, Y_train)\n",
    "pred_train = model_regress.predict(X_train)\n",
    "pred_test = model_regress.predict(X_test)"
   ]
  },
  {
   "cell_type": "markdown",
   "id": "70c67f93",
   "metadata": {},
   "source": [
    "##### 5.2 Вывести метрики MAE, MSE и R2 на обущающем и тестовом наборе\n"
   ]
  },
  {
   "cell_type": "code",
   "execution_count": 12,
   "id": "bf1278e2",
   "metadata": {},
   "outputs": [],
   "source": [
    "def metrics(pred_model, Y_data):\n",
    "    mae = mean_absolute_error(Y_data, pred_model)\n",
    "    mse = mean_squared_error(Y_data, pred_model)\n",
    "    r2 = r2_score(Y_data, pred_model)\n",
    "    print('MAE: ', mae)\n",
    "    print('MSE: ', mse)\n",
    "    print('R2: ', r2)"
   ]
  },
  {
   "cell_type": "code",
   "execution_count": 13,
   "id": "d8ba6e40",
   "metadata": {},
   "outputs": [
    {
     "name": "stdout",
     "output_type": "stream",
     "text": [
      "Метрики на обущающем наборе\n",
      "MAE:  272598.0635914248\n",
      "MSE:  289338590244.18494\n",
      "R2:  0.16639087671767694\n"
     ]
    }
   ],
   "source": [
    "print('Метрики на обущающем наборе')\n",
    "metrics(pred_train, Y_train)"
   ]
  },
  {
   "cell_type": "code",
   "execution_count": 14,
   "id": "282f2ac1",
   "metadata": {},
   "outputs": [
    {
     "name": "stdout",
     "output_type": "stream",
     "text": [
      "Метрики на тестовом наборе\n",
      "MAE:  259702.11852172806\n",
      "MSE:  240679849978.08307\n",
      "R2:  0.19036683975893065\n"
     ]
    }
   ],
   "source": [
    "print('Метрики на тестовом наборе')\n",
    "metrics(pred_test, Y_test)"
   ]
  },
  {
   "cell_type": "markdown",
   "id": "681c1fee",
   "metadata": {},
   "source": [
    "##### 5.3 Вывести model.coef_ и model.intercept_"
   ]
  },
  {
   "cell_type": "code",
   "execution_count": 15,
   "id": "e2dd27fc",
   "metadata": {},
   "outputs": [],
   "source": [
    "def intercept_coef(model):\n",
    "    importance = model_regress.coef_\n",
    "    print('coef: ', importance)\n",
    "    intercept = model_regress.intercept_\n",
    "    print('intercept: ', intercept)"
   ]
  },
  {
   "cell_type": "code",
   "execution_count": 16,
   "id": "61f6c3a8",
   "metadata": {},
   "outputs": [
    {
     "name": "stdout",
     "output_type": "stream",
     "text": [
      "coef:  [ 5.60098991e+04 -2.26231281e-01]\n",
      "intercept:  -112233025.58307615\n"
     ]
    }
   ],
   "source": [
    "intercept_coef(model_regress)"
   ]
  },
  {
   "cell_type": "markdown",
   "id": "ca50d84f",
   "metadata": {},
   "source": [
    "##### 5.4 Построить график (barh) с важностью коэфициентов при соответствующих признаках \n",
    "\n",
    "Желательно, чтобы сверху вниз шли коэффициенты по убыванию, а названия соответствующих признаков подписаны по вертикальной оси."
   ]
  },
  {
   "cell_type": "code",
   "execution_count": 17,
   "id": "a3d49880",
   "metadata": {},
   "outputs": [],
   "source": [
    "def barh_plot(model, X_data):\n",
    "    attribute = X_data.columns.values\n",
    "    importance = model.coef_\n",
    "    list1 = np.vstack([importance, attribute]).T\n",
    "    list2 = pd.DataFrame(data = {'importance': importance, 'attribute': X_data.columns, }).sort_values(by = 'importance')\n",
    "    print(list2)\n",
    "    sns.barplot(data = list2, y = 'attribute', x = 'importance')"
   ]
  },
  {
   "cell_type": "code",
   "execution_count": 18,
   "id": "c88d304a",
   "metadata": {},
   "outputs": [
    {
     "name": "stdout",
     "output_type": "stream",
     "text": [
      "     importance  attribute\n",
      "1     -0.226231  km_driven\n",
      "0  56009.899055       year\n"
     ]
    },
    {
     "data": {
      "image/png": "[encoded data removed]",
      "text/plain": [
       "<Figure size 432x288 with 1 Axes>"
      ]
     },
     "metadata": {
      "needs_background": "light"
     },
     "output_type": "display_data"
    }
   ],
   "source": [
    "barh_plot(model_regress, X_train)"
   ]
  },
  {
   "cell_type": "markdown",
   "id": "496aef96",
   "metadata": {},
   "source": [
    "#### 6. Модель Lasso"
   ]
  },
  {
   "cell_type": "markdown",
   "id": "6606a3a6",
   "metadata": {},
   "source": [
    "##### 6.1 Обучить модель регрессии (Lasso), с помощью GridSearchCV подобрать параметр alpha, дальше работаем с лучшей моделью"
   ]
  },
  {
   "cell_type": "code",
   "execution_count": 19,
   "id": "556c75a8",
   "metadata": {},
   "outputs": [
    {
     "name": "stdout",
     "output_type": "stream",
     "text": [
      "{'alpha': 99.99000000000001}\n"
     ]
    }
   ],
   "source": [
    "model_lasso = Lasso()\n",
    "\n",
    "# подбираем параметры\n",
    "parametrs = {\"alpha\": np.arange(0.01, 100, 0.01)}\n",
    "model_lasso = GridSearchCV(model_lasso, parametrs, refit = True)\n",
    "model_lasso.fit(X_train, Y_train)\n",
    "\n",
    "print(model_lasso.best_params_)"
   ]
  },
  {
   "cell_type": "code",
   "execution_count": 20,
   "id": "3ac8d215",
   "metadata": {},
   "outputs": [],
   "source": [
    "# обучение модели\n",
    "model_lasso = Lasso(alpha = 0.01)\n",
    "model_lasso.fit(X_train, Y_train)\n",
    "pred_lasso_train = model_lasso.predict(X_train)\n",
    "pred_lasso_test = model_lasso.predict(X_test)"
   ]
  },
  {
   "cell_type": "markdown",
   "id": "778c3f3d",
   "metadata": {},
   "source": [
    "##### 6.2 Для лучшей модели вывести метрики MAE, MSE и R2 на обущающем и тестовом наборе"
   ]
  },
  {
   "cell_type": "code",
   "execution_count": 21,
   "id": "38d38ca5",
   "metadata": {},
   "outputs": [
    {
     "name": "stdout",
     "output_type": "stream",
     "text": [
      "Метрики на обущающем наборе\n",
      "MAE:  272598.0636172994\n",
      "MSE:  289338590244.1852\n",
      "R2:  0.16639087671767627\n"
     ]
    }
   ],
   "source": [
    "print('Метрики на обущающем наборе')\n",
    "metrics(pred_lasso_train, Y_train)"
   ]
  },
  {
   "cell_type": "code",
   "execution_count": 22,
   "id": "4009ccde",
   "metadata": {},
   "outputs": [
    {
     "name": "stdout",
     "output_type": "stream",
     "text": [
      "Метрики на тестовом наборе\n",
      "MAE:  259702.11854805276\n",
      "MSE:  240679849981.1879\n",
      "R2:  0.19036683974848612\n"
     ]
    }
   ],
   "source": [
    "print('Метрики на тестовом наборе')\n",
    "metrics(pred_lasso_test, Y_test)"
   ]
  },
  {
   "cell_type": "markdown",
   "id": "ec7f7670",
   "metadata": {},
   "source": [
    "##### 6.3 Для лучшей модели вывести model.coef_ и model.intercept_"
   ]
  },
  {
   "cell_type": "code",
   "execution_count": 23,
   "id": "e3c54c56",
   "metadata": {},
   "outputs": [
    {
     "name": "stdout",
     "output_type": "stream",
     "text": [
      "coef:  [ 5.60098991e+04 -2.26231281e-01]\n",
      "intercept:  -112233025.58307615\n"
     ]
    }
   ],
   "source": [
    "intercept_coef(model_lasso)"
   ]
  },
  {
   "cell_type": "markdown",
   "id": "98e630ae",
   "metadata": {},
   "source": [
    "##### 6.4 Для лучшей модели построить график (barh) с важностью коэфициентов при соответствующих признаках"
   ]
  },
  {
   "cell_type": "code",
   "execution_count": 24,
   "id": "8173c701",
   "metadata": {},
   "outputs": [
    {
     "name": "stdout",
     "output_type": "stream",
     "text": [
      "     importance  attribute\n",
      "1     -0.226231  km_driven\n",
      "0  56009.899108       year\n"
     ]
    },
    {
     "data": {
      "image/png": "[encoded data removed]",
      "text/plain": [
       "<Figure size 432x288 with 1 Axes>"
      ]
     },
     "metadata": {
      "needs_background": "light"
     },
     "output_type": "display_data"
    }
   ],
   "source": [
    "barh_plot(model_lasso, X_train)"
   ]
  },
  {
   "cell_type": "markdown",
   "id": "e3ea83cc",
   "metadata": {},
   "source": [
    "#### 7. Модель Ridge"
   ]
  },
  {
   "cell_type": "markdown",
   "id": "8773ab18",
   "metadata": {},
   "source": [
    "##### 7.1 Обучить модель регрессии (Ridge), с помощью GridSearchCV подобрать параметр alpha, дальше работаем с лучшей моделью"
   ]
  },
  {
   "cell_type": "code",
   "execution_count": 25,
   "id": "766e7fe2",
   "metadata": {},
   "outputs": [
    {
     "name": "stdout",
     "output_type": "stream",
     "text": [
      "{'alpha': 99.99000000000001}\n"
     ]
    }
   ],
   "source": [
    "model_ridge = Ridge()\n",
    "\n",
    "# подбираем параметры\n",
    "parametrs = {\"alpha\": np.arange(0.01, 100, 0.01)}\n",
    "model_ridge = GridSearchCV(model_ridge, parametrs, refit = True)\n",
    "model_ridge.fit(X_train, Y_train)\n",
    "\n",
    "print(model_ridge.best_params_)"
   ]
  },
  {
   "cell_type": "code",
   "execution_count": 26,
   "id": "7c9dd913",
   "metadata": {},
   "outputs": [],
   "source": [
    "# обучение модели\n",
    "model_ridge = Ridge(alpha = 0.04)\n",
    "model_ridge.fit(X_train, Y_train)\n",
    "pred_ridge_train = model_ridge.predict(X_train)\n",
    "pred_ridge_test = model_ridge.predict(X_test)"
   ]
  },
  {
   "cell_type": "markdown",
   "id": "987b5bdb",
   "metadata": {},
   "source": [
    "##### 7.2 Для лучшей модели вывести метрики MAE, MSE и R2 на обущающем и тестовом наборе"
   ]
  },
  {
   "cell_type": "code",
   "execution_count": 27,
   "id": "35db423c",
   "metadata": {},
   "outputs": [
    {
     "name": "stdout",
     "output_type": "stream",
     "text": [
      "Метрики на обущающем наборе\n",
      "MAE:  272598.0410532834\n",
      "MSE:  289338590244.21747\n",
      "R2:  0.16639087671758324\n"
     ]
    }
   ],
   "source": [
    "print('Метрики на обущающем наборе')\n",
    "metrics(pred_ridge_train, Y_train)"
   ]
  },
  {
   "cell_type": "code",
   "execution_count": 28,
   "id": "09a3fb55",
   "metadata": {},
   "outputs": [
    {
     "name": "stdout",
     "output_type": "stream",
     "text": [
      "Метрики на тестовом наборе\n",
      "MAE:  259702.0955969068\n",
      "MSE:  240679847277.90384\n",
      "R2:  0.19036684884217814\n"
     ]
    }
   ],
   "source": [
    "print('Метрики на тестовом наборе')\n",
    "metrics(pred_ridge_test, Y_test)"
   ]
  },
  {
   "cell_type": "markdown",
   "id": "914a0ed5",
   "metadata": {},
   "source": [
    "##### 7.3 Для лучшей модели вывести model.coef и model.intercept"
   ]
  },
  {
   "cell_type": "code",
   "execution_count": 29,
   "id": "a6773670",
   "metadata": {},
   "outputs": [
    {
     "name": "stdout",
     "output_type": "stream",
     "text": [
      "coef:  [ 5.60098991e+04 -2.26231281e-01]\n",
      "intercept:  -112233025.58307615\n"
     ]
    }
   ],
   "source": [
    "intercept_coef(model_ridge)"
   ]
  },
  {
   "cell_type": "markdown",
   "id": "3510c8eb",
   "metadata": {},
   "source": [
    "##### 7.4 Для лучшей модели построить график (barh) с важностью коэфициентов при соответствующих признаках"
   ]
  },
  {
   "cell_type": "code",
   "execution_count": 30,
   "id": "56248420",
   "metadata": {},
   "outputs": [
    {
     "name": "stdout",
     "output_type": "stream",
     "text": [
      "     importance  attribute\n",
      "1     -0.226233  km_driven\n",
      "0  56009.852222       year\n"
     ]
    },
    {
     "data": {
      "image/png": "[encoded data removed]",
      "text/plain": [
       "<Figure size 432x288 with 1 Axes>"
      ]
     },
     "metadata": {
      "needs_background": "light"
     },
     "output_type": "display_data"
    }
   ],
   "source": [
    "barh_plot(model_ridge, X_train)"
   ]
  },
  {
   "cell_type": "markdown",
   "id": "d82852e2",
   "metadata": {},
   "source": [
    "#### 8. Модель ElasticNet"
   ]
  },
  {
   "cell_type": "markdown",
   "id": "d799f59d",
   "metadata": {},
   "source": [
    "##### 8.1 Обучить модель регрессии (ElasticNet), с помощью GridSearchCV подобрать параметры alpha и l1_ratio (в пределах 0:1), дальше работаем с лучшей моделью"
   ]
  },
  {
   "cell_type": "code",
   "execution_count": 31,
   "id": "32fffcae",
   "metadata": {},
   "outputs": [
    {
     "name": "stdout",
     "output_type": "stream",
     "text": [
      "{'alpha': 0.91, 'l1_ratio': 0.92}\n"
     ]
    }
   ],
   "source": [
    "model_elastic = ElasticNet()\n",
    "\n",
    "# подбираем параметры\n",
    "parametrs = {\"alpha\": np.arange(0.01, 1, 0.01), \"l1_ratio\": np.arange(0.01, 1, 0.01)}\n",
    "\n",
    "model_elastic = GridSearchCV(model_elastic, parametrs, refit = True)\n",
    "model_elastic.fit(X_train, Y_train)\n",
    "\n",
    "print(model_elastic.best_params_)"
   ]
  },
  {
   "cell_type": "code",
   "execution_count": 32,
   "id": "9cd18983",
   "metadata": {},
   "outputs": [],
   "source": [
    "# обучение модели\n",
    "model_elastic = ElasticNet(alpha = 0.01, l1_ratio = 0.99)\n",
    "model_elastic.fit(X_train, Y_train)\n",
    "pred_elastic_train = model_elastic.predict(X_train)\n",
    "pred_elastic_test = model_elastic.predict(X_test)"
   ]
  },
  {
   "cell_type": "markdown",
   "id": "5a14ba3a",
   "metadata": {},
   "source": [
    "##### 8.2 Для лучшей модели вывести метрики MAE, MSE и R2 на обущающем и тестовом наборе"
   ]
  },
  {
   "cell_type": "code",
   "execution_count": 33,
   "id": "91b72238",
   "metadata": {},
   "outputs": [
    {
     "name": "stdout",
     "output_type": "stream",
     "text": [
      "Метрики на обущающем наборе\n",
      "MAE:  272597.8802175057\n",
      "MSE:  289338590246.31903\n",
      "R2:  0.1663908767115284\n"
     ]
    }
   ],
   "source": [
    "print('Метрики на обущающем наборе')\n",
    "metrics(pred_elastic_train, Y_train)"
   ]
  },
  {
   "cell_type": "code",
   "execution_count": 34,
   "id": "11c5c2af",
   "metadata": {},
   "outputs": [
    {
     "name": "stdout",
     "output_type": "stream",
     "text": [
      "Метрики на тестовом наборе\n",
      "MAE:  259701.93200172653\n",
      "MSE:  240679828010.84235\n",
      "R2:  0.19036691365546388\n"
     ]
    }
   ],
   "source": [
    "print('Метрики на тестовом наборе')\n",
    "metrics(pred_elastic_test, Y_test)"
   ]
  },
  {
   "cell_type": "markdown",
   "id": "4fb38a86",
   "metadata": {},
   "source": [
    "##### 8.3 Для лучшей модели вывести model.coef и model.intercept"
   ]
  },
  {
   "cell_type": "code",
   "execution_count": 35,
   "id": "a00283b6",
   "metadata": {},
   "outputs": [
    {
     "name": "stdout",
     "output_type": "stream",
     "text": [
      "coef:  [ 5.60098991e+04 -2.26231281e-01]\n",
      "intercept:  -112233025.58307615\n"
     ]
    }
   ],
   "source": [
    "intercept_coef(model_elastic)"
   ]
  },
  {
   "cell_type": "markdown",
   "id": "f308c601",
   "metadata": {},
   "source": [
    "##### 8.4 Для лучшей модели построить график (barh) с важностью коэфициентов при соответствующих признаках"
   ]
  },
  {
   "cell_type": "code",
   "execution_count": 36,
   "id": "d9b190d7",
   "metadata": {},
   "outputs": [
    {
     "name": "stdout",
     "output_type": "stream",
     "text": [
      "     importance  attribute\n",
      "1     -0.226245  km_driven\n",
      "0  56009.518014       year\n"
     ]
    },
    {
     "data": {
      "image/png": "[encoded data removed]",
      "text/plain": [
       "<Figure size 432x288 with 1 Axes>"
      ]
     },
     "metadata": {
      "needs_background": "light"
     },
     "output_type": "display_data"
    }
   ],
   "source": [
    "barh_plot(model_elastic, X_train)"
   ]
  },
  {
   "cell_type": "markdown",
   "id": "fbe84d2e",
   "metadata": {},
   "source": [
    "#### 9. Выбрать лучшую модель, указать значения MAE, MSE и R2 на тестовом наборе"
   ]
  },
  {
   "cell_type": "markdown",
   "id": "25a1df86",
   "metadata": {},
   "source": [
    "Лучшая модель Lasso Regression\n",
    "\n",
    "метрики на тестовом наборе\n",
    "- MAE:  1.5742570476962772\n",
    "- MSE:  4.652489607344447\n",
    "- R2:  0.5109824651892559"
   ]
  },
  {
   "cell_type": "markdown",
   "id": "3115d2ec",
   "metadata": {},
   "source": [
    "#### 10. Возвращаем категориальные / бинарные признаки на место в датасет.\n",
    "\n",
    "Категориальные признаки преобразуем в набор бинарных через pd.get_dummies( ..., drop_first = True ). Обучаем лучшую модель."
   ]
  },
  {
   "cell_type": "code",
   "execution_count": 37,
   "id": "90efeda5",
   "metadata": {},
   "outputs": [
    {
     "data": {
      "text/html": [
       "<div>\n",
       "<style scoped>\n",
       "    .dataframe tbody tr th:only-of-type {\n",
       "        vertical-align: middle;\n",
       "    }\n",
       "\n",
       "    .dataframe tbody tr th {\n",
       "        vertical-align: top;\n",
       "    }\n",
       "\n",
       "    .dataframe thead th {\n",
       "        text-align: right;\n",
       "    }\n",
       "</style>\n",
       "<table border=\"1\" class=\"dataframe\">\n",
       "  <thead>\n",
       "    <tr style=\"text-align: right;\">\n",
       "      <th></th>\n",
       "      <th>year</th>\n",
       "      <th>selling_price</th>\n",
       "      <th>km_driven</th>\n",
       "      <th>name_Ambassador Classic 2000 Dsz</th>\n",
       "      <th>name_Ambassador Grand 1800 ISZ MPFI PW CL</th>\n",
       "      <th>name_Audi A4 1.8 TFSI</th>\n",
       "      <th>name_Audi A4 2.0 TDI</th>\n",
       "      <th>name_Audi A4 2.0 TDI 177 Bhp Premium Plus</th>\n",
       "      <th>name_Audi A4 3.0 TDI Quattro</th>\n",
       "      <th>name_Audi A4 30 TFSI Technology</th>\n",
       "      <th>...</th>\n",
       "      <th>fuel_Electric</th>\n",
       "      <th>fuel_LPG</th>\n",
       "      <th>fuel_Petrol</th>\n",
       "      <th>seller_type_Individual</th>\n",
       "      <th>seller_type_Trustmark Dealer</th>\n",
       "      <th>transmission_Manual</th>\n",
       "      <th>owner_Fourth &amp; Above Owner</th>\n",
       "      <th>owner_Second Owner</th>\n",
       "      <th>owner_Test Drive Car</th>\n",
       "      <th>owner_Third Owner</th>\n",
       "    </tr>\n",
       "  </thead>\n",
       "  <tbody>\n",
       "    <tr>\n",
       "      <th>0</th>\n",
       "      <td>2007</td>\n",
       "      <td>60000</td>\n",
       "      <td>70000</td>\n",
       "      <td>0</td>\n",
       "      <td>0</td>\n",
       "      <td>0</td>\n",
       "      <td>0</td>\n",
       "      <td>0</td>\n",
       "      <td>0</td>\n",
       "      <td>0</td>\n",
       "      <td>...</td>\n",
       "      <td>0</td>\n",
       "      <td>0</td>\n",
       "      <td>1</td>\n",
       "      <td>1</td>\n",
       "      <td>0</td>\n",
       "      <td>1</td>\n",
       "      <td>0</td>\n",
       "      <td>0</td>\n",
       "      <td>0</td>\n",
       "      <td>0</td>\n",
       "    </tr>\n",
       "    <tr>\n",
       "      <th>1</th>\n",
       "      <td>2007</td>\n",
       "      <td>135000</td>\n",
       "      <td>50000</td>\n",
       "      <td>0</td>\n",
       "      <td>0</td>\n",
       "      <td>0</td>\n",
       "      <td>0</td>\n",
       "      <td>0</td>\n",
       "      <td>0</td>\n",
       "      <td>0</td>\n",
       "      <td>...</td>\n",
       "      <td>0</td>\n",
       "      <td>0</td>\n",
       "      <td>1</td>\n",
       "      <td>1</td>\n",
       "      <td>0</td>\n",
       "      <td>1</td>\n",
       "      <td>0</td>\n",
       "      <td>0</td>\n",
       "      <td>0</td>\n",
       "      <td>0</td>\n",
       "    </tr>\n",
       "    <tr>\n",
       "      <th>2</th>\n",
       "      <td>2012</td>\n",
       "      <td>600000</td>\n",
       "      <td>100000</td>\n",
       "      <td>0</td>\n",
       "      <td>0</td>\n",
       "      <td>0</td>\n",
       "      <td>0</td>\n",
       "      <td>0</td>\n",
       "      <td>0</td>\n",
       "      <td>0</td>\n",
       "      <td>...</td>\n",
       "      <td>0</td>\n",
       "      <td>0</td>\n",
       "      <td>0</td>\n",
       "      <td>1</td>\n",
       "      <td>0</td>\n",
       "      <td>1</td>\n",
       "      <td>0</td>\n",
       "      <td>0</td>\n",
       "      <td>0</td>\n",
       "      <td>0</td>\n",
       "    </tr>\n",
       "    <tr>\n",
       "      <th>3</th>\n",
       "      <td>2017</td>\n",
       "      <td>250000</td>\n",
       "      <td>46000</td>\n",
       "      <td>0</td>\n",
       "      <td>0</td>\n",
       "      <td>0</td>\n",
       "      <td>0</td>\n",
       "      <td>0</td>\n",
       "      <td>0</td>\n",
       "      <td>0</td>\n",
       "      <td>...</td>\n",
       "      <td>0</td>\n",
       "      <td>0</td>\n",
       "      <td>1</td>\n",
       "      <td>1</td>\n",
       "      <td>0</td>\n",
       "      <td>1</td>\n",
       "      <td>0</td>\n",
       "      <td>0</td>\n",
       "      <td>0</td>\n",
       "      <td>0</td>\n",
       "    </tr>\n",
       "    <tr>\n",
       "      <th>4</th>\n",
       "      <td>2014</td>\n",
       "      <td>450000</td>\n",
       "      <td>141000</td>\n",
       "      <td>0</td>\n",
       "      <td>0</td>\n",
       "      <td>0</td>\n",
       "      <td>0</td>\n",
       "      <td>0</td>\n",
       "      <td>0</td>\n",
       "      <td>0</td>\n",
       "      <td>...</td>\n",
       "      <td>0</td>\n",
       "      <td>0</td>\n",
       "      <td>0</td>\n",
       "      <td>1</td>\n",
       "      <td>0</td>\n",
       "      <td>1</td>\n",
       "      <td>0</td>\n",
       "      <td>1</td>\n",
       "      <td>0</td>\n",
       "      <td>0</td>\n",
       "    </tr>\n",
       "    <tr>\n",
       "      <th>...</th>\n",
       "      <td>...</td>\n",
       "      <td>...</td>\n",
       "      <td>...</td>\n",
       "      <td>...</td>\n",
       "      <td>...</td>\n",
       "      <td>...</td>\n",
       "      <td>...</td>\n",
       "      <td>...</td>\n",
       "      <td>...</td>\n",
       "      <td>...</td>\n",
       "      <td>...</td>\n",
       "      <td>...</td>\n",
       "      <td>...</td>\n",
       "      <td>...</td>\n",
       "      <td>...</td>\n",
       "      <td>...</td>\n",
       "      <td>...</td>\n",
       "      <td>...</td>\n",
       "      <td>...</td>\n",
       "      <td>...</td>\n",
       "      <td>...</td>\n",
       "    </tr>\n",
       "    <tr>\n",
       "      <th>4335</th>\n",
       "      <td>2014</td>\n",
       "      <td>409999</td>\n",
       "      <td>80000</td>\n",
       "      <td>0</td>\n",
       "      <td>0</td>\n",
       "      <td>0</td>\n",
       "      <td>0</td>\n",
       "      <td>0</td>\n",
       "      <td>0</td>\n",
       "      <td>0</td>\n",
       "      <td>...</td>\n",
       "      <td>0</td>\n",
       "      <td>0</td>\n",
       "      <td>0</td>\n",
       "      <td>1</td>\n",
       "      <td>0</td>\n",
       "      <td>1</td>\n",
       "      <td>0</td>\n",
       "      <td>1</td>\n",
       "      <td>0</td>\n",
       "      <td>0</td>\n",
       "    </tr>\n",
       "    <tr>\n",
       "      <th>4336</th>\n",
       "      <td>2014</td>\n",
       "      <td>409999</td>\n",
       "      <td>80000</td>\n",
       "      <td>0</td>\n",
       "      <td>0</td>\n",
       "      <td>0</td>\n",
       "      <td>0</td>\n",
       "      <td>0</td>\n",
       "      <td>0</td>\n",
       "      <td>0</td>\n",
       "      <td>...</td>\n",
       "      <td>0</td>\n",
       "      <td>0</td>\n",
       "      <td>0</td>\n",
       "      <td>1</td>\n",
       "      <td>0</td>\n",
       "      <td>1</td>\n",
       "      <td>0</td>\n",
       "      <td>1</td>\n",
       "      <td>0</td>\n",
       "      <td>0</td>\n",
       "    </tr>\n",
       "    <tr>\n",
       "      <th>4337</th>\n",
       "      <td>2009</td>\n",
       "      <td>110000</td>\n",
       "      <td>83000</td>\n",
       "      <td>0</td>\n",
       "      <td>0</td>\n",
       "      <td>0</td>\n",
       "      <td>0</td>\n",
       "      <td>0</td>\n",
       "      <td>0</td>\n",
       "      <td>0</td>\n",
       "      <td>...</td>\n",
       "      <td>0</td>\n",
       "      <td>0</td>\n",
       "      <td>1</td>\n",
       "      <td>1</td>\n",
       "      <td>0</td>\n",
       "      <td>1</td>\n",
       "      <td>0</td>\n",
       "      <td>1</td>\n",
       "      <td>0</td>\n",
       "      <td>0</td>\n",
       "    </tr>\n",
       "    <tr>\n",
       "      <th>4338</th>\n",
       "      <td>2016</td>\n",
       "      <td>865000</td>\n",
       "      <td>90000</td>\n",
       "      <td>0</td>\n",
       "      <td>0</td>\n",
       "      <td>0</td>\n",
       "      <td>0</td>\n",
       "      <td>0</td>\n",
       "      <td>0</td>\n",
       "      <td>0</td>\n",
       "      <td>...</td>\n",
       "      <td>0</td>\n",
       "      <td>0</td>\n",
       "      <td>0</td>\n",
       "      <td>1</td>\n",
       "      <td>0</td>\n",
       "      <td>1</td>\n",
       "      <td>0</td>\n",
       "      <td>0</td>\n",
       "      <td>0</td>\n",
       "      <td>0</td>\n",
       "    </tr>\n",
       "    <tr>\n",
       "      <th>4339</th>\n",
       "      <td>2016</td>\n",
       "      <td>225000</td>\n",
       "      <td>40000</td>\n",
       "      <td>0</td>\n",
       "      <td>0</td>\n",
       "      <td>0</td>\n",
       "      <td>0</td>\n",
       "      <td>0</td>\n",
       "      <td>0</td>\n",
       "      <td>0</td>\n",
       "      <td>...</td>\n",
       "      <td>0</td>\n",
       "      <td>0</td>\n",
       "      <td>1</td>\n",
       "      <td>1</td>\n",
       "      <td>0</td>\n",
       "      <td>1</td>\n",
       "      <td>0</td>\n",
       "      <td>0</td>\n",
       "      <td>0</td>\n",
       "      <td>0</td>\n",
       "    </tr>\n",
       "  </tbody>\n",
       "</table>\n",
       "<p>4340 rows × 1504 columns</p>\n",
       "</div>"
      ],
      "text/plain": [
       "      year  selling_price  km_driven  name_Ambassador Classic 2000 Dsz  \\\n",
       "0     2007          60000      70000                                 0   \n",
       "1     2007         135000      50000                                 0   \n",
       "2     2012         600000     100000                                 0   \n",
       "3     2017         250000      46000                                 0   \n",
       "4     2014         450000     141000                                 0   \n",
       "...    ...            ...        ...                               ...   \n",
       "4335  2014         409999      80000                                 0   \n",
       "4336  2014         409999      80000                                 0   \n",
       "4337  2009         110000      83000                                 0   \n",
       "4338  2016         865000      90000                                 0   \n",
       "4339  2016         225000      40000                                 0   \n",
       "\n",
       "      name_Ambassador Grand 1800 ISZ MPFI PW CL  name_Audi A4 1.8 TFSI  \\\n",
       "0                                             0                      0   \n",
       "1                                             0                      0   \n",
       "2                                             0                      0   \n",
       "3                                             0                      0   \n",
       "4                                             0                      0   \n",
       "...                                         ...                    ...   \n",
       "4335                                          0                      0   \n",
       "4336                                          0                      0   \n",
       "4337                                          0                      0   \n",
       "4338                                          0                      0   \n",
       "4339                                          0                      0   \n",
       "\n",
       "      name_Audi A4 2.0 TDI  name_Audi A4 2.0 TDI 177 Bhp Premium Plus  \\\n",
       "0                        0                                          0   \n",
       "1                        0                                          0   \n",
       "2                        0                                          0   \n",
       "3                        0                                          0   \n",
       "4                        0                                          0   \n",
       "...                    ...                                        ...   \n",
       "4335                     0                                          0   \n",
       "4336                     0                                          0   \n",
       "4337                     0                                          0   \n",
       "4338                     0                                          0   \n",
       "4339                     0                                          0   \n",
       "\n",
       "      name_Audi A4 3.0 TDI Quattro  name_Audi A4 30 TFSI Technology  ...  \\\n",
       "0                                0                                0  ...   \n",
       "1                                0                                0  ...   \n",
       "2                                0                                0  ...   \n",
       "3                                0                                0  ...   \n",
       "4                                0                                0  ...   \n",
       "...                            ...                              ...  ...   \n",
       "4335                             0                                0  ...   \n",
       "4336                             0                                0  ...   \n",
       "4337                             0                                0  ...   \n",
       "4338                             0                                0  ...   \n",
       "4339                             0                                0  ...   \n",
       "\n",
       "      fuel_Electric  fuel_LPG  fuel_Petrol  seller_type_Individual  \\\n",
       "0                 0         0            1                       1   \n",
       "1                 0         0            1                       1   \n",
       "2                 0         0            0                       1   \n",
       "3                 0         0            1                       1   \n",
       "4                 0         0            0                       1   \n",
       "...             ...       ...          ...                     ...   \n",
       "4335              0         0            0                       1   \n",
       "4336              0         0            0                       1   \n",
       "4337              0         0            1                       1   \n",
       "4338              0         0            0                       1   \n",
       "4339              0         0            1                       1   \n",
       "\n",
       "      seller_type_Trustmark Dealer  transmission_Manual  \\\n",
       "0                                0                    1   \n",
       "1                                0                    1   \n",
       "2                                0                    1   \n",
       "3                                0                    1   \n",
       "4                                0                    1   \n",
       "...                            ...                  ...   \n",
       "4335                             0                    1   \n",
       "4336                             0                    1   \n",
       "4337                             0                    1   \n",
       "4338                             0                    1   \n",
       "4339                             0                    1   \n",
       "\n",
       "      owner_Fourth & Above Owner  owner_Second Owner  owner_Test Drive Car  \\\n",
       "0                              0                   0                     0   \n",
       "1                              0                   0                     0   \n",
       "2                              0                   0                     0   \n",
       "3                              0                   0                     0   \n",
       "4                              0                   1                     0   \n",
       "...                          ...                 ...                   ...   \n",
       "4335                           0                   1                     0   \n",
       "4336                           0                   1                     0   \n",
       "4337                           0                   1                     0   \n",
       "4338                           0                   0                     0   \n",
       "4339                           0                   0                     0   \n",
       "\n",
       "      owner_Third Owner  \n",
       "0                     0  \n",
       "1                     0  \n",
       "2                     0  \n",
       "3                     0  \n",
       "4                     0  \n",
       "...                 ...  \n",
       "4335                  0  \n",
       "4336                  0  \n",
       "4337                  0  \n",
       "4338                  0  \n",
       "4339                  0  \n",
       "\n",
       "[4340 rows x 1504 columns]"
      ]
     },
     "execution_count": 37,
     "metadata": {},
     "output_type": "execute_result"
    }
   ],
   "source": [
    "df_full = get_dummies(df, drop_first = True)\n",
    "df_full"
   ]
  },
  {
   "cell_type": "code",
   "execution_count": 38,
   "id": "25bf2559",
   "metadata": {},
   "outputs": [
    {
     "name": "stdout",
     "output_type": "stream",
     "text": [
      "Name is not exist: name_Ambassador CLASSIC 1500 DSL AC\n"
     ]
    },
    {
     "data": {
      "text/html": [
       "<div>\n",
       "<style scoped>\n",
       "    .dataframe tbody tr th:only-of-type {\n",
       "        vertical-align: middle;\n",
       "    }\n",
       "\n",
       "    .dataframe tbody tr th {\n",
       "        vertical-align: top;\n",
       "    }\n",
       "\n",
       "    .dataframe thead th {\n",
       "        text-align: right;\n",
       "    }\n",
       "</style>\n",
       "<table border=\"1\" class=\"dataframe\">\n",
       "  <thead>\n",
       "    <tr style=\"text-align: right;\">\n",
       "      <th></th>\n",
       "      <th>year</th>\n",
       "      <th>selling_price</th>\n",
       "      <th>km_driven</th>\n",
       "      <th>fuel_Diesel</th>\n",
       "      <th>fuel_Electric</th>\n",
       "      <th>fuel_LPG</th>\n",
       "      <th>fuel_Petrol</th>\n",
       "      <th>seller_type_Individual</th>\n",
       "      <th>seller_type_Trustmark Dealer</th>\n",
       "      <th>transmission_Manual</th>\n",
       "      <th>owner_Fourth &amp; Above Owner</th>\n",
       "      <th>owner_Second Owner</th>\n",
       "      <th>owner_Test Drive Car</th>\n",
       "      <th>owner_Third Owner</th>\n",
       "    </tr>\n",
       "  </thead>\n",
       "  <tbody>\n",
       "    <tr>\n",
       "      <th>0</th>\n",
       "      <td>2007</td>\n",
       "      <td>60000</td>\n",
       "      <td>70000</td>\n",
       "      <td>0</td>\n",
       "      <td>0</td>\n",
       "      <td>0</td>\n",
       "      <td>1</td>\n",
       "      <td>1</td>\n",
       "      <td>0</td>\n",
       "      <td>1</td>\n",
       "      <td>0</td>\n",
       "      <td>0</td>\n",
       "      <td>0</td>\n",
       "      <td>0</td>\n",
       "    </tr>\n",
       "    <tr>\n",
       "      <th>1</th>\n",
       "      <td>2007</td>\n",
       "      <td>135000</td>\n",
       "      <td>50000</td>\n",
       "      <td>0</td>\n",
       "      <td>0</td>\n",
       "      <td>0</td>\n",
       "      <td>1</td>\n",
       "      <td>1</td>\n",
       "      <td>0</td>\n",
       "      <td>1</td>\n",
       "      <td>0</td>\n",
       "      <td>0</td>\n",
       "      <td>0</td>\n",
       "      <td>0</td>\n",
       "    </tr>\n",
       "    <tr>\n",
       "      <th>2</th>\n",
       "      <td>2012</td>\n",
       "      <td>600000</td>\n",
       "      <td>100000</td>\n",
       "      <td>1</td>\n",
       "      <td>0</td>\n",
       "      <td>0</td>\n",
       "      <td>0</td>\n",
       "      <td>1</td>\n",
       "      <td>0</td>\n",
       "      <td>1</td>\n",
       "      <td>0</td>\n",
       "      <td>0</td>\n",
       "      <td>0</td>\n",
       "      <td>0</td>\n",
       "    </tr>\n",
       "    <tr>\n",
       "      <th>3</th>\n",
       "      <td>2017</td>\n",
       "      <td>250000</td>\n",
       "      <td>46000</td>\n",
       "      <td>0</td>\n",
       "      <td>0</td>\n",
       "      <td>0</td>\n",
       "      <td>1</td>\n",
       "      <td>1</td>\n",
       "      <td>0</td>\n",
       "      <td>1</td>\n",
       "      <td>0</td>\n",
       "      <td>0</td>\n",
       "      <td>0</td>\n",
       "      <td>0</td>\n",
       "    </tr>\n",
       "    <tr>\n",
       "      <th>4</th>\n",
       "      <td>2014</td>\n",
       "      <td>450000</td>\n",
       "      <td>141000</td>\n",
       "      <td>1</td>\n",
       "      <td>0</td>\n",
       "      <td>0</td>\n",
       "      <td>0</td>\n",
       "      <td>1</td>\n",
       "      <td>0</td>\n",
       "      <td>1</td>\n",
       "      <td>0</td>\n",
       "      <td>1</td>\n",
       "      <td>0</td>\n",
       "      <td>0</td>\n",
       "    </tr>\n",
       "  </tbody>\n",
       "</table>\n",
       "</div>"
      ],
      "text/plain": [
       "   year  selling_price  km_driven  fuel_Diesel  fuel_Electric  fuel_LPG  \\\n",
       "0  2007          60000      70000            0              0         0   \n",
       "1  2007         135000      50000            0              0         0   \n",
       "2  2012         600000     100000            1              0         0   \n",
       "3  2017         250000      46000            0              0         0   \n",
       "4  2014         450000     141000            1              0         0   \n",
       "\n",
       "   fuel_Petrol  seller_type_Individual  seller_type_Trustmark Dealer  \\\n",
       "0            1                       1                             0   \n",
       "1            1                       1                             0   \n",
       "2            0                       1                             0   \n",
       "3            1                       1                             0   \n",
       "4            0                       1                             0   \n",
       "\n",
       "   transmission_Manual  owner_Fourth & Above Owner  owner_Second Owner  \\\n",
       "0                    1                           0                   0   \n",
       "1                    1                           0                   0   \n",
       "2                    1                           0                   0   \n",
       "3                    1                           0                   0   \n",
       "4                    1                           0                   1   \n",
       "\n",
       "   owner_Test Drive Car  owner_Third Owner  \n",
       "0                     0                  0  \n",
       "1                     0                  0  \n",
       "2                     0                  0  \n",
       "3                     0                  0  \n",
       "4                     0                  0  "
      ]
     },
     "execution_count": 38,
     "metadata": {},
     "output_type": "execute_result"
    }
   ],
   "source": [
    "# Убирамем названия автомобилей\n",
    "for i in np.unique(df['name']):\n",
    "    name = 'name_'+ i\n",
    "    if df_full.get(name, None) is not None:\n",
    "        df_full.drop(columns = name, inplace = True)\n",
    "    else:\n",
    "        print(f'Name is not exist: {name}')\n",
    "\n",
    "df_full.head()"
   ]
  },
  {
   "cell_type": "code",
   "execution_count": 39,
   "id": "3b0ffc07",
   "metadata": {},
   "outputs": [],
   "source": [
    "X = df_full.drop('selling_price', axis = 1)\n",
    "#Y = df_new.selling_price\n",
    "X_train, X_test, Y_train, Y_test = train_test_split(X, Y, train_size = 0.75, random_state = 25)"
   ]
  },
  {
   "cell_type": "code",
   "execution_count": 40,
   "id": "9348df51",
   "metadata": {},
   "outputs": [],
   "source": [
    "model_best = Lasso(alpha = 0.01)\n",
    "model_best.fit(X_train, Y_train)\n",
    "pred_best_test = model_best.predict(X_test)"
   ]
  },
  {
   "cell_type": "markdown",
   "id": "b7221635",
   "metadata": {},
   "source": [
    "#### 11. Как изменились метрики MAE и MSE на тестовом наборе, вывести их и сделать выводы"
   ]
  },
  {
   "cell_type": "code",
   "execution_count": 41,
   "id": "0809f35e",
   "metadata": {},
   "outputs": [
    {
     "name": "stdout",
     "output_type": "stream",
     "text": [
      "Метрики на тестовом наборе\n",
      "MAE:  240202.59009690647\n",
      "MSE:  164218917306.79138\n",
      "R2:  0.447577015680491\n"
     ]
    }
   ],
   "source": [
    "print('Метрики на тестовом наборе')\n",
    "metrics(pred_best_test, Y_test)"
   ]
  },
  {
   "cell_type": "markdown",
   "id": "a819884d",
   "metadata": {},
   "source": [
    "Значения метрик MAE и MSE улучшились, значительно "
   ]
  },
  {
   "cell_type": "markdown",
   "id": "0ae5605d",
   "metadata": {},
   "source": [
    "#### 12. Прогоняем датасет, который уже обогащён бинарными признаками, через StandardScaler, обучаем найденную на предыдущих шагах лучшую модель. \n",
    "\n",
    "Как изменились MAE, MSE и R2 на тестовом наборе, вывести метрики и сделать выводы."
   ]
  },
  {
   "cell_type": "code",
   "execution_count": 42,
   "id": "59c22113",
   "metadata": {},
   "outputs": [],
   "source": [
    "scaler = StandardScaler()\n",
    "X_new_train = scaler.fit_transform(X_train)\n",
    "X_new_test = scaler.fit_transform(X_test)"
   ]
  },
  {
   "cell_type": "code",
   "execution_count": 43,
   "id": "ee4e5af4",
   "metadata": {},
   "outputs": [
    {
     "name": "stdout",
     "output_type": "stream",
     "text": [
      "Метрики на тестовом наборе\n",
      "MAE:  235009.042167006\n",
      "MSE:  161625340394.456\n",
      "R2:  0.45630165911056464\n"
     ]
    }
   ],
   "source": [
    "model_scaler = Lasso(alpha = 0.01)\n",
    "model_scaler.fit(X_new_train, Y_train)\n",
    "pred_scaler_test = model_scaler.predict(X_new_test)\n",
    "\n",
    "print('Метрики на тестовом наборе')\n",
    "metrics(pred_scaler_test, Y_test)"
   ]
  },
  {
   "cell_type": "markdown",
   "id": "046eff43",
   "metadata": {},
   "source": [
    "Значение метрики R2 стало больше. Значение метрик MAE и MSE незначительно уменьшилось."
   ]
  },
  {
   "cell_type": "markdown",
   "id": "bfdcbf88",
   "metadata": {},
   "source": [
    "#### 13. Построить график (barh) с важностью коэфициентов при соответствующих признаках для задания 12"
   ]
  },
  {
   "cell_type": "code",
   "execution_count": 44,
   "id": "319d307b",
   "metadata": {},
   "outputs": [
    {
     "data": {
      "text/html": [
       "<div>\n",
       "<style scoped>\n",
       "    .dataframe tbody tr th:only-of-type {\n",
       "        vertical-align: middle;\n",
       "    }\n",
       "\n",
       "    .dataframe tbody tr th {\n",
       "        vertical-align: top;\n",
       "    }\n",
       "\n",
       "    .dataframe thead th {\n",
       "        text-align: right;\n",
       "    }\n",
       "</style>\n",
       "<table border=\"1\" class=\"dataframe\">\n",
       "  <thead>\n",
       "    <tr style=\"text-align: right;\">\n",
       "      <th></th>\n",
       "      <th>year</th>\n",
       "      <th>km_driven</th>\n",
       "      <th>fuel_Diesel</th>\n",
       "      <th>fuel_Electric</th>\n",
       "      <th>fuel_LPG</th>\n",
       "      <th>fuel_Petrol</th>\n",
       "      <th>seller_type_Individual</th>\n",
       "      <th>seller_type_Trustmark Dealer</th>\n",
       "      <th>transmission_Manual</th>\n",
       "      <th>owner_Fourth &amp; Above Owner</th>\n",
       "      <th>owner_Second Owner</th>\n",
       "      <th>owner_Test Drive Car</th>\n",
       "      <th>owner_Third Owner</th>\n",
       "    </tr>\n",
       "  </thead>\n",
       "  <tbody>\n",
       "    <tr>\n",
       "      <th>0</th>\n",
       "      <td>-0.250134</td>\n",
       "      <td>1.326595</td>\n",
       "      <td>1.022056</td>\n",
       "      <td>-0.01753</td>\n",
       "      <td>-0.07457</td>\n",
       "      <td>-0.988089</td>\n",
       "      <td>-1.721824</td>\n",
       "      <td>-0.143862</td>\n",
       "      <td>0.330767</td>\n",
       "      <td>-0.14497</td>\n",
       "      <td>-0.594027</td>\n",
       "      <td>-0.063324</td>\n",
       "      <td>-0.274449</td>\n",
       "    </tr>\n",
       "    <tr>\n",
       "      <th>1</th>\n",
       "      <td>-0.487783</td>\n",
       "      <td>-0.082971</td>\n",
       "      <td>1.022056</td>\n",
       "      <td>-0.01753</td>\n",
       "      <td>-0.07457</td>\n",
       "      <td>-0.988089</td>\n",
       "      <td>-1.721824</td>\n",
       "      <td>-0.143862</td>\n",
       "      <td>0.330767</td>\n",
       "      <td>-0.14497</td>\n",
       "      <td>1.683426</td>\n",
       "      <td>-0.063324</td>\n",
       "      <td>-0.274449</td>\n",
       "    </tr>\n",
       "    <tr>\n",
       "      <th>2</th>\n",
       "      <td>1.175760</td>\n",
       "      <td>-1.189177</td>\n",
       "      <td>-0.978420</td>\n",
       "      <td>-0.01753</td>\n",
       "      <td>-0.07457</td>\n",
       "      <td>1.012054</td>\n",
       "      <td>-1.721824</td>\n",
       "      <td>-0.143862</td>\n",
       "      <td>0.330767</td>\n",
       "      <td>-0.14497</td>\n",
       "      <td>-0.594027</td>\n",
       "      <td>-0.063324</td>\n",
       "      <td>-0.274449</td>\n",
       "    </tr>\n",
       "    <tr>\n",
       "      <th>3</th>\n",
       "      <td>0.225164</td>\n",
       "      <td>3.731875</td>\n",
       "      <td>1.022056</td>\n",
       "      <td>-0.01753</td>\n",
       "      <td>-0.07457</td>\n",
       "      <td>-0.988089</td>\n",
       "      <td>0.580780</td>\n",
       "      <td>-0.143862</td>\n",
       "      <td>0.330767</td>\n",
       "      <td>-0.14497</td>\n",
       "      <td>-0.594027</td>\n",
       "      <td>-0.063324</td>\n",
       "      <td>-0.274449</td>\n",
       "    </tr>\n",
       "    <tr>\n",
       "      <th>4</th>\n",
       "      <td>-0.487783</td>\n",
       "      <td>-0.558273</td>\n",
       "      <td>-0.978420</td>\n",
       "      <td>-0.01753</td>\n",
       "      <td>-0.07457</td>\n",
       "      <td>1.012054</td>\n",
       "      <td>0.580780</td>\n",
       "      <td>-0.143862</td>\n",
       "      <td>0.330767</td>\n",
       "      <td>-0.14497</td>\n",
       "      <td>1.683426</td>\n",
       "      <td>-0.063324</td>\n",
       "      <td>-0.274449</td>\n",
       "    </tr>\n",
       "  </tbody>\n",
       "</table>\n",
       "</div>"
      ],
      "text/plain": [
       "       year  km_driven  fuel_Diesel  fuel_Electric  fuel_LPG  fuel_Petrol  \\\n",
       "0 -0.250134   1.326595     1.022056       -0.01753  -0.07457    -0.988089   \n",
       "1 -0.487783  -0.082971     1.022056       -0.01753  -0.07457    -0.988089   \n",
       "2  1.175760  -1.189177    -0.978420       -0.01753  -0.07457     1.012054   \n",
       "3  0.225164   3.731875     1.022056       -0.01753  -0.07457    -0.988089   \n",
       "4 -0.487783  -0.558273    -0.978420       -0.01753  -0.07457     1.012054   \n",
       "\n",
       "   seller_type_Individual  seller_type_Trustmark Dealer  transmission_Manual  \\\n",
       "0               -1.721824                     -0.143862             0.330767   \n",
       "1               -1.721824                     -0.143862             0.330767   \n",
       "2               -1.721824                     -0.143862             0.330767   \n",
       "3                0.580780                     -0.143862             0.330767   \n",
       "4                0.580780                     -0.143862             0.330767   \n",
       "\n",
       "   owner_Fourth & Above Owner  owner_Second Owner  owner_Test Drive Car  \\\n",
       "0                    -0.14497           -0.594027             -0.063324   \n",
       "1                    -0.14497            1.683426             -0.063324   \n",
       "2                    -0.14497           -0.594027             -0.063324   \n",
       "3                    -0.14497           -0.594027             -0.063324   \n",
       "4                    -0.14497            1.683426             -0.063324   \n",
       "\n",
       "   owner_Third Owner  \n",
       "0          -0.274449  \n",
       "1          -0.274449  \n",
       "2          -0.274449  \n",
       "3          -0.274449  \n",
       "4          -0.274449  "
      ]
     },
     "execution_count": 44,
     "metadata": {},
     "output_type": "execute_result"
    }
   ],
   "source": [
    "X_scaler = pd.DataFrame(X_new_train, columns = X_train.columns)\n",
    "X_scaler.head()"
   ]
  },
  {
   "cell_type": "code",
   "execution_count": 45,
   "id": "f786548a",
   "metadata": {},
   "outputs": [
    {
     "name": "stdout",
     "output_type": "stream",
     "text": [
      "       importance                     attribute\n",
      "8  -273176.302505           transmission_Manual\n",
      "1   -41438.444847                     km_driven\n",
      "6   -35343.228029        seller_type_Individual\n",
      "10  -19381.720180            owner_Second Owner\n",
      "3   -11469.212316                 fuel_Electric\n",
      "12  -11040.964808             owner_Third Owner\n",
      "9     -902.886549    owner_Fourth & Above Owner\n",
      "5      383.863055                   fuel_Petrol\n",
      "4     3039.505196                      fuel_LPG\n",
      "11   10528.410305          owner_Test Drive Car\n",
      "7    16739.540382  seller_type_Trustmark Dealer\n",
      "2   144965.717837                   fuel_Diesel\n",
      "0   151703.348442                          year\n"
     ]
    },
    {
     "data": {
      "image/png": "[encoded data removed]",
      "text/plain": [
       "<Figure size 432x288 with 1 Axes>"
      ]
     },
     "metadata": {
      "needs_background": "light"
     },
     "output_type": "display_data"
    }
   ],
   "source": [
    "barh_plot(model_scaler, X_scaler)"
   ]
  }
 ],
 "metadata": {
  "kernelspec": {
   "display_name": "Python 3 (ipykernel)",
   "language": "python",
   "name": "python3"
  },
  "language_info": {
   "codemirror_mode": {
    "name": "ipython",
    "version": 3
   },
   "file_extension": ".py",
   "mimetype": "text/x-python",
   "name": "python",
   "nbconvert_exporter": "python",
   "pygments_lexer": "ipython3",
   "version": "3.10.2"
  }
 },
 "nbformat": 4,
 "nbformat_minor": 5
}
