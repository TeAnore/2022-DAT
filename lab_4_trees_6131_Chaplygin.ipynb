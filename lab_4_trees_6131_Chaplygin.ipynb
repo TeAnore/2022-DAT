{
 "cells": [
  {
   "cell_type": "markdown",
   "id": "d98aac13-3370-4a08-ada9-671d20822dfd",
   "metadata": {},
   "source": [
    "<h1>Лабораторная работа 4</h1>\n",
    "<h2>Деревья решений</h2>\n",
    "\n",
    "Выполнил: 6131 Чаплыгин Алексей Олегович"
   ]
  },
  {
   "cell_type": "markdown",
   "id": "4fb431d8-71ad-44a4-a1c8-eba6735262d9",
   "metadata": {},
   "source": [
    "Выберите набор данных для классификации (бинарной или многоклассовой — не важно). Опишите данные, что обозначает каждый столбец, какого типа (категориальный, вещественный, целочисленный, бинарный) данный столбец, при необходимости для категориальных в том числе бинарных признаков привести расшифровку их значений. В общем, проведите \"визуальный\" анализ ваших данных.\n",
    "<ol>\n",
    "    <li>Для вашего датасета преобразовать категориальные признаки в бинарные с помощью pd.factorize / pd.get_dummies</li>\n",
    "    <li>С помощью sklearn.preprocessing.StandardScaler нормализовать значения признаков и построить для нормализованного датасета KNeighborsClassifier (без использования конвееров)</li>\n",
    "    <li>То же самое и использованием sklearn.pipeline.Pipeline</li>\n",
    "    <li>С помощью GridSearchCV произвести подбор гиперпараметра KNeighborsClassifier (n_neighbors) и выведите значение гиперпараметра и метрику для наилучшей модели</li>\n",
    "</ol>"
   ]
  },
  {
   "cell_type": "markdown",
   "id": "ec3b6748-966b-4ca9-be2a-67d611af87db",
   "metadata": {},
   "source": [
    "<h2>0. Набор данных</h2>\n",
    "Выберите набор данных для классификации (бинарной или многоклассовой — не важно). Опишите данные, что обозначает каждый столбец, какого типа (категориальный, вещественный, целочисленный, бинарный) данный столбец, при необходимости для категориальных в том числе бинарных признаков привести расшифровку их значений. В общем, проведите \"визуальный\" анализ ваших данных.. В общем, проведите \"визуальный\" анализ ваших данных.</br>\n",
    "Используемый в работе набор данных доступен по следующей ссылке: https://www.kaggle.com/rankirsh/evolution-of-top-games-on-twitch и описывает рейтинг популярных 200 игр, транслируемых на платформе Twitch с 2016 по 2021 года.\n",
    "В наборе данных содержится таблица с 12 столбцами.</br>\n",
    "<table border=\"1\">\n",
    "   <caption>Top games on Twitch 2016 - 2021</caption>\n",
    "   <tr>\n",
    "    <th>Номер столбца</th>\n",
    "    <th>Название столбца</th>\n",
    "    <th>Описание столбца</th>\n",
    "   </tr>\n",
    "   <tr><td>1</td><td>Rank</td><td>Значение рейтинга</td></tr>\n",
    "   <tr><td>2</td><td>Game</td><td>Наименование игры</td></tr>\n",
    "   <tr><td>3</td><td>Month</td><td>Месяц</td></tr>\n",
    "   <tr><td>4</td><td>Year</td><td>Год</td></tr>\n",
    "   <tr><td>5</td><td>Hours_watched</td><td>Колчествао часов, которое зрители смотрели</td></tr>\n",
    "   <tr><td>6</td><td>Hours_Streamed</td><td>Количество часов, которое стримеры стримили</td></tr>\n",
    "   <tr><td>7</td><td>Peak_viewers</td><td>Максимальное количество зрителей</td></tr>\n",
    "   <tr><td>8</td><td>Peak_channels</td><td>Максимальное количество каналов на которых происходила трансляция одновременно</td></tr>\n",
    "   <tr><td>9</td><td>Streamers</td><td>Всего стримеров, которые стримили эту игру</td></tr>\n",
    "   <tr><td>10</td><td>Avg_viewers</td><td>Среднее количество просмотров</td></tr>\n",
    "   <tr><td>11</td><td>Avg_channels</td><td>Среднее количество каналов</td></tr>\n",
    "   <tr><td>12</td><td>Avg_viewer_ratio</td><td>Средний коэффициент просмотров</td></tr>\n",
    "  </table>"
   ]
  },
  {
   "cell_type": "code",
   "execution_count": 1,
   "id": "b30b4ea5-9219-4a42-833f-bbd7c949d735",
   "metadata": {},
   "outputs": [],
   "source": [
    "# PRE INIT ROW\n",
    "# for new libraries if need\n",
    "# !pip install "
   ]
  },
  {
   "cell_type": "code",
   "execution_count": 2,
   "id": "84fd5b9f-1fc7-47d9-adf9-fff44d354f75",
   "metadata": {},
   "outputs": [],
   "source": [
    "# INIT IMPORT\n",
    "import pandas as pd\n",
    "import numpy as np\n",
    "import seaborn as sns\n",
    "\n",
    "import matplotlib.pyplot as plt\n",
    "from scipy.stats import probplot\n",
    "\n",
    "from sklearn.model_selection import train_test_split\n",
    "from sklearn.pipeline import Pipeline\n",
    "from sklearn.preprocessing import StandardScaler\n",
    "from sklearn.ensemble import RandomForestClassifier\n",
    "from sklearn.naive_bayes import GaussianNB\n",
    "from sklearn.neighbors import KNeighborsClassifier\n",
    "from sklearn.model_selection import GridSearchCV\n",
    "from sklearn.tree import DecisionTreeClassifier\n",
    "from sklearn.linear_model import LogisticRegression\n",
    "from sklearn.tree import DecisionTreeClassifier\n",
    "from sklearn.metrics import confusion_matrix, precision_recall_curve, classification_report, confusion_matrix, accuracy_score, roc_curve\n",
    "\n",
    "import warnings\n",
    "warnings.filterwarnings(\"ignore\")"
   ]
  },
  {
   "cell_type": "code",
   "execution_count": 3,
   "id": "e1ed0df8-5c9f-4400-b7d9-9dfb715db76f",
   "metadata": {},
   "outputs": [],
   "source": [
    "# MAIN FUNCS\n",
    "\n",
    "# Функция условной бинарной градации записей на основании рейтига\n",
    "def binary_ratio(r):\n",
    "    if r > 10000 :\n",
    "        c = 'High'\n",
    "    else:\n",
    "        c = 'Low'\n",
    "    return c"
   ]
  },
  {
   "cell_type": "code",
   "execution_count": 4,
   "id": "d7d6653e-38a1-44d9-a276-b712bb5a1866",
   "metadata": {},
   "outputs": [
    {
     "data": {
      "text/html": [
       "<div>\n",
       "<style scoped>\n",
       "    .dataframe tbody tr th:only-of-type {\n",
       "        vertical-align: middle;\n",
       "    }\n",
       "\n",
       "    .dataframe tbody tr th {\n",
       "        vertical-align: top;\n",
       "    }\n",
       "\n",
       "    .dataframe thead th {\n",
       "        text-align: right;\n",
       "    }\n",
       "</style>\n",
       "<table border=\"1\" class=\"dataframe\">\n",
       "  <thead>\n",
       "    <tr style=\"text-align: right;\">\n",
       "      <th></th>\n",
       "      <th>Rank</th>\n",
       "      <th>Game</th>\n",
       "      <th>Month</th>\n",
       "      <th>Year</th>\n",
       "      <th>Hours_watched</th>\n",
       "      <th>Hours_Streamed</th>\n",
       "      <th>Peak_viewers</th>\n",
       "      <th>Peak_channels</th>\n",
       "      <th>Streamers</th>\n",
       "      <th>Avg_viewers</th>\n",
       "      <th>Avg_channels</th>\n",
       "      <th>Avg_viewer_ratio</th>\n",
       "    </tr>\n",
       "  </thead>\n",
       "  <tbody>\n",
       "    <tr>\n",
       "      <th>0</th>\n",
       "      <td>1</td>\n",
       "      <td>League of Legends</td>\n",
       "      <td>1</td>\n",
       "      <td>2016</td>\n",
       "      <td>94377226</td>\n",
       "      <td>1362044 hours</td>\n",
       "      <td>530270</td>\n",
       "      <td>2903</td>\n",
       "      <td>129172</td>\n",
       "      <td>127021</td>\n",
       "      <td>1833</td>\n",
       "      <td>69.29</td>\n",
       "    </tr>\n",
       "    <tr>\n",
       "      <th>1</th>\n",
       "      <td>2</td>\n",
       "      <td>Counter-Strike: Global Offensive</td>\n",
       "      <td>1</td>\n",
       "      <td>2016</td>\n",
       "      <td>47832863</td>\n",
       "      <td>830105 hours</td>\n",
       "      <td>372654</td>\n",
       "      <td>2197</td>\n",
       "      <td>120849</td>\n",
       "      <td>64378</td>\n",
       "      <td>1117</td>\n",
       "      <td>57.62</td>\n",
       "    </tr>\n",
       "    <tr>\n",
       "      <th>2</th>\n",
       "      <td>3</td>\n",
       "      <td>Dota 2</td>\n",
       "      <td>1</td>\n",
       "      <td>2016</td>\n",
       "      <td>45185893</td>\n",
       "      <td>433397 hours</td>\n",
       "      <td>315083</td>\n",
       "      <td>1100</td>\n",
       "      <td>44074</td>\n",
       "      <td>60815</td>\n",
       "      <td>583</td>\n",
       "      <td>104.26</td>\n",
       "    </tr>\n",
       "    <tr>\n",
       "      <th>3</th>\n",
       "      <td>4</td>\n",
       "      <td>Hearthstone</td>\n",
       "      <td>1</td>\n",
       "      <td>2016</td>\n",
       "      <td>39936159</td>\n",
       "      <td>235903 hours</td>\n",
       "      <td>131357</td>\n",
       "      <td>517</td>\n",
       "      <td>36170</td>\n",
       "      <td>53749</td>\n",
       "      <td>317</td>\n",
       "      <td>169.29</td>\n",
       "    </tr>\n",
       "    <tr>\n",
       "      <th>4</th>\n",
       "      <td>5</td>\n",
       "      <td>Call of Duty: Black Ops III</td>\n",
       "      <td>1</td>\n",
       "      <td>2016</td>\n",
       "      <td>16153057</td>\n",
       "      <td>1151578 hours</td>\n",
       "      <td>71639</td>\n",
       "      <td>3620</td>\n",
       "      <td>214054</td>\n",
       "      <td>21740</td>\n",
       "      <td>1549</td>\n",
       "      <td>14.03</td>\n",
       "    </tr>\n",
       "  </tbody>\n",
       "</table>\n",
       "</div>"
      ],
      "text/plain": [
       "   Rank                              Game  Month  Year  Hours_watched  \\\n",
       "0     1                 League of Legends      1  2016       94377226   \n",
       "1     2  Counter-Strike: Global Offensive      1  2016       47832863   \n",
       "2     3                            Dota 2      1  2016       45185893   \n",
       "3     4                       Hearthstone      1  2016       39936159   \n",
       "4     5       Call of Duty: Black Ops III      1  2016       16153057   \n",
       "\n",
       "  Hours_Streamed  Peak_viewers  Peak_channels  Streamers  Avg_viewers  \\\n",
       "0  1362044 hours        530270           2903     129172       127021   \n",
       "1   830105 hours        372654           2197     120849        64378   \n",
       "2   433397 hours        315083           1100      44074        60815   \n",
       "3   235903 hours        131357            517      36170        53749   \n",
       "4  1151578 hours         71639           3620     214054        21740   \n",
       "\n",
       "   Avg_channels  Avg_viewer_ratio  \n",
       "0          1833             69.29  \n",
       "1          1117             57.62  \n",
       "2           583            104.26  \n",
       "3           317            169.29  \n",
       "4          1549             14.03  "
      ]
     },
     "execution_count": 4,
     "metadata": {},
     "output_type": "execute_result"
    }
   ],
   "source": [
    "data = pd.read_csv('data/Twitch_game_data.csv', sep=',', encoding='windows-1251')\n",
    "data.head()"
   ]
  },
  {
   "cell_type": "code",
   "execution_count": 5,
   "id": "e1019600-4e7a-4c20-9a81-9679db5f7e27",
   "metadata": {},
   "outputs": [
    {
     "data": {
      "text/html": [
       "<div>\n",
       "<style scoped>\n",
       "    .dataframe tbody tr th:only-of-type {\n",
       "        vertical-align: middle;\n",
       "    }\n",
       "\n",
       "    .dataframe tbody tr th {\n",
       "        vertical-align: top;\n",
       "    }\n",
       "\n",
       "    .dataframe thead th {\n",
       "        text-align: right;\n",
       "    }\n",
       "</style>\n",
       "<table border=\"1\" class=\"dataframe\">\n",
       "  <thead>\n",
       "    <tr style=\"text-align: right;\">\n",
       "      <th></th>\n",
       "      <th>Month</th>\n",
       "      <th>Year</th>\n",
       "      <th>Hours_watched</th>\n",
       "      <th>Hours_Streamed</th>\n",
       "      <th>Peak_viewers</th>\n",
       "      <th>Peak_channels</th>\n",
       "      <th>Streamers</th>\n",
       "      <th>Avg_viewers</th>\n",
       "      <th>Avg_channels</th>\n",
       "      <th>Avg_viewer_ratio</th>\n",
       "      <th>Binary_Ratio</th>\n",
       "    </tr>\n",
       "  </thead>\n",
       "  <tbody>\n",
       "    <tr>\n",
       "      <th>0</th>\n",
       "      <td>1</td>\n",
       "      <td>2016</td>\n",
       "      <td>94377226</td>\n",
       "      <td>1362044</td>\n",
       "      <td>530270</td>\n",
       "      <td>2903</td>\n",
       "      <td>129172</td>\n",
       "      <td>127021</td>\n",
       "      <td>1833</td>\n",
       "      <td>69.29</td>\n",
       "      <td>Low</td>\n",
       "    </tr>\n",
       "    <tr>\n",
       "      <th>1</th>\n",
       "      <td>1</td>\n",
       "      <td>2016</td>\n",
       "      <td>47832863</td>\n",
       "      <td>830105</td>\n",
       "      <td>372654</td>\n",
       "      <td>2197</td>\n",
       "      <td>120849</td>\n",
       "      <td>64378</td>\n",
       "      <td>1117</td>\n",
       "      <td>57.62</td>\n",
       "      <td>Low</td>\n",
       "    </tr>\n",
       "    <tr>\n",
       "      <th>2</th>\n",
       "      <td>1</td>\n",
       "      <td>2016</td>\n",
       "      <td>45185893</td>\n",
       "      <td>433397</td>\n",
       "      <td>315083</td>\n",
       "      <td>1100</td>\n",
       "      <td>44074</td>\n",
       "      <td>60815</td>\n",
       "      <td>583</td>\n",
       "      <td>104.26</td>\n",
       "      <td>Low</td>\n",
       "    </tr>\n",
       "    <tr>\n",
       "      <th>3</th>\n",
       "      <td>1</td>\n",
       "      <td>2016</td>\n",
       "      <td>39936159</td>\n",
       "      <td>235903</td>\n",
       "      <td>131357</td>\n",
       "      <td>517</td>\n",
       "      <td>36170</td>\n",
       "      <td>53749</td>\n",
       "      <td>317</td>\n",
       "      <td>169.29</td>\n",
       "      <td>Low</td>\n",
       "    </tr>\n",
       "    <tr>\n",
       "      <th>4</th>\n",
       "      <td>1</td>\n",
       "      <td>2016</td>\n",
       "      <td>16153057</td>\n",
       "      <td>1151578</td>\n",
       "      <td>71639</td>\n",
       "      <td>3620</td>\n",
       "      <td>214054</td>\n",
       "      <td>21740</td>\n",
       "      <td>1549</td>\n",
       "      <td>14.03</td>\n",
       "      <td>Low</td>\n",
       "    </tr>\n",
       "  </tbody>\n",
       "</table>\n",
       "</div>"
      ],
      "text/plain": [
       "   Month  Year  Hours_watched Hours_Streamed  Peak_viewers  Peak_channels  \\\n",
       "0      1  2016       94377226        1362044        530270           2903   \n",
       "1      1  2016       47832863         830105        372654           2197   \n",
       "2      1  2016       45185893         433397        315083           1100   \n",
       "3      1  2016       39936159         235903        131357            517   \n",
       "4      1  2016       16153057        1151578         71639           3620   \n",
       "\n",
       "   Streamers  Avg_viewers  Avg_channels  Avg_viewer_ratio Binary_Ratio  \n",
       "0     129172       127021          1833             69.29          Low  \n",
       "1     120849        64378          1117             57.62          Low  \n",
       "2      44074        60815           583            104.26          Low  \n",
       "3      36170        53749           317            169.29          Low  \n",
       "4     214054        21740          1549             14.03          Low  "
      ]
     },
     "execution_count": 5,
     "metadata": {},
     "output_type": "execute_result"
    }
   ],
   "source": [
    "# Преобразуем данные и добавляем условыне классы на основании рейтинга Avg_viewer_ratio, где High - высокий и Low - низний рейтинги средего просмотра контента.\n",
    "data_binary = data.copy()\n",
    "data_binary['Hours_Streamed'] = data_binary.apply(lambda x: x['Hours_Streamed'].replace(' hours', '') , axis=1)\n",
    "data_binary['Binary_Ratio'] = data_binary.apply(lambda row: binary_ratio(row['Avg_viewer_ratio']), axis = 1)\n",
    "data_binary = data_binary.drop(columns = ['Game', 'Rank'], axis = 1)\n",
    "\n",
    "data_binary.head()"
   ]
  },
  {
   "cell_type": "markdown",
   "id": "0c915c5a-7546-454c-830c-0c47e6156f02",
   "metadata": {},
   "source": [
    "<h2>1.0. Для вашего датасета преобразовать категориальные признаки в бинарные с помощью pd.factorize / pd.get_dummies</h2>"
   ]
  },
  {
   "cell_type": "code",
   "execution_count": 6,
   "id": "a63db8a9-0970-4d31-8c37-2d30c3e51c0f",
   "metadata": {},
   "outputs": [
    {
     "name": "stdout",
     "output_type": "stream",
     "text": [
      "0    0\n",
      "1    0\n",
      "2    0\n",
      "3    0\n",
      "4    0\n",
      "Name: Binary_Ratio, dtype: int64\n",
      "Index(['Low', 'High'], dtype='object')\n"
     ]
    }
   ],
   "source": [
    "factor = pd.factorize(data_binary['Binary_Ratio'])\n",
    "data_binary.Binary_Ratio = factor[0]\n",
    "definitions = factor[1]\n",
    "\n",
    "print(data_binary.Binary_Ratio.head())\n",
    "print(definitions)"
   ]
  },
  {
   "cell_type": "markdown",
   "id": "661e9efb-3f6a-4ffd-bd2d-348ba8d4e903",
   "metadata": {},
   "source": [
    "<h2>1.1. С помощью sklearn.preprocessing.StandardScaler нормализовать значения признаков и построить для нормализованного датасета KNeighborsClassifier (без использования конвееров)</h2>\n",
    "Разделим набор данных на независимые и зависимые переменные.<br>\n",
    "Все столбцы (без предпоследнего) являются независимыми переменными.<br>\n",
    "Cтолбец \"Binary_Ratio\" - будет зависимой переменной.<br>\n",
    "Сохраняем как массив."
   ]
  },
  {
   "cell_type": "code",
   "execution_count": 7,
   "id": "b65d686d-7ff4-4c77-b65c-710a812e655e",
   "metadata": {},
   "outputs": [
    {
     "data": {
      "text/plain": [
       "array([[1, 2016, 94377226, ..., 127021, 1833, 69.29],\n",
       "       [1, 2016, 47832863, ..., 64378, 1117, 57.62],\n",
       "       [1, 2016, 45185893, ..., 60815, 583, 104.26],\n",
       "       ...,\n",
       "       [12, 2021, 620983, ..., 835, 18, 44.56],\n",
       "       [12, 2021, 619859, ..., 834, 0, 1022.87],\n",
       "       [12, 2021, 615725, ..., 828, 56, 14.56]], dtype=object)"
      ]
     },
     "execution_count": 7,
     "metadata": {},
     "output_type": "execute_result"
    }
   ],
   "source": [
    "X = data_binary.iloc[:, 0:10].values\n",
    "X"
   ]
  },
  {
   "cell_type": "code",
   "execution_count": 8,
   "id": "3084ac8a-4a96-4d65-9d3c-0d4f557a9337",
   "metadata": {},
   "outputs": [
    {
     "data": {
      "text/plain": [
       "array([0, 0, 0, ..., 0, 0, 0], dtype=int64)"
      ]
     },
     "execution_count": 8,
     "metadata": {},
     "output_type": "execute_result"
    }
   ],
   "source": [
    "Y = data_binary.iloc[:, 10].values\n",
    "Y"
   ]
  },
  {
   "cell_type": "code",
   "execution_count": 9,
   "id": "1f5b3d27-c596-4ae4-a84d-eac79817fd70",
   "metadata": {},
   "outputs": [
    {
     "name": "stdout",
     "output_type": "stream",
     "text": [
      "Accuracy = 99.97222222222221%\n"
     ]
    }
   ],
   "source": [
    "X_train, X_test, Y_train, Y_test = train_test_split(X, Y, test_size = 0.25, random_state = 25)\n",
    "\n",
    "scaler = StandardScaler()\n",
    "X_train = scaler.fit_transform(X_train)\n",
    "X_test = scaler.transform(X_test)\n",
    "\n",
    "# пусть для 13 соседей\n",
    "   \n",
    "model_KNBC = KNeighborsClassifier(n_neighbors = 13)\n",
    "    \n",
    "model_KNBC.fit(X_train, Y_train)\n",
    "Y_KNBC = model_KNBC.predict(X_test)\n",
    "\n",
    "# accuracy\n",
    "print (f'Accuracy = {accuracy_score(Y_test, Y_KNBC) * 100}%')"
   ]
  },
  {
   "cell_type": "markdown",
   "id": "d4fca94a-f53b-4425-a6bf-f63a2c1f8c53",
   "metadata": {},
   "source": [
    "<h2>1.2. То же самое и использованием sklearn.pipeline.Pipeline</h2>\n",
    "Cоздаём массив последовательности «шагов» конвейера.<br>\n",
    "Сначала необходимо стандартизировать данные, а уже затем выполнить предсказание."
   ]
  },
  {
   "cell_type": "code",
   "execution_count": 10,
   "id": "1cbcdf59-3c1d-4006-ab62-3a1900762527",
   "metadata": {},
   "outputs": [],
   "source": [
    "scaler = StandardScaler()\n",
    "KNBC = KNeighborsClassifier()\n",
    "\n",
    "steps = [('normalizer', scaler), ('KNBC', KNBC)]\n",
    "pipe = Pipeline(steps)"
   ]
  },
  {
   "cell_type": "code",
   "execution_count": 11,
   "id": "c502826f-cb00-48bf-967e-826e5eccd451",
   "metadata": {},
   "outputs": [
    {
     "data": {
      "text/plain": [
       "Pipeline(steps=[('normalizer', StandardScaler()),\n",
       "                ('KNBC', KNeighborsClassifier())])"
      ]
     },
     "execution_count": 11,
     "metadata": {},
     "output_type": "execute_result"
    }
   ],
   "source": [
    "pipe"
   ]
  },
  {
   "cell_type": "markdown",
   "id": "f41c3913-27ee-47f6-b47c-0712367592be",
   "metadata": {},
   "source": [
    "<h2>1.3. С помощью GridSearchCV произвести подбор гиперпараметра KNeighborsClassifier (n_neighbors) и выведите значение гиперпараметра и метрику для наилучшей модели.</h2>\n",
    "<b>Гиперпараметры</b> - настраиваемые параметры, которые необходимо настроить, чтобы получить модель с оптимальными характеристиками.<br>\n",
    "Для <b>KNeighborsClassifier</b>:\n",
    "<ul>\n",
    "    <li>n_neighbors - это количество соседей, которые нужно использовать</li>\n",
    "    <li>weights - весовая функция,используемая при прогнозировании</li>\n",
    "    <li>algorithm - алгоритм, используемый для вычисления ближайших соседей</li>\n",
    "</ul> "
   ]
  },
  {
   "cell_type": "code",
   "execution_count": 12,
   "id": "8ade6843-083b-4a3f-9cb0-281963692c8c",
   "metadata": {},
   "outputs": [
    {
     "data": {
      "text/plain": [
       "GridSearchCV(estimator=Pipeline(steps=[('normalizer', StandardScaler()),\n",
       "                                       ('KNBC', KNeighborsClassifier())]),\n",
       "             param_grid={'KNBC__algorithm': ['auto', 'ball_tree', 'kd_tree',\n",
       "                                             'brute'],\n",
       "                         'KNBC__n_neighbors': array([ 5,  6,  7,  8,  9, 10, 11, 12, 13, 14, 15, 16, 17, 18, 19, 20, 21,\n",
       "       22, 23, 24, 25, 26, 27, 28, 29, 30, 31, 32, 33, 34, 35, 36, 37, 38,\n",
       "       39, 40, 41, 42, 43, 44, 45, 46, 47, 48, 49]),\n",
       "                         'KNBC__weights': ['uniform', 'distance']})"
      ]
     },
     "execution_count": 12,
     "metadata": {},
     "output_type": "execute_result"
    }
   ],
   "source": [
    "params_KNBC = \\\n",
    "     {'KNBC__n_neighbors': np.arange(5, 50), \n",
    "     'KNBC__weights': ['uniform', 'distance'], \n",
    "     'KNBC__algorithm': ['auto', 'ball_tree', 'kd_tree', 'brute']}\n",
    "\n",
    "grid_search_KNBC = GridSearchCV(pipe, params_KNBC)\n",
    "grid_search_KNBC.fit(X_train, Y_train)"
   ]
  },
  {
   "cell_type": "code",
   "execution_count": 13,
   "id": "f943263c-8420-4170-ba84-508eca2f77d3",
   "metadata": {
    "tags": []
   },
   "outputs": [
    {
     "name": "stdout",
     "output_type": "stream",
     "text": [
      "Score: 0.9997222222222222\n"
     ]
    },
    {
     "data": {
      "text/plain": [
       "{'KNBC__algorithm': 'auto', 'KNBC__n_neighbors': 5, 'KNBC__weights': 'uniform'}"
      ]
     },
     "execution_count": 13,
     "metadata": {},
     "output_type": "execute_result"
    }
   ],
   "source": [
    "print(f'Score: {grid_search_KNBC.score(X_test, Y_test)}')\n",
    "grid_search_KNBC.best_params_"
   ]
  },
  {
   "cell_type": "markdown",
   "id": "e3b3f327-b68c-4ecf-ac51-753e2b94668c",
   "metadata": {},
   "source": [
    "<h2>2.1. Продемонстрировать работу DecisionTreeClassifier, посчитать метрики качества на отложенной выборке</h2>"
   ]
  },
  {
   "cell_type": "code",
   "execution_count": 14,
   "id": "907eeede-6ebf-4ed5-8487-0b0c48beeb34",
   "metadata": {},
   "outputs": [
    {
     "name": "stdout",
     "output_type": "stream",
     "text": [
      "Accuracy = 100.0%\n"
     ]
    }
   ],
   "source": [
    "DTC = DecisionTreeClassifier()\n",
    "DTC.fit(X_train, Y_train)\n",
    "# accuracy\n",
    "print (f'Accuracy = {accuracy_score(Y_test, DTC.predict(X_test)) * 100}%')"
   ]
  },
  {
   "cell_type": "markdown",
   "id": "ff2742cb-2a55-4c50-995d-13264eb16217",
   "metadata": {},
   "source": [
    "<h2>2.2. С помощью GridSearchCV произвести подбор гиперпараметров для поиска наилучшего дерева</h2>\n",
    "Гиперпараметры: max_depth, max_features"
   ]
  },
  {
   "cell_type": "code",
   "execution_count": 15,
   "id": "e181f1dd-3299-4ca2-9f31-76eea8a6f830",
   "metadata": {},
   "outputs": [
    {
     "data": {
      "text/plain": [
       "GridSearchCV(estimator=Pipeline(steps=[('normalizer', StandardScaler()),\n",
       "                                       ('DTC', DecisionTreeClassifier())]),\n",
       "             param_grid={'DTC__criterion': ['gini', 'entropy'],\n",
       "                         'DTC__max_depth': array([1, 2, 3, 4, 5, 6, 7, 8, 9]),\n",
       "                         'DTC__max_features': ['auto', 'sqrt', 'log2'],\n",
       "                         'DTC__splitter': ['best', 'random']})"
      ]
     },
     "execution_count": 15,
     "metadata": {},
     "output_type": "execute_result"
    }
   ],
   "source": [
    "scaler = StandardScaler()\n",
    "\n",
    "steps_DTC = [('normalizer', scaler), ('DTC', DTC)]\n",
    "pipe_DTC = Pipeline(steps_DTC)\n",
    "\n",
    "params_DTC = \\\n",
    "     {'DTC__max_depth': np.arange(1, 10),\n",
    "     'DTC__splitter': ['best', 'random'],\n",
    "     'DTC__criterion': ['gini', 'entropy'],\n",
    "     'DTC__max_features': ['auto', 'sqrt', 'log2']}\n",
    "\n",
    "grid_search_DTC = GridSearchCV(pipe_DTC, params_DTC)\n",
    "\n",
    "grid_search_DTC.fit(X_train, Y_train)"
   ]
  },
  {
   "cell_type": "code",
   "execution_count": 16,
   "id": "8560d3fc-8107-4e7a-aaf5-9ccaff3d880d",
   "metadata": {},
   "outputs": [
    {
     "name": "stdout",
     "output_type": "stream",
     "text": [
      "Score: 0.9997222222222222\n"
     ]
    },
    {
     "data": {
      "text/plain": [
       "{'DTC__criterion': 'gini',\n",
       " 'DTC__max_depth': 2,\n",
       " 'DTC__max_features': 'auto',\n",
       " 'DTC__splitter': 'best'}"
      ]
     },
     "execution_count": 16,
     "metadata": {},
     "output_type": "execute_result"
    }
   ],
   "source": [
    "print(f'Score: {grid_search_DTC.score(X_test, Y_test)}')\n",
    "grid_search_DTC.best_params_"
   ]
  },
  {
   "cell_type": "markdown",
   "id": "1eda1ec3-29d7-470b-89a2-4905c4aafe02",
   "metadata": {},
   "source": [
    "<h2>2.3. Для полученного наилучшего дерева построить график feature_importances</h2>\n",
    "дополнительно напечатать 3 наиболее важных признака, отсортировав их по убыванию важности"
   ]
  },
  {
   "cell_type": "code",
   "execution_count": 17,
   "id": "5a212a1d-825a-4341-a035-64006b763e1a",
   "metadata": {},
   "outputs": [
    {
     "name": "stdout",
     "output_type": "stream",
     "text": [
      "[0. 0. 0. 0. 0. 0. 0. 0. 0. 1.]\n"
     ]
    }
   ],
   "source": [
    "print(DTC.feature_importances_)"
   ]
  },
  {
   "cell_type": "code",
   "execution_count": 22,
   "id": "97596748-d35f-49cf-91e9-373328eaf5b3",
   "metadata": {},
   "outputs": [
    {
     "data": {
      "text/plain": [
       "([0, 1, 2, 3, 4, 5, 6, 7, 8, 9],\n",
       " [Text(0, 0, ''),\n",
       "  Text(0, 0, ''),\n",
       "  Text(0, 0, ''),\n",
       "  Text(0, 0, ''),\n",
       "  Text(0, 0, ''),\n",
       "  Text(0, 0, ''),\n",
       "  Text(0, 0, ''),\n",
       "  Text(0, 0, ''),\n",
       "  Text(0, 0, ''),\n",
       "  Text(0, 0, '')])"
      ]
     },
     "execution_count": 22,
     "metadata": {},
     "output_type": "execute_result"
    },
    {
     "data": {
      "image/png": "[encoded data removed]",
      "text/plain": [
       "<Figure size 720x720 with 1 Axes>"
      ]
     },
     "metadata": {
      "needs_background": "light"
     },
     "output_type": "display_data"
    }
   ],
   "source": [
    "plt.figure(figsize=(10,10))\n",
    "plt.bar(data_binary.columns[0:10], DTC.feature_importances_)\n",
    "plt.xticks(rotation=90)"
   ]
  },
  {
   "cell_type": "code",
   "execution_count": 25,
   "id": "3ed0b50e-dd92-4f77-b94e-aad47a7e6fb5",
   "metadata": {},
   "outputs": [],
   "source": [
    "# признак - значимость\n",
    "l = np.vstack([DTC.feature_importances_, data_binary.columns[0:10]]).T"
   ]
  },
  {
   "cell_type": "code",
   "execution_count": 27,
   "id": "dc13e663-9f86-4b63-86c2-73fa29511d79",
   "metadata": {},
   "outputs": [
    {
     "data": {
      "text/plain": [
       "[array([1.0, 'Avg_viewer_ratio'], dtype=object),\n",
       " array([0.0, 'Month'], dtype=object),\n",
       " array([0.0, 'Year'], dtype=object),\n",
       " array([0.0, 'Hours_watched'], dtype=object),\n",
       " array([0.0, 'Hours_Streamed'], dtype=object),\n",
       " array([0.0, 'Peak_viewers'], dtype=object),\n",
       " array([0.0, 'Peak_channels'], dtype=object),\n",
       " array([0.0, 'Streamers'], dtype=object),\n",
       " array([0.0, 'Avg_viewers'], dtype=object),\n",
       " array([0.0, 'Avg_channels'], dtype=object)]"
      ]
     },
     "execution_count": 27,
     "metadata": {},
     "output_type": "execute_result"
    }
   ],
   "source": [
    "# сортируем\n",
    "sorted(l, key = lambda x: x[0], reverse=True)"
   ]
  },
  {
   "cell_type": "markdown",
   "id": "c802132a-d106-4bf1-bfc9-826a04e5dd0e",
   "metadata": {},
   "source": [
    "<h2>3.1. Продемонстрировать работу случайного леса RandomForestClassifier</h2>"
   ]
  },
  {
   "cell_type": "code",
   "execution_count": 28,
   "id": "dd24fc24-90b1-4d3d-8b3e-5d7bf871cfe0",
   "metadata": {},
   "outputs": [
    {
     "data": {
      "text/plain": [
       "RandomForestClassifier(criterion='entropy', n_estimators=10, random_state=42)"
      ]
     },
     "execution_count": 28,
     "metadata": {},
     "output_type": "execute_result"
    }
   ],
   "source": [
    "RFC = RandomForestClassifier(n_estimators = 10, criterion = 'entropy', random_state = 42)\n",
    "RFC.fit(X_train, Y_train)"
   ]
  },
  {
   "cell_type": "code",
   "execution_count": 29,
   "id": "3b22d43c-7eca-45a0-bc03-4bae5aa1a0e3",
   "metadata": {},
   "outputs": [
    {
     "name": "stdout",
     "output_type": "stream",
     "text": [
      "Accuracy = 99.97222222222221%\n"
     ]
    }
   ],
   "source": [
    "print (f'Accuracy = {accuracy_score(Y_test, RFC.predict(X_test)) * 100}%')"
   ]
  },
  {
   "cell_type": "markdown",
   "id": "25e7ed0b-dded-49b3-9868-69b1140eb80d",
   "metadata": {},
   "source": [
    "<h2>3.2. С помощью GridSearchCV произвести подбор гиперпараметров для поиск наилучшего леса, посмотреть насколько улучшились метрики</h2>"
   ]
  },
  {
   "cell_type": "code",
   "execution_count": 30,
   "id": "3199a198-11c9-42bf-b6fe-31dd77352236",
   "metadata": {},
   "outputs": [
    {
     "data": {
      "text/plain": [
       "GridSearchCV(estimator=Pipeline(steps=[('normalizer', StandardScaler()),\n",
       "                                       ('RFC',\n",
       "                                        RandomForestClassifier(criterion='entropy',\n",
       "                                                               n_estimators=10,\n",
       "                                                               random_state=42))]),\n",
       "             param_grid={'RFC__criterion': ['gini', 'entropy'],\n",
       "                         'RFC__max_features': ['auto', 'sqrt', 'log2'],\n",
       "                         'RFC__n_estimators': array([10, 11, 12, 13, 14, 15, 16, 17, 18, 19, 20, 21, 22, 23, 24, 25, 26,\n",
       "       27, 28, 29, 30, 31, 32, 33, 34, 35, 36, 37, 38, 39, 40, 41, 42, 43,\n",
       "       44, 45, 46, 47, 48, 49, 50, 51, 52, 53, 54, 55, 56, 57, 58, 59, 60,\n",
       "       61, 62, 63, 64, 65, 66, 67, 68, 69, 70, 71, 72, 73, 74, 75, 76, 77,\n",
       "       78, 79, 80, 81, 82, 83, 84, 85, 86, 87, 88, 89, 90, 91, 92, 93, 94,\n",
       "       95, 96, 97, 98, 99])})"
      ]
     },
     "execution_count": 30,
     "metadata": {},
     "output_type": "execute_result"
    }
   ],
   "source": [
    "scaler = StandardScaler()\n",
    "\n",
    "steps_RFC = [('normalizer', scaler), ('RFC', RFC)]\n",
    "pipe_RFC = Pipeline(steps_RFC)\n",
    "\n",
    "params_RFC = \\\n",
    "     {'RFC__n_estimators': np.arange(10, 100),\n",
    "     'RFC__criterion': ['gini', 'entropy'],\n",
    "     'RFC__max_features': ['auto', 'sqrt', 'log2']}\n",
    "grid_search_RFC = GridSearchCV(pipe_RFC, params_RFC)\n",
    "\n",
    "grid_search_RFC.fit(X_train, Y_train)"
   ]
  },
  {
   "cell_type": "code",
   "execution_count": 31,
   "id": "bf33d8b0-ba74-44d0-adbf-e3d0f536df68",
   "metadata": {},
   "outputs": [
    {
     "name": "stdout",
     "output_type": "stream",
     "text": [
      "0.9997222222222222\n"
     ]
    },
    {
     "data": {
      "text/plain": [
       "{'RFC__criterion': 'gini',\n",
       " 'RFC__max_features': 'auto',\n",
       " 'RFC__n_estimators': 10}"
      ]
     },
     "execution_count": 31,
     "metadata": {},
     "output_type": "execute_result"
    }
   ],
   "source": [
    "print(grid_search_RFC.score(X_test, Y_test))\n",
    "grid_search_RFC.best_params_"
   ]
  },
  {
   "cell_type": "markdown",
   "id": "8c750daf-20ea-4761-b058-8d800798ba10",
   "metadata": {},
   "source": [
    "<h2>Вывод</h2>\n",
    "Какой классификатор и с камими гиперпараметрами дал в итоге наилучший результат для выбранного датасета на отложенной выборке.</br>"
   ]
  },
  {
   "cell_type": "code",
   "execution_count": 35,
   "id": "b2cf8001-00b1-49b3-9c80-8195624b421e",
   "metadata": {},
   "outputs": [
    {
     "name": "stdout",
     "output_type": "stream",
     "text": [
      "KNeighborsClassifier Accuracy = 99.97222222222221%\n",
      "Score: 0.9997222222222222\n"
     ]
    },
    {
     "data": {
      "text/plain": [
       "{'KNBC__algorithm': 'auto', 'KNBC__n_neighbors': 5, 'KNBC__weights': 'uniform'}"
      ]
     },
     "execution_count": 35,
     "metadata": {},
     "output_type": "execute_result"
    }
   ],
   "source": [
    "# 1.1. С помощью sklearn.preprocessing.StandardScaler нормализовать значения признаков и построить для нормализованного датасета KNeighborsClassifier (без использования конвееров)\n",
    "print (f'KNeighborsClassifier Accuracy = {accuracy_score(Y_test, Y_KNBC) * 100}%')\n",
    "# 1.3. С помощью GridSearchCV произвести подбор гиперпараметра KNeighborsClassifier (n_neighbors) и выведите значение гиперпараметра и метрику для наилучшей модели.¶\n",
    "print(f'Score: {grid_search_KNBC.score(X_test, Y_test)}')\n",
    "grid_search_KNBC.best_params_"
   ]
  },
  {
   "cell_type": "code",
   "execution_count": 36,
   "id": "8dab25d2-bd4d-4d6e-952e-f0830e754598",
   "metadata": {},
   "outputs": [
    {
     "name": "stdout",
     "output_type": "stream",
     "text": [
      "DecisionTreeClassifier Accuracy = 100.0%\n",
      "GridSearchCV Tree Score: 0.9997222222222222\n"
     ]
    },
    {
     "data": {
      "text/plain": [
       "{'DTC__criterion': 'gini',\n",
       " 'DTC__max_depth': 2,\n",
       " 'DTC__max_features': 'auto',\n",
       " 'DTC__splitter': 'best'}"
      ]
     },
     "execution_count": 36,
     "metadata": {},
     "output_type": "execute_result"
    }
   ],
   "source": [
    "# 2.1. Продемонстрировать работу DecisionTreeClassifier, посчитать метрики качества на отложенной выборке\n",
    "print (f'DecisionTreeClassifier Accuracy = {accuracy_score(Y_test, DTC.predict(X_test)) * 100}%')\n",
    "# 2.2. С помощью GridSearchCV произвести подбор гиперпараметров для поиска наилучшего дерева\n",
    "print(f'GridSearchCV Tree Score: {grid_search_DTC.score(X_test, Y_test)}')\n",
    "grid_search_DTC.best_params_"
   ]
  },
  {
   "cell_type": "code",
   "execution_count": 37,
   "id": "0f7bfb76-829e-4f6b-aea4-7d78df7694a8",
   "metadata": {},
   "outputs": [
    {
     "name": "stdout",
     "output_type": "stream",
     "text": [
      "RandomForestClassifier Accuracy = 99.97222222222221%\n",
      "GridSearchCV Forest Score: 0.9997222222222222\n"
     ]
    },
    {
     "data": {
      "text/plain": [
       "{'RFC__criterion': 'gini',\n",
       " 'RFC__max_features': 'auto',\n",
       " 'RFC__n_estimators': 10}"
      ]
     },
     "execution_count": 37,
     "metadata": {},
     "output_type": "execute_result"
    }
   ],
   "source": [
    "# 3.1. Продемонстрировать работу случайного леса RandomForestClassifier\n",
    "print (f'RandomForestClassifier Accuracy = {accuracy_score(Y_test, RFC.predict(X_test)) * 100}%')\n",
    "# 3.2. С помощью GridSearchCV произвести подбор гиперпараметров для поиск наилучшего леса, посмотреть насколько улучшились метрики\n",
    "print(f'GridSearchCV Forest Score: {grid_search_RFC.score(X_test, Y_test)}')\n",
    "grid_search_RFC.best_params_"
   ]
  },
  {
   "cell_type": "markdown",
   "id": "f5e3296f-3079-4503-87a3-180813a09ae3",
   "metadata": {},
   "source": [
    "Лучший результат на основании Accuracy дал классификатор <b>DecisionTreeClassifier</b> с параметрами:\n",
    "<ul>\n",
    "    <li>criterion: gini</li>\n",
    "    <li>max_depth: 2</li>\n",
    "    <li>max_features: auto</li>\n",
    "    <li>splitter: best</li>\n",
    "</ul> \n",
    "Хотя <b>Score</b> у всех равен <b>0.9997222222222222</b> так что я не уверен в корректности анализа."
   ]
  },
  {
   "cell_type": "code",
   "execution_count": null,
   "id": "f828a87f-b69d-4600-bcea-042ae69c1ca3",
   "metadata": {},
   "outputs": [],
   "source": []
  }
 ],
 "metadata": {
  "kernelspec": {
   "display_name": "Python 3 (ipykernel)",
   "language": "python",
   "name": "python3"
  },
  "language_info": {
   "codemirror_mode": {
    "name": "ipython",
    "version": 3
   },
   "file_extension": ".py",
   "mimetype": "text/x-python",
   "name": "python",
   "nbconvert_exporter": "python",
   "pygments_lexer": "ipython3",
   "version": "3.9.7"
  }
 },
 "nbformat": 4,
 "nbformat_minor": 5
}
