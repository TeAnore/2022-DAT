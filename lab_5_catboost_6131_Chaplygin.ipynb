{
 "cells": [
  {
   "cell_type": "markdown",
   "id": "a6311973",
   "metadata": {},
   "source": [
    "<h1>Лабораторная работа 5</h1>\n",
    "<h2>Градиентный бустинг с Catboost</h2>\n",
    "\n",
    "Выполнил: 6131 Чаплыгин Алексей Олегович"
   ]
  },
  {
   "cell_type": "markdown",
   "id": "cc2e879b",
   "metadata": {},
   "source": [
    "Туториал по использованию библиотеки CatBoost: https://github.com/catboost/tutorials/blob/master/ru/ml_session_2018_tutorial_ru.ipynb"
   ]
  },
  {
   "cell_type": "markdown",
   "id": "243edf44",
   "metadata": {},
   "source": [
    "Мастер-класс от Яндекса по CatBoost классификации: https://www.youtube.com/watch?v=xl1fwCza9C8"
   ]
  },
  {
   "cell_type": "markdown",
   "id": "658a9f74",
   "metadata": {},
   "source": [
    "Установка билиотек:\n",
    "\n",
    "`\n",
    "!pip3 install catboost shap ipywidgets\n",
    "!jupyter nbextension enable --py widgetsnbextension\n",
    "`"
   ]
  },
  {
   "cell_type": "markdown",
   "id": "d5549ead",
   "metadata": {},
   "source": [
    "0 Подобрать набор данных для классификации (количество классов не имеет значения) и регрессии. Важно наличие числовых и категориальных признаков в данных. Опишите данные, что обозначает каждый столбец, какого типа (категориальный, вещественный, целочисленный, бинарный) данный столбец, при необходимости для категориальных в том числе бинарных признаков привести расшифровку их значений. Можно работать на тех же данных, что и в предыдущей Л.Р.: в этом случае сравнить с результатами лучшего классификатора из предыдущей работы."
   ]
  },
  {
   "cell_type": "markdown",
   "id": "41ae6763",
   "metadata": {},
   "source": [
    "1  Применить классификатор `CatBoostClassifier` к вашему набору данных. Обратите внимание, что catboost умеет работать с категориальными признаками (параметр `cat_features` - список индексов категориальных признаков), поэтому использование `pd.factorize / pd.get_dummies` здесь лишнее.    \n",
    "- Вывести итерацию с наилучшим значением AUC (для бинарной классификации) или наилучшим значением Logloss.\n",
    "- Вывести значения метрик качества классификации на тестовых данных (accuracy и precision / recall / AUC, если применимо).\n",
    "- В случае бинарной классификации на основе CatBoostClassifier построить кривые PRC и ROC. Вычислить значения PRC-AUC и ROC-AUC.\n",
    "\n",
    "\n",
    "Примеры классификатора и построения ROC-кривой: https://github.com/catboost/tutorials/blob/master/classification/classification_tutorial.ipynb"
   ]
  },
  {
   "cell_type": "markdown",
   "id": "1cb464ac",
   "metadata": {},
   "source": [
    "2 Применить регрессию `CatBoostRegressor` к набору данных для регрессии. Вывести номер итерации и значения метрик (MAE и MSE) для наилучшей итерации. Обратите внимание, что в задаче восстановления регрессии целевая переменная имеет непрерывные значения. "
   ]
  },
  {
   "cell_type": "code",
   "execution_count": 1,
   "id": "1796f8d2",
   "metadata": {},
   "outputs": [],
   "source": [
    "# PRE INIT ROW\n",
    "# for new libraries if need\n",
    "# !pip install"
   ]
  },
  {
   "cell_type": "code",
   "execution_count": 2,
   "id": "e6a411c4",
   "metadata": {},
   "outputs": [],
   "source": [
    "#!pip install catboost"
   ]
  },
  {
   "cell_type": "code",
   "execution_count": 3,
   "id": "0a67b9b6",
   "metadata": {},
   "outputs": [],
   "source": [
    "#!pip install catboost shap ipywidgets"
   ]
  },
  {
   "cell_type": "code",
   "execution_count": 4,
   "id": "92f3f7bd",
   "metadata": {},
   "outputs": [],
   "source": [
    "#!jupyter nbextension enable --py widgetsnbextension"
   ]
  },
  {
   "cell_type": "code",
   "execution_count": 5,
   "id": "9175580e",
   "metadata": {},
   "outputs": [],
   "source": [
    "# INIT IMPORT\n",
    "import numpy as np\n",
    "import pandas as pd\n",
    "import seaborn as sns\n",
    "\n",
    "from sklearn.model_selection import train_test_split\n",
    "from sklearn.preprocessing import StandardScaler\n",
    "from sklearn.metrics import confusion_matrix, precision_recall_curve, classification_report, confusion_matrix\n",
    "from sklearn.metrics import plot_roc_curve, roc_auc_score, accuracy_score, recall_score, precision_score\n",
    "from sklearn.metrics import PrecisionRecallDisplay\n",
    "from sklearn.metrics import mean_absolute_error, mean_squared_error\n",
    "\n",
    "import catboost\n",
    "from catboost import *\n",
    "from catboost import datasets\n",
    "from catboost import CatBoostClassifier"
   ]
  },
  {
   "cell_type": "markdown",
   "id": "715b2241",
   "metadata": {},
   "source": [
    "<h2>0. Набор данных</h2>\n",
    "Выберите набор данных для классификации (бинарной или многоклассовой — не важно). Опишите данные, что обозначает каждый столбец, какого типа (категориальный, вещественный, целочисленный, бинарный) данный столбец, при необходимости для категориальных в том числе бинарных признаков привести расшифровку их значений. В общем, проведите \"визуальный\" анализ ваших данных. В общем, проведите \"визуальный\" анализ ваших данных.</br>\n",
    "Используемый в работе набор данных \"White Wine Quality\" доступен по следующей ссылке:https://www.kaggle.com/datasets/piyushagni5/white-wine-quality и содержит два набора данных относятся к красному и белому вариантам португальского вина \"Vinho Verde\". Для получения более подробной информации обратитесь к [Cortez et al., 2009]. Из-за конфиденциальности и логистических проблем доступны только физико-химические (входные данные) и сенсорные (выходные данные) переменные (например, нет данных о сортах винограда, марке вина, отпускной цене вина и т.д.).\n",
    "В наборе данных содержится таблица с 12 столбцами.</br>\n",
    "<table border=\"1\">\n",
    "   <caption>White Wine Quality</caption>\n",
    "   <tr>\n",
    "    <th>Номер столбца</th>\n",
    "    <th>Название столбца</th>\n",
    "    <th>Описание столбца</th>\n",
    "   </tr>\n",
    "   <tr><td>1</td><td>fixed acidity</td><td>Фиксированная кислотность</td></tr>\n",
    "   <tr><td>2</td><td>volatile acidity</td><td>Летучая кислотность</td></tr>\n",
    "   <tr><td>3</td><td>citric acid</td><td>Лимонная кислота</td></tr>\n",
    "   <tr><td>4</td><td>residual sugar</td><td>Остаточный сахар</td></tr>\n",
    "   <tr><td>5</td><td>chlorides</td><td>Хлориды</td></tr>\n",
    "   <tr><td>6</td><td>free sulfur dioxide</td><td>Свободный диоксид серы</td></tr>\n",
    "   <tr><td>7</td><td>total sulfur dioxide</td><td>Общий диоксид серы</td></tr>\n",
    "   <tr><td>8</td><td>density</td><td>Плотность</td></tr>\n",
    "   <tr><td>9</td><td>pH</td><td>pH</td></tr>\n",
    "   <tr><td>10</td><td>sulphates</td><td>Сульфаты</td></tr>\n",
    "   <tr><td>11</td><td>alcohol</td><td>Алкоголь</td></tr>\n",
    "   <tr><td>12</td><td>quality</td><td>Качество (оценка от 0 до 10)</td></tr>\n",
    "  </table>"
   ]
  },
  {
   "cell_type": "code",
   "execution_count": 6,
   "id": "174dea88",
   "metadata": {},
   "outputs": [
    {
     "data": {
      "text/html": [
       "<div>\n",
       "<style scoped>\n",
       "    .dataframe tbody tr th:only-of-type {\n",
       "        vertical-align: middle;\n",
       "    }\n",
       "\n",
       "    .dataframe tbody tr th {\n",
       "        vertical-align: top;\n",
       "    }\n",
       "\n",
       "    .dataframe thead th {\n",
       "        text-align: right;\n",
       "    }\n",
       "</style>\n",
       "<table border=\"1\" class=\"dataframe\">\n",
       "  <thead>\n",
       "    <tr style=\"text-align: right;\">\n",
       "      <th></th>\n",
       "      <th>fixed acidity</th>\n",
       "      <th>volatile acidity</th>\n",
       "      <th>citric acid</th>\n",
       "      <th>residual sugar</th>\n",
       "      <th>chlorides</th>\n",
       "      <th>free sulfur dioxide</th>\n",
       "      <th>total sulfur dioxide</th>\n",
       "      <th>density</th>\n",
       "      <th>pH</th>\n",
       "      <th>sulphates</th>\n",
       "      <th>alcohol</th>\n",
       "      <th>quality</th>\n",
       "    </tr>\n",
       "  </thead>\n",
       "  <tbody>\n",
       "    <tr>\n",
       "      <th>0</th>\n",
       "      <td>7.0</td>\n",
       "      <td>0.27</td>\n",
       "      <td>0.36</td>\n",
       "      <td>20.7</td>\n",
       "      <td>0.045</td>\n",
       "      <td>45.0</td>\n",
       "      <td>170.0</td>\n",
       "      <td>1.00100</td>\n",
       "      <td>3.00</td>\n",
       "      <td>0.45</td>\n",
       "      <td>8.8</td>\n",
       "      <td>6</td>\n",
       "    </tr>\n",
       "    <tr>\n",
       "      <th>1</th>\n",
       "      <td>6.3</td>\n",
       "      <td>0.30</td>\n",
       "      <td>0.34</td>\n",
       "      <td>1.6</td>\n",
       "      <td>0.049</td>\n",
       "      <td>14.0</td>\n",
       "      <td>132.0</td>\n",
       "      <td>0.99400</td>\n",
       "      <td>3.30</td>\n",
       "      <td>0.49</td>\n",
       "      <td>9.5</td>\n",
       "      <td>6</td>\n",
       "    </tr>\n",
       "    <tr>\n",
       "      <th>2</th>\n",
       "      <td>8.1</td>\n",
       "      <td>0.28</td>\n",
       "      <td>0.40</td>\n",
       "      <td>6.9</td>\n",
       "      <td>0.050</td>\n",
       "      <td>30.0</td>\n",
       "      <td>97.0</td>\n",
       "      <td>0.99510</td>\n",
       "      <td>3.26</td>\n",
       "      <td>0.44</td>\n",
       "      <td>10.1</td>\n",
       "      <td>6</td>\n",
       "    </tr>\n",
       "    <tr>\n",
       "      <th>3</th>\n",
       "      <td>7.2</td>\n",
       "      <td>0.23</td>\n",
       "      <td>0.32</td>\n",
       "      <td>8.5</td>\n",
       "      <td>0.058</td>\n",
       "      <td>47.0</td>\n",
       "      <td>186.0</td>\n",
       "      <td>0.99560</td>\n",
       "      <td>3.19</td>\n",
       "      <td>0.40</td>\n",
       "      <td>9.9</td>\n",
       "      <td>6</td>\n",
       "    </tr>\n",
       "    <tr>\n",
       "      <th>4</th>\n",
       "      <td>7.2</td>\n",
       "      <td>0.23</td>\n",
       "      <td>0.32</td>\n",
       "      <td>8.5</td>\n",
       "      <td>0.058</td>\n",
       "      <td>47.0</td>\n",
       "      <td>186.0</td>\n",
       "      <td>0.99560</td>\n",
       "      <td>3.19</td>\n",
       "      <td>0.40</td>\n",
       "      <td>9.9</td>\n",
       "      <td>6</td>\n",
       "    </tr>\n",
       "    <tr>\n",
       "      <th>...</th>\n",
       "      <td>...</td>\n",
       "      <td>...</td>\n",
       "      <td>...</td>\n",
       "      <td>...</td>\n",
       "      <td>...</td>\n",
       "      <td>...</td>\n",
       "      <td>...</td>\n",
       "      <td>...</td>\n",
       "      <td>...</td>\n",
       "      <td>...</td>\n",
       "      <td>...</td>\n",
       "      <td>...</td>\n",
       "    </tr>\n",
       "    <tr>\n",
       "      <th>4893</th>\n",
       "      <td>6.2</td>\n",
       "      <td>0.21</td>\n",
       "      <td>0.29</td>\n",
       "      <td>1.6</td>\n",
       "      <td>0.039</td>\n",
       "      <td>24.0</td>\n",
       "      <td>92.0</td>\n",
       "      <td>0.99114</td>\n",
       "      <td>3.27</td>\n",
       "      <td>0.50</td>\n",
       "      <td>11.2</td>\n",
       "      <td>6</td>\n",
       "    </tr>\n",
       "    <tr>\n",
       "      <th>4894</th>\n",
       "      <td>6.6</td>\n",
       "      <td>0.32</td>\n",
       "      <td>0.36</td>\n",
       "      <td>8.0</td>\n",
       "      <td>0.047</td>\n",
       "      <td>57.0</td>\n",
       "      <td>168.0</td>\n",
       "      <td>0.99490</td>\n",
       "      <td>3.15</td>\n",
       "      <td>0.46</td>\n",
       "      <td>9.6</td>\n",
       "      <td>5</td>\n",
       "    </tr>\n",
       "    <tr>\n",
       "      <th>4895</th>\n",
       "      <td>6.5</td>\n",
       "      <td>0.24</td>\n",
       "      <td>0.19</td>\n",
       "      <td>1.2</td>\n",
       "      <td>0.041</td>\n",
       "      <td>30.0</td>\n",
       "      <td>111.0</td>\n",
       "      <td>0.99254</td>\n",
       "      <td>2.99</td>\n",
       "      <td>0.46</td>\n",
       "      <td>9.4</td>\n",
       "      <td>6</td>\n",
       "    </tr>\n",
       "    <tr>\n",
       "      <th>4896</th>\n",
       "      <td>5.5</td>\n",
       "      <td>0.29</td>\n",
       "      <td>0.30</td>\n",
       "      <td>1.1</td>\n",
       "      <td>0.022</td>\n",
       "      <td>20.0</td>\n",
       "      <td>110.0</td>\n",
       "      <td>0.98869</td>\n",
       "      <td>3.34</td>\n",
       "      <td>0.38</td>\n",
       "      <td>12.8</td>\n",
       "      <td>7</td>\n",
       "    </tr>\n",
       "    <tr>\n",
       "      <th>4897</th>\n",
       "      <td>6.0</td>\n",
       "      <td>0.21</td>\n",
       "      <td>0.38</td>\n",
       "      <td>0.8</td>\n",
       "      <td>0.020</td>\n",
       "      <td>22.0</td>\n",
       "      <td>98.0</td>\n",
       "      <td>0.98941</td>\n",
       "      <td>3.26</td>\n",
       "      <td>0.32</td>\n",
       "      <td>11.8</td>\n",
       "      <td>6</td>\n",
       "    </tr>\n",
       "  </tbody>\n",
       "</table>\n",
       "<p>4898 rows × 12 columns</p>\n",
       "</div>"
      ],
      "text/plain": [
       "      fixed acidity  volatile acidity  citric acid  residual sugar  chlorides  \\\n",
       "0               7.0              0.27         0.36            20.7      0.045   \n",
       "1               6.3              0.30         0.34             1.6      0.049   \n",
       "2               8.1              0.28         0.40             6.9      0.050   \n",
       "3               7.2              0.23         0.32             8.5      0.058   \n",
       "4               7.2              0.23         0.32             8.5      0.058   \n",
       "...             ...               ...          ...             ...        ...   \n",
       "4893            6.2              0.21         0.29             1.6      0.039   \n",
       "4894            6.6              0.32         0.36             8.0      0.047   \n",
       "4895            6.5              0.24         0.19             1.2      0.041   \n",
       "4896            5.5              0.29         0.30             1.1      0.022   \n",
       "4897            6.0              0.21         0.38             0.8      0.020   \n",
       "\n",
       "      free sulfur dioxide  total sulfur dioxide  density    pH  sulphates  \\\n",
       "0                    45.0                 170.0  1.00100  3.00       0.45   \n",
       "1                    14.0                 132.0  0.99400  3.30       0.49   \n",
       "2                    30.0                  97.0  0.99510  3.26       0.44   \n",
       "3                    47.0                 186.0  0.99560  3.19       0.40   \n",
       "4                    47.0                 186.0  0.99560  3.19       0.40   \n",
       "...                   ...                   ...      ...   ...        ...   \n",
       "4893                 24.0                  92.0  0.99114  3.27       0.50   \n",
       "4894                 57.0                 168.0  0.99490  3.15       0.46   \n",
       "4895                 30.0                 111.0  0.99254  2.99       0.46   \n",
       "4896                 20.0                 110.0  0.98869  3.34       0.38   \n",
       "4897                 22.0                  98.0  0.98941  3.26       0.32   \n",
       "\n",
       "      alcohol  quality  \n",
       "0         8.8        6  \n",
       "1         9.5        6  \n",
       "2        10.1        6  \n",
       "3         9.9        6  \n",
       "4         9.9        6  \n",
       "...       ...      ...  \n",
       "4893     11.2        6  \n",
       "4894      9.6        5  \n",
       "4895      9.4        6  \n",
       "4896     12.8        7  \n",
       "4897     11.8        6  \n",
       "\n",
       "[4898 rows x 12 columns]"
      ]
     },
     "execution_count": 6,
     "metadata": {},
     "output_type": "execute_result"
    }
   ],
   "source": [
    "df = pd.read_csv('data/winequality-white.csv', sep = ';')\n",
    "df"
   ]
  },
  {
   "cell_type": "code",
   "execution_count": 7,
   "id": "cd65d22e",
   "metadata": {},
   "outputs": [
    {
     "data": {
      "text/html": [
       "<div>\n",
       "<style scoped>\n",
       "    .dataframe tbody tr th:only-of-type {\n",
       "        vertical-align: middle;\n",
       "    }\n",
       "\n",
       "    .dataframe tbody tr th {\n",
       "        vertical-align: top;\n",
       "    }\n",
       "\n",
       "    .dataframe thead th {\n",
       "        text-align: right;\n",
       "    }\n",
       "</style>\n",
       "<table border=\"1\" class=\"dataframe\">\n",
       "  <thead>\n",
       "    <tr style=\"text-align: right;\">\n",
       "      <th></th>\n",
       "      <th>fixed acidity</th>\n",
       "      <th>volatile acidity</th>\n",
       "      <th>citric acid</th>\n",
       "      <th>residual sugar</th>\n",
       "      <th>chlorides</th>\n",
       "      <th>free sulfur dioxide</th>\n",
       "      <th>total sulfur dioxide</th>\n",
       "      <th>density</th>\n",
       "      <th>pH</th>\n",
       "      <th>sulphates</th>\n",
       "      <th>alcohol</th>\n",
       "      <th>quality</th>\n",
       "    </tr>\n",
       "  </thead>\n",
       "  <tbody>\n",
       "    <tr>\n",
       "      <th>0</th>\n",
       "      <td>70</td>\n",
       "      <td>27</td>\n",
       "      <td>36</td>\n",
       "      <td>207</td>\n",
       "      <td>45</td>\n",
       "      <td>45</td>\n",
       "      <td>170</td>\n",
       "      <td>10009</td>\n",
       "      <td>300</td>\n",
       "      <td>45</td>\n",
       "      <td>88</td>\n",
       "      <td>1</td>\n",
       "    </tr>\n",
       "    <tr>\n",
       "      <th>1</th>\n",
       "      <td>63</td>\n",
       "      <td>30</td>\n",
       "      <td>34</td>\n",
       "      <td>16</td>\n",
       "      <td>49</td>\n",
       "      <td>14</td>\n",
       "      <td>132</td>\n",
       "      <td>9940</td>\n",
       "      <td>330</td>\n",
       "      <td>49</td>\n",
       "      <td>95</td>\n",
       "      <td>1</td>\n",
       "    </tr>\n",
       "    <tr>\n",
       "      <th>2</th>\n",
       "      <td>81</td>\n",
       "      <td>28</td>\n",
       "      <td>40</td>\n",
       "      <td>69</td>\n",
       "      <td>50</td>\n",
       "      <td>30</td>\n",
       "      <td>97</td>\n",
       "      <td>9951</td>\n",
       "      <td>326</td>\n",
       "      <td>44</td>\n",
       "      <td>101</td>\n",
       "      <td>1</td>\n",
       "    </tr>\n",
       "    <tr>\n",
       "      <th>3</th>\n",
       "      <td>72</td>\n",
       "      <td>23</td>\n",
       "      <td>32</td>\n",
       "      <td>85</td>\n",
       "      <td>58</td>\n",
       "      <td>47</td>\n",
       "      <td>186</td>\n",
       "      <td>9956</td>\n",
       "      <td>319</td>\n",
       "      <td>40</td>\n",
       "      <td>99</td>\n",
       "      <td>1</td>\n",
       "    </tr>\n",
       "    <tr>\n",
       "      <th>4</th>\n",
       "      <td>72</td>\n",
       "      <td>23</td>\n",
       "      <td>32</td>\n",
       "      <td>85</td>\n",
       "      <td>58</td>\n",
       "      <td>47</td>\n",
       "      <td>186</td>\n",
       "      <td>9956</td>\n",
       "      <td>319</td>\n",
       "      <td>40</td>\n",
       "      <td>99</td>\n",
       "      <td>1</td>\n",
       "    </tr>\n",
       "  </tbody>\n",
       "</table>\n",
       "</div>"
      ],
      "text/plain": [
       "   fixed acidity  volatile acidity  citric acid  residual sugar  chlorides  \\\n",
       "0             70                27           36             207         45   \n",
       "1             63                30           34              16         49   \n",
       "2             81                28           40              69         50   \n",
       "3             72                23           32              85         58   \n",
       "4             72                23           32              85         58   \n",
       "\n",
       "   free sulfur dioxide  total sulfur dioxide  density   pH  sulphates  \\\n",
       "0                   45                   170    10009  300         45   \n",
       "1                   14                   132     9940  330         49   \n",
       "2                   30                    97     9951  326         44   \n",
       "3                   47                   186     9956  319         40   \n",
       "4                   47                   186     9956  319         40   \n",
       "\n",
       "   alcohol  quality  \n",
       "0       88        1  \n",
       "1       95        1  \n",
       "2      101        1  \n",
       "3       99        1  \n",
       "4       99        1  "
      ]
     },
     "execution_count": 7,
     "metadata": {},
     "output_type": "execute_result"
    }
   ],
   "source": [
    "# Преобразуем в целые (чтобы можно было с ними работать, как с категориальными)\n",
    "\n",
    "df['fixed acidity'] = df['fixed acidity'].apply(lambda val: int(val*10))\n",
    "df['volatile acidity'] = df['volatile acidity'].apply(lambda val: int(val*100))\n",
    "df['citric acid'] = df['citric acid'].apply(lambda val: int(val*100))\n",
    "df['residual sugar'] = df['residual sugar'].apply(lambda val: int(val*10))\n",
    "df['chlorides'] = df['chlorides'].apply(lambda val: int(val*1000))\n",
    "df['total sulfur dioxide'] = df['total sulfur dioxide'].apply(lambda val: int(val))\n",
    "df['free sulfur dioxide'] = df['free sulfur dioxide'].apply(lambda val: int(val))\n",
    "df['density'] = df['density'].apply(lambda val: int(val*10000))\n",
    "df['pH'] = df['pH'].apply(lambda val: int(val*100))\n",
    "df['sulphates'] = df['sulphates'].apply(lambda val: int(val*100))\n",
    "df['alcohol'] = df['alcohol'].apply(lambda val: int(val*10))\n",
    "\n",
    "# работать будем с качеством. Поделим на две категории: больше 5 - хорошее качество\n",
    "df['quality'] = df['quality'].apply(lambda val: 1 if val > 5 else 0)\n",
    "\n",
    "df.head()"
   ]
  },
  {
   "cell_type": "code",
   "execution_count": 8,
   "id": "dc00dc90",
   "metadata": {},
   "outputs": [
    {
     "name": "stdout",
     "output_type": "stream",
     "text": [
      "<class 'pandas.core.frame.DataFrame'>\n",
      "RangeIndex: 4898 entries, 0 to 4897\n",
      "Data columns (total 12 columns):\n",
      " #   Column                Non-Null Count  Dtype\n",
      "---  ------                --------------  -----\n",
      " 0   fixed acidity         4898 non-null   int64\n",
      " 1   volatile acidity      4898 non-null   int64\n",
      " 2   citric acid           4898 non-null   int64\n",
      " 3   residual sugar        4898 non-null   int64\n",
      " 4   chlorides             4898 non-null   int64\n",
      " 5   free sulfur dioxide   4898 non-null   int64\n",
      " 6   total sulfur dioxide  4898 non-null   int64\n",
      " 7   density               4898 non-null   int64\n",
      " 8   pH                    4898 non-null   int64\n",
      " 9   sulphates             4898 non-null   int64\n",
      " 10  alcohol               4898 non-null   int64\n",
      " 11  quality               4898 non-null   int64\n",
      "dtypes: int64(12)\n",
      "memory usage: 459.3 KB\n"
     ]
    }
   ],
   "source": [
    "df.info()"
   ]
  },
  {
   "cell_type": "markdown",
   "id": "d32b133f",
   "metadata": {},
   "source": [
    "<h2>1. CatBoostClassifier</h2>\n",
    "\n",
    "Применить классификатор CatBoostClassifier к вашему набору данных. Обратите внимание, что catboost умеет работать с категориальными признаками (параметр cat_features - список индексов категориальных признаков), поэтому использование pd.factorize / pd.get_dummies здесь лишнее.\n",
    "\n",
    "- Вывести итерацию с наилучшим значением AUC (для бинарной классификации) или наилучшим значением Logloss.\n",
    "- Вывести значения метрик качества классификации на тестовых данных (accuracy и precision / recall / AUC, если применимо).\n",
    "- В случае бинарной классификации на основе CatBoostClassifier построить кривые PRC и ROC. Вычислить значения PRC-AUC и ROC-AUC."
   ]
  },
  {
   "cell_type": "code",
   "execution_count": 9,
   "id": "6cd5e3fe",
   "metadata": {},
   "outputs": [
    {
     "name": "stdout",
     "output_type": "stream",
     "text": [
      "[0, 1, 2, 3, 4, 5, 6, 7, 8, 9, 10]\n"
     ]
    }
   ],
   "source": [
    "# Выделение целевой переменной\n",
    "Y = df.quality\n",
    "X = df.drop('quality', axis=1)\n",
    "\n",
    "# Делим на обучающую и тестовую\n",
    "X_train, X_test, Y_train, Y_test = train_test_split(X, Y, train_size = 0.8, random_state = 1234)\n",
    "\n",
    "# Объявление категориальных факторов\n",
    "cat_features = list(range(0, X.shape[1]))\n",
    "print(cat_features)"
   ]
  },
  {
   "cell_type": "code",
   "execution_count": 10,
   "id": "c7707921",
   "metadata": {},
   "outputs": [
    {
     "name": "stdout",
     "output_type": "stream",
     "text": [
      "Labels: \n",
      "Zero count = 1640, One count = 3258\n"
     ]
    }
   ],
   "source": [
    "print('Labels: '.format(set(Y)))\n",
    "print('Zero count = ' + str(len(Y) - sum(Y)) + ', One count = ' + str(sum(Y)))"
   ]
  },
  {
   "cell_type": "code",
   "execution_count": 11,
   "id": "cf973885",
   "metadata": {},
   "outputs": [
    {
     "data": {
      "text/plain": [
       "<catboost.core.CatBoostClassifier at 0x1b8552f8880>"
      ]
     },
     "execution_count": 11,
     "metadata": {},
     "output_type": "execute_result"
    }
   ],
   "source": [
    "# Обучение модели\n",
    "model = CatBoostClassifier(\n",
    "    iterations = 100,\n",
    "    learning_rate = 0.5,\n",
    "    random_seed = 63,\n",
    "    custom_loss = ['AUC', 'Accuracy'],\n",
    "    logging_level='Info'\n",
    ")\n",
    "model.fit(\n",
    "    X_train, Y_train,\n",
    "    cat_features=cat_features,\n",
    "    eval_set=(X_test, Y_test),\n",
    "    logging_level='Silent'   \n",
    ")"
   ]
  },
  {
   "cell_type": "code",
   "execution_count": 12,
   "id": "a410e845",
   "metadata": {},
   "outputs": [
    {
     "name": "stdout",
     "output_type": "stream",
     "text": [
      "\n",
      "Model is fitted: True\n",
      "Model params:{'iterations': 100, 'learning_rate': 0.5, 'random_seed': 63, 'logging_level': 'Info', 'custom_loss': ['AUC', 'Accuracy']}\n",
      "\n",
      "Best iteration: 76\n",
      "Best score:{'learn': {'Accuracy': 0.8660030627871363, 'Logloss': 0.33533730699245234}, 'validation': {'Accuracy': 0.7908163265306123, 'Logloss': 0.4507293962995739, 'AUC': 0.8426032550284047}}\n"
     ]
    }
   ],
   "source": [
    "# Параметры модели\n",
    "print()\n",
    "print('Model is fitted: ' + str(model.is_fitted()))\n",
    "print('Model params:' + str(model.get_params()))\n",
    "\n",
    "# Лучшие параметры модели\n",
    "print()\n",
    "best_it = model.get_best_iteration()\n",
    "print('Best iteration: ' + str(best_it))\n",
    "best_sc = model.best_score_\n",
    "print('Best score:'  + str(best_sc))"
   ]
  },
  {
   "cell_type": "code",
   "execution_count": 13,
   "id": "c8a7af3f",
   "metadata": {},
   "outputs": [
    {
     "name": "stdout",
     "output_type": "stream",
     "text": [
      "===== Metrics =====\n",
      "Accuracy:0.7857142857142857\n",
      "AUC: 0.7292242438200521\n",
      "Precision: 0.8162983425414365\n",
      "Recall: 0.8847305389221557\n",
      "===================\n"
     ]
    }
   ],
   "source": [
    "# Метрики\n",
    "accur = accuracy_score(Y_test, model.predict(X_test))\n",
    "roc = roc_auc_score(Y_test, model.predict(X_test))\n",
    "prec = precision_score(Y_test, model.predict(X_test))\n",
    "rec = recall_score(Y_test, model.predict(X_test))\n",
    "print('===== Metrics =====')\n",
    "print('Accuracy:'  + str(accur))\n",
    "print('AUC: ' + str(roc))\n",
    "print('Precision: ' + str(prec))\n",
    "print('Recall: ' + str(rec))\n",
    "print('===================')"
   ]
  },
  {
   "cell_type": "markdown",
   "id": "ceadc398",
   "metadata": {},
   "source": [
    "<h4>В предыдущей работу был другой дата сет, сравнение не уместно.</h4>"
   ]
  },
  {
   "cell_type": "code",
   "execution_count": 14,
   "id": "03024500",
   "metadata": {},
   "outputs": [
    {
     "name": "stderr",
     "output_type": "stream",
     "text": [
      "C:\\Users\\chapl\\AppData\\Local\\Programs\\Python\\Python310\\lib\\site-packages\\sklearn\\utils\\deprecation.py:87: FutureWarning: Function plot_roc_curve is deprecated; Function :func:`plot_roc_curve` is deprecated in 1.0 and will be removed in 1.2. Use one of the class methods: :meth:`sklearn.metric.RocCurveDisplay.from_predictions` or :meth:`sklearn.metric.RocCurveDisplay.from_estimator`.\n",
      "  warnings.warn(msg, category=FutureWarning)\n"
     ]
    },
    {
     "data": {
      "text/plain": [
       "<sklearn.metrics._plot.roc_curve.RocCurveDisplay at 0x1b8552f9810>"
      ]
     },
     "execution_count": 14,
     "metadata": {},
     "output_type": "execute_result"
    },
    {
     "data": {
      "image/png": "[encoded data removed]",
      "text/plain": [
       "<Figure size 432x288 with 1 Axes>"
      ]
     },
     "metadata": {
      "needs_background": "light"
     },
     "output_type": "display_data"
    }
   ],
   "source": [
    "# Roc-кривая\n",
    "plot_roc_curve(model, X_test, Y_test)"
   ]
  },
  {
   "cell_type": "code",
   "execution_count": 15,
   "id": "bb3e8179",
   "metadata": {},
   "outputs": [
    {
     "data": {
      "text/plain": [
       "<sklearn.metrics._plot.precision_recall_curve.PrecisionRecallDisplay at 0x1b8552f9ae0>"
      ]
     },
     "execution_count": 15,
     "metadata": {},
     "output_type": "execute_result"
    },
    {
     "data": {
      "image/png": "[encoded data removed]",
      "text/plain": [
       "<Figure size 432x288 with 1 Axes>"
      ]
     },
     "metadata": {
      "needs_background": "light"
     },
     "output_type": "display_data"
    }
   ],
   "source": [
    "# PRC-кривая и PRC-AUC\n",
    "PrecisionRecallDisplay.from_estimator(model, X_test, Y_test)"
   ]
  },
  {
   "cell_type": "markdown",
   "id": "477b554f",
   "metadata": {},
   "source": [
    "<h2>2. Применить регрессию CatBoostRegressor к набору данных для регрессии.</h2>\n",
    "Вывести номер итерации и значения метрик (MAE и MSE) для наилучшей итерации. Обратите внимание, что в задаче восстановления регрессии целевая переменная имеет непрерывные значения."
   ]
  },
  {
   "cell_type": "code",
   "execution_count": 16,
   "id": "2b480d5a",
   "metadata": {},
   "outputs": [
    {
     "data": {
      "text/plain": [
       "<catboost.core.CatBoostRegressor at 0x1b857518d00>"
      ]
     },
     "execution_count": 16,
     "metadata": {},
     "output_type": "execute_result"
    }
   ],
   "source": [
    "model_cbr = CatBoostRegressor(\n",
    "    custom_metric=[\"MAE\", \"RMSE\"], \n",
    "    cat_features = cat_features\n",
    ")\n",
    "\n",
    "model_cbr.fit(\n",
    "    X_train, Y_train,\n",
    "    eval_set=(X_test, Y_test),\n",
    "    logging_level='Silent'\n",
    ")"
   ]
  },
  {
   "cell_type": "code",
   "execution_count": 17,
   "id": "ae9ee2cc",
   "metadata": {},
   "outputs": [
    {
     "name": "stdout",
     "output_type": "stream",
     "text": [
      "\n",
      "Best iteration: 366\n",
      "Best score:{'learn': {'MAE': 0.19214343665544814, 'RMSE': 0.24843906442075847}, 'validation': {'MAE': 0.25643675971245156, 'RMSE': 0.3452023575049784}}\n"
     ]
    }
   ],
   "source": [
    "# Лучшие параметры модели\n",
    "print()\n",
    "best_it = model_cbr.get_best_iteration()\n",
    "print('Best iteration: ' + str(best_it))\n",
    "best_sc = model_cbr.best_score_\n",
    "print('Best score:'  + str(best_sc))"
   ]
  },
  {
   "cell_type": "code",
   "execution_count": 18,
   "id": "d744285c",
   "metadata": {},
   "outputs": [
    {
     "name": "stdout",
     "output_type": "stream",
     "text": [
      "===== Metrics =====\n",
      "MAE:  0.2565864159277731\n",
      "MSE:  0.11916466762699499\n",
      "===================\n"
     ]
    }
   ],
   "source": [
    "# Метрики качества регрессии\n",
    "mae_cbr = mean_absolute_error(Y_test, model_cbr.predict(X_test))\n",
    "msecbr = mean_squared_error(Y_test, model_cbr.predict(X_test))\n",
    "print('===== Metrics =====')\n",
    "print('MAE: ', mae_cbr)\n",
    "print('MSE: ', msecbr)\n",
    "print('===================')"
   ]
  }
 ],
 "metadata": {
  "kernelspec": {
   "display_name": "Python 3 (ipykernel)",
   "language": "python",
   "name": "python3"
  },
  "language_info": {
   "codemirror_mode": {
    "name": "ipython",
    "version": 3
   },
   "file_extension": ".py",
   "mimetype": "text/x-python",
   "name": "python",
   "nbconvert_exporter": "python",
   "pygments_lexer": "ipython3",
   "version": "3.10.2"
  }
 },
 "nbformat": 4,
 "nbformat_minor": 5
}
