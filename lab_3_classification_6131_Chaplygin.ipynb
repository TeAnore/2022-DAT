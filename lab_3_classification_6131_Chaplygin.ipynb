{
 "cells": [
  {
   "cell_type": "markdown",
   "id": "813e4b22",
   "metadata": {
    "tags": []
   },
   "source": [
    "<h1>Лабораторная работа 3</h1>\n",
    "<h2>Классификация в sklearn. Метрики классификации</h2>\n",
    "\n",
    "Выполнил: 6131 Чаплыгин Алексей Олегович"
   ]
  },
  {
   "cell_type": "markdown",
   "id": "26267020",
   "metadata": {
    "tags": []
   },
   "source": [
    "<h2>0. Набор данных</h2>\n",
    "Выберите наборы данных, подходящие для многоклассовой и бинарной классификации. Опишите данные, что обозначает каждый столбец, какого типа (категориальный, вещественный, целочисленный, бинарный) данный столбец, при необходимости для категориальных в том числе бинарных признаков привести расшифровку их значений. В общем, проведите \"визуальный\" анализ ваших данных.</br>\n",
    "Используемый в работе набор данных доступен по следующей ссылке: https://www.kaggle.com/rankirsh/evolution-of-top-games-on-twitch и описывает рейтинг популярных 200 игр, транслируемых на платформе Twitch с 2016 по 2021 года.\n",
    "В наборе данных содержится таблица с 12 столбцами.</br>\n",
    "<table border=\"1\">\n",
    "   <caption>Top games on Twitch 2016 - 2021</caption>\n",
    "   <tr>\n",
    "    <th>Номер столбца</th>\n",
    "    <th>Название столбца</th>\n",
    "    <th>Описание столбца</th>\n",
    "   </tr>\n",
    "   <tr><td>1</td><td>Rank</td><td>Значение рейтинга</td></tr>\n",
    "   <tr><td>2</td><td>Game</td><td>Наименование игры</td></tr>\n",
    "   <tr><td>3</td><td>Month</td><td>Месяц</td></tr>\n",
    "   <tr><td>4</td><td>Year</td><td>Год</td></tr>\n",
    "   <tr><td>5</td><td>Hours_watched</td><td>Колчествао часов, которое зрители смотрели</td></tr>\n",
    "   <tr><td>6</td><td>Hours_Streamed</td><td>Количество часов, которое стримеры стримили</td></tr>\n",
    "   <tr><td>7</td><td>Peak_viewers</td><td>Максимальное количество зрителей</td></tr>\n",
    "   <tr><td>8</td><td>Peak_channels</td><td>Максимальное количество каналов на которых происходила трансляция одновременно</td></tr>\n",
    "   <tr><td>9</td><td>Streamers</td><td>Всего стримеров, которые стримили эту игру</td></tr>\n",
    "   <tr><td>10</td><td>Avg_viewers</td><td>Среднее количество просмотров</td></tr>\n",
    "   <tr><td>11</td><td>Avg_channels</td><td>Среднее количество каналов</td></tr>\n",
    "   <tr><td>12</td><td>Avg_viewer_ratio</td><td>Средний коэффициент просмотров</td></tr>\n",
    "  </table>"
   ]
  },
  {
   "cell_type": "markdown",
   "id": "39cd2382-c430-4beb-99ac-be4ecd4377f4",
   "metadata": {
    "tags": []
   },
   "source": [
    "<h2>Дополнительная информация</h2>\n",
    "<ul>\n",
    "  <li><a href=\"https://habr.com/ru/company/piter/blog/488362/\">[HABR] Классификация с многими метками</a></li>\n",
    "  <li><a href=\"https://docs.microsoft.com/ru-ru/azure/machine-learning/component-reference/one-vs-all-multiclass\">[Microsoft - Azure] Многоклассовая классификация \"один-все\"</a></li>\n",
    "</ul>"
   ]
  },
  {
   "cell_type": "code",
   "execution_count": 1,
   "id": "b8cb2b33-7751-46ec-b03d-1df724044dfd",
   "metadata": {},
   "outputs": [],
   "source": [
    "# PRE INIT ROW\n",
    "# for new libraries if need\n",
    "# !pip install "
   ]
  },
  {
   "cell_type": "code",
   "execution_count": 2,
   "id": "d1de1454-e79c-42ab-b8de-10897782500c",
   "metadata": {},
   "outputs": [],
   "source": [
    "# INIT IMPORT\n",
    "import pandas as pd\n",
    "import numpy as np\n",
    "import seaborn as sns\n",
    "\n",
    "import matplotlib.pyplot as plt\n",
    "from scipy.stats import probplot\n",
    "\n",
    "from sklearn.model_selection import train_test_split\n",
    "from sklearn.preprocessing import StandardScaler\n",
    "from sklearn.ensemble import RandomForestClassifier\n",
    "from sklearn.naive_bayes import GaussianNB\n",
    "from sklearn.neighbors import KNeighborsClassifier\n",
    "from sklearn.tree import DecisionTreeClassifier\n",
    "from sklearn.linear_model import LogisticRegression\n",
    "from sklearn.metrics import confusion_matrix, precision_recall_curve, classification_report, confusion_matrix, accuracy_score, roc_curve\n",
    "\n",
    "import warnings\n",
    "warnings.filterwarnings(\"ignore\")"
   ]
  },
  {
   "cell_type": "code",
   "execution_count": 3,
   "id": "85ddae37-5cca-4193-a2db-fc1f4771f8c0",
   "metadata": {},
   "outputs": [],
   "source": [
    "# MAIN FUNCS\n",
    "\n",
    "# Функция условной градации классов на основании рейтига\n",
    "def class_ratio(r):\n",
    "    if r > (max(data_exp['Avg_viewer_ratio']) / 3) :\n",
    "        c = 1\n",
    "    elif r < (max(data_exp['Avg_viewer_ratio']) / 3) and r > (max(data_exp['Avg_viewer_ratio']) / 4):\n",
    "        c = 2\n",
    "    elif r < (max(data_exp['Avg_viewer_ratio']) / 5):\n",
    "        c = 3\n",
    "    else:\n",
    "        c = 0\n",
    "    return c\n",
    "\n",
    "# Функция условной бинарной градации записей на основании рейтига\n",
    "def binary_ratio(r):\n",
    "    if r > 10000 :\n",
    "        c = 'High'\n",
    "    else:\n",
    "        c = 'Low'\n",
    "    return c\n",
    "\n",
    "# Функция определениея точности в %\n",
    "def evaluate(P, T):\n",
    "    # P - Предсказанные значение\n",
    "    # T - Истинные значения\n",
    "    # accuracy = correct predictions / all predictions\n",
    "    accuracy = np.mean(P == T)\n",
    "    return accuracy*100"
   ]
  },
  {
   "cell_type": "code",
   "execution_count": 4,
   "id": "6ffa1024",
   "metadata": {},
   "outputs": [],
   "source": [
    "data = pd.read_csv('data/Twitch_game_data.csv', sep=',', encoding='windows-1251')"
   ]
  },
  {
   "cell_type": "code",
   "execution_count": 5,
   "id": "24952d98",
   "metadata": {},
   "outputs": [
    {
     "data": {
      "text/html": [
       "<div>\n",
       "<style scoped>\n",
       "    .dataframe tbody tr th:only-of-type {\n",
       "        vertical-align: middle;\n",
       "    }\n",
       "\n",
       "    .dataframe tbody tr th {\n",
       "        vertical-align: top;\n",
       "    }\n",
       "\n",
       "    .dataframe thead th {\n",
       "        text-align: right;\n",
       "    }\n",
       "</style>\n",
       "<table border=\"1\" class=\"dataframe\">\n",
       "  <thead>\n",
       "    <tr style=\"text-align: right;\">\n",
       "      <th></th>\n",
       "      <th>Rank</th>\n",
       "      <th>Game</th>\n",
       "      <th>Month</th>\n",
       "      <th>Year</th>\n",
       "      <th>Hours_watched</th>\n",
       "      <th>Hours_Streamed</th>\n",
       "      <th>Peak_viewers</th>\n",
       "      <th>Peak_channels</th>\n",
       "      <th>Streamers</th>\n",
       "      <th>Avg_viewers</th>\n",
       "      <th>Avg_channels</th>\n",
       "      <th>Avg_viewer_ratio</th>\n",
       "    </tr>\n",
       "  </thead>\n",
       "  <tbody>\n",
       "    <tr>\n",
       "      <th>0</th>\n",
       "      <td>1</td>\n",
       "      <td>League of Legends</td>\n",
       "      <td>1</td>\n",
       "      <td>2016</td>\n",
       "      <td>94377226</td>\n",
       "      <td>1362044 hours</td>\n",
       "      <td>530270</td>\n",
       "      <td>2903</td>\n",
       "      <td>129172</td>\n",
       "      <td>127021</td>\n",
       "      <td>1833</td>\n",
       "      <td>69.29</td>\n",
       "    </tr>\n",
       "    <tr>\n",
       "      <th>1</th>\n",
       "      <td>2</td>\n",
       "      <td>Counter-Strike: Global Offensive</td>\n",
       "      <td>1</td>\n",
       "      <td>2016</td>\n",
       "      <td>47832863</td>\n",
       "      <td>830105 hours</td>\n",
       "      <td>372654</td>\n",
       "      <td>2197</td>\n",
       "      <td>120849</td>\n",
       "      <td>64378</td>\n",
       "      <td>1117</td>\n",
       "      <td>57.62</td>\n",
       "    </tr>\n",
       "    <tr>\n",
       "      <th>2</th>\n",
       "      <td>3</td>\n",
       "      <td>Dota 2</td>\n",
       "      <td>1</td>\n",
       "      <td>2016</td>\n",
       "      <td>45185893</td>\n",
       "      <td>433397 hours</td>\n",
       "      <td>315083</td>\n",
       "      <td>1100</td>\n",
       "      <td>44074</td>\n",
       "      <td>60815</td>\n",
       "      <td>583</td>\n",
       "      <td>104.26</td>\n",
       "    </tr>\n",
       "    <tr>\n",
       "      <th>3</th>\n",
       "      <td>4</td>\n",
       "      <td>Hearthstone</td>\n",
       "      <td>1</td>\n",
       "      <td>2016</td>\n",
       "      <td>39936159</td>\n",
       "      <td>235903 hours</td>\n",
       "      <td>131357</td>\n",
       "      <td>517</td>\n",
       "      <td>36170</td>\n",
       "      <td>53749</td>\n",
       "      <td>317</td>\n",
       "      <td>169.29</td>\n",
       "    </tr>\n",
       "    <tr>\n",
       "      <th>4</th>\n",
       "      <td>5</td>\n",
       "      <td>Call of Duty: Black Ops III</td>\n",
       "      <td>1</td>\n",
       "      <td>2016</td>\n",
       "      <td>16153057</td>\n",
       "      <td>1151578 hours</td>\n",
       "      <td>71639</td>\n",
       "      <td>3620</td>\n",
       "      <td>214054</td>\n",
       "      <td>21740</td>\n",
       "      <td>1549</td>\n",
       "      <td>14.03</td>\n",
       "    </tr>\n",
       "  </tbody>\n",
       "</table>\n",
       "</div>"
      ],
      "text/plain": [
       "   Rank                              Game  Month  Year  Hours_watched  \\\n",
       "0     1                 League of Legends      1  2016       94377226   \n",
       "1     2  Counter-Strike: Global Offensive      1  2016       47832863   \n",
       "2     3                            Dota 2      1  2016       45185893   \n",
       "3     4                       Hearthstone      1  2016       39936159   \n",
       "4     5       Call of Duty: Black Ops III      1  2016       16153057   \n",
       "\n",
       "  Hours_Streamed  Peak_viewers  Peak_channels  Streamers  Avg_viewers  \\\n",
       "0  1362044 hours        530270           2903     129172       127021   \n",
       "1   830105 hours        372654           2197     120849        64378   \n",
       "2   433397 hours        315083           1100      44074        60815   \n",
       "3   235903 hours        131357            517      36170        53749   \n",
       "4  1151578 hours         71639           3620     214054        21740   \n",
       "\n",
       "   Avg_channels  Avg_viewer_ratio  \n",
       "0          1833             69.29  \n",
       "1          1117             57.62  \n",
       "2           583            104.26  \n",
       "3           317            169.29  \n",
       "4          1549             14.03  "
      ]
     },
     "execution_count": 5,
     "metadata": {},
     "output_type": "execute_result"
    }
   ],
   "source": [
    "data.head()"
   ]
  },
  {
   "cell_type": "markdown",
   "id": "5374851d-09bb-4d1a-a176-afa120e1b2bd",
   "metadata": {},
   "source": [
    "<h2> 1. Многоклассовая классификация:</h2> \n",
    "<ol>\n",
    "    <li>На любом датасете продемонстрировать многоклассовую классификацию с помощью ЛЮБОГО алгоритма. Оценить accuracy.</li>\n",
    "    <li>То же самое с использованием кросс-валидации</li>\n",
    "    <li>Поиграться с гиперпараметром, связанным со сложностью модели (в случае kNN — k_neighbours) и построить график accuracy для train set и test_set для разных значений гиперпараметра (в лекции есть пример построения подобного графика для kNN и датасета cancer, но можно строить как угодно такой график)</li>\n",
    "    <li>Построить confusion matrix (это вроде матрицы TN / TP/ FN/ FP, только расширенной для многоклассовой классификации, чтобы понять в какие стороны чаще ошибается классификатор)</li>\n",
    "</ol> "
   ]
  },
  {
   "cell_type": "code",
   "execution_count": 6,
   "id": "576df6f4",
   "metadata": {},
   "outputs": [
    {
     "data": {
      "text/plain": [
       "13601.87"
      ]
     },
     "execution_count": 6,
     "metadata": {},
     "output_type": "execute_result"
    }
   ],
   "source": [
    "# Преобразуем данные и добавляем условыне классы на основании рейтинга Avg_viewer_ratio\n",
    "data_exp = data.copy()\n",
    "\n",
    "max(data_exp['Avg_viewer_ratio'])"
   ]
  },
  {
   "cell_type": "code",
   "execution_count": 40,
   "id": "f2d23c35-eb87-4657-93a2-2a6153e55a04",
   "metadata": {},
   "outputs": [
    {
     "ename": "KeyError",
     "evalue": "\"['Game' 'Rank'] not found in axis\"",
     "output_type": "error",
     "traceback": [
      "\u001b[1;31m---------------------------------------------------------------------------\u001b[0m",
      "\u001b[1;31mKeyError\u001b[0m                                  Traceback (most recent call last)",
      "\u001b[1;32m~\\AppData\\Local\\Temp/ipykernel_14972/2203377734.py\u001b[0m in \u001b[0;36m<module>\u001b[1;34m\u001b[0m\n\u001b[0;32m      1\u001b[0m \u001b[0mdata_exp\u001b[0m\u001b[1;33m[\u001b[0m\u001b[1;34m'Hours_Streamed'\u001b[0m\u001b[1;33m]\u001b[0m \u001b[1;33m=\u001b[0m \u001b[0mdata_exp\u001b[0m\u001b[1;33m.\u001b[0m\u001b[0mapply\u001b[0m\u001b[1;33m(\u001b[0m\u001b[1;32mlambda\u001b[0m \u001b[0mx\u001b[0m\u001b[1;33m:\u001b[0m \u001b[0mx\u001b[0m\u001b[1;33m[\u001b[0m\u001b[1;34m'Hours_Streamed'\u001b[0m\u001b[1;33m]\u001b[0m\u001b[1;33m.\u001b[0m\u001b[0mreplace\u001b[0m\u001b[1;33m(\u001b[0m\u001b[1;34m' hours'\u001b[0m\u001b[1;33m,\u001b[0m \u001b[1;34m''\u001b[0m\u001b[1;33m)\u001b[0m \u001b[1;33m,\u001b[0m \u001b[0maxis\u001b[0m\u001b[1;33m=\u001b[0m\u001b[1;36m1\u001b[0m\u001b[1;33m)\u001b[0m\u001b[1;33m\u001b[0m\u001b[1;33m\u001b[0m\u001b[0m\n\u001b[0;32m      2\u001b[0m \u001b[0mdata_exp\u001b[0m\u001b[1;33m[\u001b[0m\u001b[1;34m'Class_Ratio'\u001b[0m\u001b[1;33m]\u001b[0m \u001b[1;33m=\u001b[0m \u001b[0mdata_exp\u001b[0m\u001b[1;33m.\u001b[0m\u001b[0mapply\u001b[0m\u001b[1;33m(\u001b[0m\u001b[1;32mlambda\u001b[0m \u001b[0mrow\u001b[0m\u001b[1;33m:\u001b[0m \u001b[0mclass_ratio\u001b[0m\u001b[1;33m(\u001b[0m\u001b[0mrow\u001b[0m\u001b[1;33m[\u001b[0m\u001b[1;34m'Avg_viewer_ratio'\u001b[0m\u001b[1;33m]\u001b[0m\u001b[1;33m)\u001b[0m\u001b[1;33m,\u001b[0m \u001b[0maxis\u001b[0m \u001b[1;33m=\u001b[0m \u001b[1;36m1\u001b[0m\u001b[1;33m)\u001b[0m\u001b[1;33m\u001b[0m\u001b[1;33m\u001b[0m\u001b[0m\n\u001b[1;32m----> 3\u001b[1;33m \u001b[0mdata_exp\u001b[0m \u001b[1;33m=\u001b[0m \u001b[0mdata_exp\u001b[0m\u001b[1;33m.\u001b[0m\u001b[0mdrop\u001b[0m\u001b[1;33m(\u001b[0m\u001b[0mcolumns\u001b[0m \u001b[1;33m=\u001b[0m \u001b[1;33m[\u001b[0m\u001b[1;34m'Game'\u001b[0m\u001b[1;33m,\u001b[0m \u001b[1;34m'Rank'\u001b[0m\u001b[1;33m]\u001b[0m\u001b[1;33m,\u001b[0m \u001b[0maxis\u001b[0m \u001b[1;33m=\u001b[0m \u001b[1;36m1\u001b[0m\u001b[1;33m)\u001b[0m\u001b[1;33m\u001b[0m\u001b[1;33m\u001b[0m\u001b[0m\n\u001b[0m\u001b[0;32m      4\u001b[0m \u001b[0mdata_exp\u001b[0m\u001b[1;33m.\u001b[0m\u001b[0mhead\u001b[0m\u001b[1;33m(\u001b[0m\u001b[1;33m)\u001b[0m\u001b[1;33m\u001b[0m\u001b[1;33m\u001b[0m\u001b[0m\n",
      "\u001b[1;32m~\\AppData\\Local\\Programs\\Python\\Python39\\lib\\site-packages\\pandas\\util\\_decorators.py\u001b[0m in \u001b[0;36mwrapper\u001b[1;34m(*args, **kwargs)\u001b[0m\n\u001b[0;32m    309\u001b[0m                     \u001b[0mstacklevel\u001b[0m\u001b[1;33m=\u001b[0m\u001b[0mstacklevel\u001b[0m\u001b[1;33m,\u001b[0m\u001b[1;33m\u001b[0m\u001b[1;33m\u001b[0m\u001b[0m\n\u001b[0;32m    310\u001b[0m                 )\n\u001b[1;32m--> 311\u001b[1;33m             \u001b[1;32mreturn\u001b[0m \u001b[0mfunc\u001b[0m\u001b[1;33m(\u001b[0m\u001b[1;33m*\u001b[0m\u001b[0margs\u001b[0m\u001b[1;33m,\u001b[0m \u001b[1;33m**\u001b[0m\u001b[0mkwargs\u001b[0m\u001b[1;33m)\u001b[0m\u001b[1;33m\u001b[0m\u001b[1;33m\u001b[0m\u001b[0m\n\u001b[0m\u001b[0;32m    312\u001b[0m \u001b[1;33m\u001b[0m\u001b[0m\n\u001b[0;32m    313\u001b[0m         \u001b[1;32mreturn\u001b[0m \u001b[0mwrapper\u001b[0m\u001b[1;33m\u001b[0m\u001b[1;33m\u001b[0m\u001b[0m\n",
      "\u001b[1;32m~\\AppData\\Local\\Programs\\Python\\Python39\\lib\\site-packages\\pandas\\core\\frame.py\u001b[0m in \u001b[0;36mdrop\u001b[1;34m(self, labels, axis, index, columns, level, inplace, errors)\u001b[0m\n\u001b[0;32m   4904\u001b[0m                 \u001b[0mweight\u001b[0m  \u001b[1;36m1.0\u001b[0m     \u001b[1;36m0.8\u001b[0m\u001b[1;33m\u001b[0m\u001b[1;33m\u001b[0m\u001b[0m\n\u001b[0;32m   4905\u001b[0m         \"\"\"\n\u001b[1;32m-> 4906\u001b[1;33m         return super().drop(\n\u001b[0m\u001b[0;32m   4907\u001b[0m             \u001b[0mlabels\u001b[0m\u001b[1;33m=\u001b[0m\u001b[0mlabels\u001b[0m\u001b[1;33m,\u001b[0m\u001b[1;33m\u001b[0m\u001b[1;33m\u001b[0m\u001b[0m\n\u001b[0;32m   4908\u001b[0m             \u001b[0maxis\u001b[0m\u001b[1;33m=\u001b[0m\u001b[0maxis\u001b[0m\u001b[1;33m,\u001b[0m\u001b[1;33m\u001b[0m\u001b[1;33m\u001b[0m\u001b[0m\n",
      "\u001b[1;32m~\\AppData\\Local\\Programs\\Python\\Python39\\lib\\site-packages\\pandas\\core\\generic.py\u001b[0m in \u001b[0;36mdrop\u001b[1;34m(self, labels, axis, index, columns, level, inplace, errors)\u001b[0m\n\u001b[0;32m   4148\u001b[0m         \u001b[1;32mfor\u001b[0m \u001b[0maxis\u001b[0m\u001b[1;33m,\u001b[0m \u001b[0mlabels\u001b[0m \u001b[1;32min\u001b[0m \u001b[0maxes\u001b[0m\u001b[1;33m.\u001b[0m\u001b[0mitems\u001b[0m\u001b[1;33m(\u001b[0m\u001b[1;33m)\u001b[0m\u001b[1;33m:\u001b[0m\u001b[1;33m\u001b[0m\u001b[1;33m\u001b[0m\u001b[0m\n\u001b[0;32m   4149\u001b[0m             \u001b[1;32mif\u001b[0m \u001b[0mlabels\u001b[0m \u001b[1;32mis\u001b[0m \u001b[1;32mnot\u001b[0m \u001b[1;32mNone\u001b[0m\u001b[1;33m:\u001b[0m\u001b[1;33m\u001b[0m\u001b[1;33m\u001b[0m\u001b[0m\n\u001b[1;32m-> 4150\u001b[1;33m                 \u001b[0mobj\u001b[0m \u001b[1;33m=\u001b[0m \u001b[0mobj\u001b[0m\u001b[1;33m.\u001b[0m\u001b[0m_drop_axis\u001b[0m\u001b[1;33m(\u001b[0m\u001b[0mlabels\u001b[0m\u001b[1;33m,\u001b[0m \u001b[0maxis\u001b[0m\u001b[1;33m,\u001b[0m \u001b[0mlevel\u001b[0m\u001b[1;33m=\u001b[0m\u001b[0mlevel\u001b[0m\u001b[1;33m,\u001b[0m \u001b[0merrors\u001b[0m\u001b[1;33m=\u001b[0m\u001b[0merrors\u001b[0m\u001b[1;33m)\u001b[0m\u001b[1;33m\u001b[0m\u001b[1;33m\u001b[0m\u001b[0m\n\u001b[0m\u001b[0;32m   4151\u001b[0m \u001b[1;33m\u001b[0m\u001b[0m\n\u001b[0;32m   4152\u001b[0m         \u001b[1;32mif\u001b[0m \u001b[0minplace\u001b[0m\u001b[1;33m:\u001b[0m\u001b[1;33m\u001b[0m\u001b[1;33m\u001b[0m\u001b[0m\n",
      "\u001b[1;32m~\\AppData\\Local\\Programs\\Python\\Python39\\lib\\site-packages\\pandas\\core\\generic.py\u001b[0m in \u001b[0;36m_drop_axis\u001b[1;34m(self, labels, axis, level, errors)\u001b[0m\n\u001b[0;32m   4183\u001b[0m                 \u001b[0mnew_axis\u001b[0m \u001b[1;33m=\u001b[0m \u001b[0maxis\u001b[0m\u001b[1;33m.\u001b[0m\u001b[0mdrop\u001b[0m\u001b[1;33m(\u001b[0m\u001b[0mlabels\u001b[0m\u001b[1;33m,\u001b[0m \u001b[0mlevel\u001b[0m\u001b[1;33m=\u001b[0m\u001b[0mlevel\u001b[0m\u001b[1;33m,\u001b[0m \u001b[0merrors\u001b[0m\u001b[1;33m=\u001b[0m\u001b[0merrors\u001b[0m\u001b[1;33m)\u001b[0m\u001b[1;33m\u001b[0m\u001b[1;33m\u001b[0m\u001b[0m\n\u001b[0;32m   4184\u001b[0m             \u001b[1;32melse\u001b[0m\u001b[1;33m:\u001b[0m\u001b[1;33m\u001b[0m\u001b[1;33m\u001b[0m\u001b[0m\n\u001b[1;32m-> 4185\u001b[1;33m                 \u001b[0mnew_axis\u001b[0m \u001b[1;33m=\u001b[0m \u001b[0maxis\u001b[0m\u001b[1;33m.\u001b[0m\u001b[0mdrop\u001b[0m\u001b[1;33m(\u001b[0m\u001b[0mlabels\u001b[0m\u001b[1;33m,\u001b[0m \u001b[0merrors\u001b[0m\u001b[1;33m=\u001b[0m\u001b[0merrors\u001b[0m\u001b[1;33m)\u001b[0m\u001b[1;33m\u001b[0m\u001b[1;33m\u001b[0m\u001b[0m\n\u001b[0m\u001b[0;32m   4186\u001b[0m             \u001b[0mresult\u001b[0m \u001b[1;33m=\u001b[0m \u001b[0mself\u001b[0m\u001b[1;33m.\u001b[0m\u001b[0mreindex\u001b[0m\u001b[1;33m(\u001b[0m\u001b[1;33m**\u001b[0m\u001b[1;33m{\u001b[0m\u001b[0maxis_name\u001b[0m\u001b[1;33m:\u001b[0m \u001b[0mnew_axis\u001b[0m\u001b[1;33m}\u001b[0m\u001b[1;33m)\u001b[0m\u001b[1;33m\u001b[0m\u001b[1;33m\u001b[0m\u001b[0m\n\u001b[0;32m   4187\u001b[0m \u001b[1;33m\u001b[0m\u001b[0m\n",
      "\u001b[1;32m~\\AppData\\Local\\Programs\\Python\\Python39\\lib\\site-packages\\pandas\\core\\indexes\\base.py\u001b[0m in \u001b[0;36mdrop\u001b[1;34m(self, labels, errors)\u001b[0m\n\u001b[0;32m   6015\u001b[0m         \u001b[1;32mif\u001b[0m \u001b[0mmask\u001b[0m\u001b[1;33m.\u001b[0m\u001b[0many\u001b[0m\u001b[1;33m(\u001b[0m\u001b[1;33m)\u001b[0m\u001b[1;33m:\u001b[0m\u001b[1;33m\u001b[0m\u001b[1;33m\u001b[0m\u001b[0m\n\u001b[0;32m   6016\u001b[0m             \u001b[1;32mif\u001b[0m \u001b[0merrors\u001b[0m \u001b[1;33m!=\u001b[0m \u001b[1;34m\"ignore\"\u001b[0m\u001b[1;33m:\u001b[0m\u001b[1;33m\u001b[0m\u001b[1;33m\u001b[0m\u001b[0m\n\u001b[1;32m-> 6017\u001b[1;33m                 \u001b[1;32mraise\u001b[0m \u001b[0mKeyError\u001b[0m\u001b[1;33m(\u001b[0m\u001b[1;34mf\"{labels[mask]} not found in axis\"\u001b[0m\u001b[1;33m)\u001b[0m\u001b[1;33m\u001b[0m\u001b[1;33m\u001b[0m\u001b[0m\n\u001b[0m\u001b[0;32m   6018\u001b[0m             \u001b[0mindexer\u001b[0m \u001b[1;33m=\u001b[0m \u001b[0mindexer\u001b[0m\u001b[1;33m[\u001b[0m\u001b[1;33m~\u001b[0m\u001b[0mmask\u001b[0m\u001b[1;33m]\u001b[0m\u001b[1;33m\u001b[0m\u001b[1;33m\u001b[0m\u001b[0m\n\u001b[0;32m   6019\u001b[0m         \u001b[1;32mreturn\u001b[0m \u001b[0mself\u001b[0m\u001b[1;33m.\u001b[0m\u001b[0mdelete\u001b[0m\u001b[1;33m(\u001b[0m\u001b[0mindexer\u001b[0m\u001b[1;33m)\u001b[0m\u001b[1;33m\u001b[0m\u001b[1;33m\u001b[0m\u001b[0m\n",
      "\u001b[1;31mKeyError\u001b[0m: \"['Game' 'Rank'] not found in axis\""
     ]
    }
   ],
   "source": [
    "data_exp['Hours_Streamed'] = data_exp.apply(lambda x: x['Hours_Streamed'].replace(' hours', '') , axis=1)\n",
    "data_exp['Class_Ratio'] = data_exp.apply(lambda row: class_ratio(row['Avg_viewer_ratio']), axis = 1)\n",
    "data_exp = data_exp.drop(columns = ['Game', 'Rank'], axis = 1)\n",
    "data_exp.head()"
   ]
  },
  {
   "cell_type": "code",
   "execution_count": 11,
   "id": "1f627bbf",
   "metadata": {
    "tags": []
   },
   "outputs": [
    {
     "data": {
      "text/plain": [
       "3"
      ]
     },
     "execution_count": 11,
     "metadata": {},
     "output_type": "execute_result"
    }
   ],
   "source": [
    "max(data_exp['Class_Ratio'])"
   ]
  },
  {
   "cell_type": "code",
   "execution_count": 12,
   "id": "d2e53a0f-eab2-4153-8b96-6856e32f0601",
   "metadata": {},
   "outputs": [
    {
     "data": {
      "text/plain": [
       "3    14353\n",
       "1       22\n",
       "2       18\n",
       "0        7\n",
       "Name: Class_Ratio, dtype: int64"
      ]
     },
     "execution_count": 12,
     "metadata": {},
     "output_type": "execute_result"
    }
   ],
   "source": [
    "data_exp['Class_Ratio'].value_counts()"
   ]
  },
  {
   "cell_type": "code",
   "execution_count": 13,
   "id": "49f8889a",
   "metadata": {},
   "outputs": [
    {
     "data": {
      "text/plain": [
       "(14400, 11)"
      ]
     },
     "execution_count": 13,
     "metadata": {},
     "output_type": "execute_result"
    }
   ],
   "source": [
    "data_exp.shape"
   ]
  },
  {
   "cell_type": "code",
   "execution_count": 14,
   "id": "49528e0c",
   "metadata": {},
   "outputs": [],
   "source": [
    "# Делим набор данных\n",
    "X = data_exp.iloc[:, 0:9].values\n",
    "Y = data_exp.iloc[:, 10].values\n",
    "\n",
    "# Формируем обучающую и тестовую выборки\n",
    "X_train, X_test, Y_train, Y_test = train_test_split(X, Y, test_size = 0.25, random_state = 25)"
   ]
  },
  {
   "cell_type": "code",
   "execution_count": 15,
   "id": "8d549d77",
   "metadata": {},
   "outputs": [
    {
     "data": {
      "text/plain": [
       "((10800, 9), (3600, 9))"
      ]
     },
     "execution_count": 15,
     "metadata": {},
     "output_type": "execute_result"
    }
   ],
   "source": [
    "X_train.shape, X_test.shape"
   ]
  },
  {
   "cell_type": "code",
   "execution_count": 16,
   "id": "fcea735d",
   "metadata": {},
   "outputs": [
    {
     "data": {
      "text/plain": [
       "(10800, 3600)"
      ]
     },
     "execution_count": 16,
     "metadata": {},
     "output_type": "execute_result"
    }
   ],
   "source": [
    "len(Y_train), len(Y_test)"
   ]
  },
  {
   "cell_type": "markdown",
   "id": "eee63e54",
   "metadata": {},
   "source": [
    "<h3>sklearn.ensemble.RandomForestClassifier</h3>\n",
    "Параметры:</br>\n",
    "<ul>\n",
    "    <li>n_estimators - число деревьев в классификации случайных лесов</li>\n",
    "    <li>критерий - функция потерь (джини или энтропия)</li>\n",
    "    <li>random_state - начальное значение, используемое генератором случайных состояний для рандомизации набора данныхв</li>\n",
    "</ul> "
   ]
  },
  {
   "cell_type": "code",
   "execution_count": 17,
   "id": "a6fe86f7",
   "metadata": {},
   "outputs": [
    {
     "data": {
      "text/plain": [
       "RandomForestClassifier(criterion='entropy', n_estimators=10, random_state=42)"
      ]
     },
     "execution_count": 17,
     "metadata": {},
     "output_type": "execute_result"
    }
   ],
   "source": [
    "# обучение\n",
    "model_Tree = RandomForestClassifier(n_estimators = 10, criterion = 'entropy', random_state = 42)\n",
    "model_Tree.fit(X_train, Y_train)"
   ]
  },
  {
   "cell_type": "code",
   "execution_count": 18,
   "id": "18847696",
   "metadata": {},
   "outputs": [],
   "source": [
    "Y_Tree = model_Tree.predict(X_test)"
   ]
  },
  {
   "cell_type": "code",
   "execution_count": 19,
   "id": "1bcf2a60",
   "metadata": {},
   "outputs": [
    {
     "data": {
      "text/plain": [
       "array([[3, 3],\n",
       "       [3, 3],\n",
       "       [3, 3],\n",
       "       ...,\n",
       "       [3, 3],\n",
       "       [3, 3],\n",
       "       [3, 3]], dtype=int64)"
      ]
     },
     "execution_count": 19,
     "metadata": {},
     "output_type": "execute_result"
    }
   ],
   "source": [
    "compare = np.vstack([Y_Tree, Y_test]).T\n",
    "compare"
   ]
  },
  {
   "cell_type": "code",
   "execution_count": 20,
   "id": "dced8b1a",
   "metadata": {},
   "outputs": [
    {
     "data": {
      "text/plain": [
       "array([[   0,    1,    0,    0],\n",
       "       [   0,    5,    1,    0],\n",
       "       [   0,    1,    3,    1],\n",
       "       [   0,    0,    0, 3588]], dtype=int64)"
      ]
     },
     "execution_count": 20,
     "metadata": {},
     "output_type": "execute_result"
    }
   ],
   "source": [
    "# Вычисление матрицы ошибок\n",
    "# (i, j) элементы матрицы показывают число элементов класса `i` отнесённых классификатором к классу `j`\n",
    "# i - строки\n",
    "# j - столбцы\n",
    "conf_mat_Tree = confusion_matrix(Y_test, Y_Tree)\n",
    "conf_mat_Tree"
   ]
  },
  {
   "cell_type": "code",
   "execution_count": 21,
   "id": "16623be8",
   "metadata": {},
   "outputs": [
    {
     "data": {
      "text/plain": [
       "<AxesSubplot:>"
      ]
     },
     "execution_count": 21,
     "metadata": {},
     "output_type": "execute_result"
    },
    {
     "data": {
      "image/png": "[encoded data removed]",
      "text/plain": [
       "<Figure size 432x288 with 2 Axes>"
      ]
     },
     "metadata": {
      "needs_background": "light"
     },
     "output_type": "display_data"
    }
   ],
   "source": [
    "# Визуализация матрицы ошибок\n",
    "sns.heatmap(conf_mat_Tree, annot=True)"
   ]
  },
  {
   "cell_type": "code",
   "execution_count": 22,
   "id": "81f9222c",
   "metadata": {},
   "outputs": [
    {
     "name": "stdout",
     "output_type": "stream",
     "text": [
      "Evaluate = 99.8888888888889%\n",
      "Accuracy = 99.8888888888889%\n"
     ]
    }
   ],
   "source": [
    "# точность\n",
    "print (f'Evaluate = {evaluate(Y_Tree, Y_test)}%')\n",
    "# accuracy\n",
    "print (f'Accuracy = {accuracy_score(Y_test, Y_Tree) * 100}%')"
   ]
  },
  {
   "cell_type": "code",
   "execution_count": 23,
   "id": "69fc25f9",
   "metadata": {},
   "outputs": [
    {
     "name": "stdout",
     "output_type": "stream",
     "text": [
      "              precision    recall  f1-score   support\n",
      "\n",
      "           0       0.00      0.00      0.00         1\n",
      "           1       0.71      0.83      0.77         6\n",
      "           2       0.75      0.60      0.67         5\n",
      "           3       1.00      1.00      1.00      3588\n",
      "\n",
      "    accuracy                           1.00      3600\n",
      "   macro avg       0.62      0.61      0.61      3600\n",
      "weighted avg       1.00      1.00      1.00      3600\n",
      "\n"
     ]
    }
   ],
   "source": [
    "report_Tree = classification_report(Y_test, Y_Tree)\n",
    "print(report_Tree)"
   ]
  },
  {
   "cell_type": "markdown",
   "id": "6ce5ebb0",
   "metadata": {},
   "source": [
    "<h3>sklearn.naive_bayes.GaussianNB</h3>"
   ]
  },
  {
   "cell_type": "code",
   "execution_count": 24,
   "id": "9a4acdc2",
   "metadata": {},
   "outputs": [
    {
     "data": {
      "text/plain": [
       "array([[   0,    1,    0,    0],\n",
       "       [   0,    5,    1,    0],\n",
       "       [   0,    2,    2,    1],\n",
       "       [  89,   82,   96, 3321]], dtype=int64)"
      ]
     },
     "execution_count": 24,
     "metadata": {},
     "output_type": "execute_result"
    }
   ],
   "source": [
    "# Инициализиуем классификатор\n",
    "model_Gauss = GaussianNB()\n",
    "# Обучаем\n",
    "model_Gauss.fit(X_train, Y_train)\n",
    "# Предсказываем\n",
    "Y_Gauss = model_Gauss.predict(X_test)\n",
    "         \n",
    "# Вычисление матрицы ошибок\n",
    "conf_mat_Gauss = confusion_matrix(Y_test, Y_Gauss)\n",
    "conf_mat_Gauss         "
   ]
  },
  {
   "cell_type": "code",
   "execution_count": 25,
   "id": "00e789a2",
   "metadata": {},
   "outputs": [
    {
     "data": {
      "text/plain": [
       "<AxesSubplot:>"
      ]
     },
     "execution_count": 25,
     "metadata": {},
     "output_type": "execute_result"
    },
    {
     "data": {
      "image/png": "[encoded data removed]",
      "text/plain": [
       "<Figure size 432x288 with 2 Axes>"
      ]
     },
     "metadata": {
      "needs_background": "light"
     },
     "output_type": "display_data"
    }
   ],
   "source": [
    "# Визуализация матрицы ошибок\n",
    "sns.heatmap(conf_mat_Gauss, annot=True)"
   ]
  },
  {
   "cell_type": "code",
   "execution_count": 26,
   "id": "acce00a8",
   "metadata": {},
   "outputs": [
    {
     "name": "stdout",
     "output_type": "stream",
     "text": [
      "Evaluate = 99.8888888888889%\n",
      "Accuracy = 99.8888888888889%\n"
     ]
    }
   ],
   "source": [
    "# точность\n",
    "print (f'Evaluate = {evaluate(Y_Tree, Y_test)}%')\n",
    "# accuracy\n",
    "print (f'Accuracy = {accuracy_score(Y_test, Y_Tree) * 100}%')"
   ]
  },
  {
   "cell_type": "code",
   "execution_count": 27,
   "id": "77b67403",
   "metadata": {},
   "outputs": [
    {
     "name": "stdout",
     "output_type": "stream",
     "text": [
      "              precision    recall  f1-score   support\n",
      "\n",
      "           0       0.00      0.00      0.00         1\n",
      "           1       0.06      0.83      0.10         6\n",
      "           2       0.02      0.40      0.04         5\n",
      "           3       1.00      0.93      0.96      3588\n",
      "\n",
      "    accuracy                           0.92      3600\n",
      "   macro avg       0.27      0.54      0.28      3600\n",
      "weighted avg       1.00      0.92      0.96      3600\n",
      "\n"
     ]
    }
   ],
   "source": [
    "report_Gauss = classification_report(Y_test, Y_Gauss)\n",
    "print(report_Gauss)"
   ]
  },
  {
   "cell_type": "markdown",
   "id": "4d03898f-6a3c-4dc3-b7c6-a6d0823ef437",
   "metadata": {},
   "source": [
    "<h3>sklearn.neighbors.KNeighborsClassifier</h3>\n",
    "Параметры:</br>\n",
    "<ul>\n",
    "    <li>n_neighbors - Количество соседей, используемых по умолчанию для запросов соседей.</li>\n",
    "</ul> "
   ]
  },
  {
   "cell_type": "code",
   "execution_count": 28,
   "id": "93a5b110-576f-475e-baec-d98e29725aa5",
   "metadata": {},
   "outputs": [
    {
     "data": {
      "text/plain": [
       "0.9963888888888889"
      ]
     },
     "execution_count": 28,
     "metadata": {},
     "output_type": "execute_result"
    }
   ],
   "source": [
    "# Проверим на 5 соседях\n",
    "model_KNBC = KNeighborsClassifier(n_neighbors = 5)\n",
    "model_KNBC.fit(X_train, Y_train)\n",
    "Y_KNBC = model_KNBC.predict(X_test)\n",
    "  \n",
    "accuracy_score(Y_test, Y_KNBC) "
   ]
  },
  {
   "cell_type": "code",
   "execution_count": 29,
   "id": "3943febb-452f-407e-9a7e-8ce63c22307e",
   "metadata": {},
   "outputs": [
    {
     "name": "stdout",
     "output_type": "stream",
     "text": [
      "Оптимальное количество соседей = 4\n",
      "Accuracy = 99.66666666666667%\n"
     ]
    }
   ],
   "source": [
    "# Выполним автоматический подбор оптимального количества соседей\n",
    "best_n_count = 0\n",
    "max_accuracy = 0\n",
    "\n",
    "for i in range(1, 128):\n",
    "    tmp_model_KNBC = KNeighborsClassifier(n_neighbors = i)\n",
    "    tmp_model_KNBC.fit(X_train, Y_train)\n",
    "    predict_i = tmp_model_KNBC.predict(X_test)\n",
    "    ac = accuracy_score(Y_test, predict_i)\n",
    "    if ac > max_accuracy:\n",
    "        max_accuracy = ac\n",
    "        best_n_count = i\n",
    "        \n",
    "# Выполним оценку для оптимального количества соседей\n",
    "optimal_model_KNBC = KNeighborsClassifier(n_neighbors = best_n_count)\n",
    "optimal_model_KNBC.fit(X_train, Y_train)\n",
    "Y_KNBCO = optimal_model_KNBC.predict(X_test)\n",
    "\n",
    "# Оптимальное количество соседей\n",
    "print (f'Оптимальное количество соседей = {best_n_count}')\n",
    "# accuracy\n",
    "print (f'Accuracy = {accuracy_score(Y_test, Y_KNBCO) * 100}%')"
   ]
  },
  {
   "cell_type": "code",
   "execution_count": 30,
   "id": "28d7ba11-115c-4993-8830-95ee1f0e53c4",
   "metadata": {},
   "outputs": [
    {
     "data": {
      "text/plain": [
       "array([[   0,    0,    0,    1],\n",
       "       [   0,    0,    0,    6],\n",
       "       [   0,    0,    0,    5],\n",
       "       [   0,    0,    0, 3588]], dtype=int64)"
      ]
     },
     "execution_count": 30,
     "metadata": {},
     "output_type": "execute_result"
    }
   ],
   "source": [
    "# Визуализация матрицы ошибок\n",
    "conf_mat_KNBCO = confusion_matrix(Y_test, Y_KNBCO)\n",
    "conf_mat_KNBCO"
   ]
  },
  {
   "cell_type": "code",
   "execution_count": 31,
   "id": "52aaff9b-e25a-4806-924e-043be9a7454a",
   "metadata": {},
   "outputs": [
    {
     "data": {
      "text/plain": [
       "<AxesSubplot:>"
      ]
     },
     "execution_count": 31,
     "metadata": {},
     "output_type": "execute_result"
    },
    {
     "data": {
      "image/png": "[encoded data removed]",
      "text/plain": [
       "<Figure size 432x288 with 2 Axes>"
      ]
     },
     "metadata": {
      "needs_background": "light"
     },
     "output_type": "display_data"
    }
   ],
   "source": [
    "sns.heatmap(conf_mat_KNBCO, annot=True)"
   ]
  },
  {
   "cell_type": "code",
   "execution_count": 32,
   "id": "d28b9c06-fd7f-49ce-add3-493f4757f46d",
   "metadata": {},
   "outputs": [
    {
     "name": "stdout",
     "output_type": "stream",
     "text": [
      "Accuracy = 99.66666666666667%\n"
     ]
    }
   ],
   "source": [
    "# Нормализованные данные\n",
    "scaler = StandardScaler()\n",
    "X_train_M = scaler.fit_transform(X_train)\n",
    "X_test_M = scaler.transform(X_test)\n",
    "\n",
    "model_KNBCM = KNeighborsClassifier(n_neighbors = best_n_count)\n",
    "model_KNBCM.fit(X_train_M, Y_train)\n",
    "\n",
    "Y_KNBCM = model_KNBCM.predict(X_test_M)\n",
    "\n",
    "# accuracy\n",
    "print (f'Accuracy = {accuracy_score(Y_test, Y_KNBCM) * 100}%')"
   ]
  },
  {
   "cell_type": "markdown",
   "id": "cabd7e7a-174b-4193-bb3c-270eb795f37f",
   "metadata": {},
   "source": [
    "<h2>2. Бинарная классификация.</h2>\n",
    "На любом (но уже другом, бинарном) датасете продемонстрировать бинарную классификацию (можно использовать любой алгоритм), посчитать метрики: accuracy, precision, recall, f-measure, а также составить classification_report."
   ]
  },
  {
   "cell_type": "code",
   "execution_count": 33,
   "id": "6da12024-6de8-4306-b94d-aa7a9a75cf2a",
   "metadata": {},
   "outputs": [
    {
     "data": {
      "text/html": [
       "<div>\n",
       "<style scoped>\n",
       "    .dataframe tbody tr th:only-of-type {\n",
       "        vertical-align: middle;\n",
       "    }\n",
       "\n",
       "    .dataframe tbody tr th {\n",
       "        vertical-align: top;\n",
       "    }\n",
       "\n",
       "    .dataframe thead th {\n",
       "        text-align: right;\n",
       "    }\n",
       "</style>\n",
       "<table border=\"1\" class=\"dataframe\">\n",
       "  <thead>\n",
       "    <tr style=\"text-align: right;\">\n",
       "      <th></th>\n",
       "      <th>Month</th>\n",
       "      <th>Year</th>\n",
       "      <th>Hours_watched</th>\n",
       "      <th>Hours_Streamed</th>\n",
       "      <th>Peak_viewers</th>\n",
       "      <th>Peak_channels</th>\n",
       "      <th>Streamers</th>\n",
       "      <th>Avg_viewers</th>\n",
       "      <th>Avg_channels</th>\n",
       "      <th>Avg_viewer_ratio</th>\n",
       "      <th>Binary_Ratio</th>\n",
       "    </tr>\n",
       "  </thead>\n",
       "  <tbody>\n",
       "    <tr>\n",
       "      <th>0</th>\n",
       "      <td>1</td>\n",
       "      <td>2016</td>\n",
       "      <td>94377226</td>\n",
       "      <td>1362044</td>\n",
       "      <td>530270</td>\n",
       "      <td>2903</td>\n",
       "      <td>129172</td>\n",
       "      <td>127021</td>\n",
       "      <td>1833</td>\n",
       "      <td>69.29</td>\n",
       "      <td>Low</td>\n",
       "    </tr>\n",
       "    <tr>\n",
       "      <th>1</th>\n",
       "      <td>1</td>\n",
       "      <td>2016</td>\n",
       "      <td>47832863</td>\n",
       "      <td>830105</td>\n",
       "      <td>372654</td>\n",
       "      <td>2197</td>\n",
       "      <td>120849</td>\n",
       "      <td>64378</td>\n",
       "      <td>1117</td>\n",
       "      <td>57.62</td>\n",
       "      <td>Low</td>\n",
       "    </tr>\n",
       "    <tr>\n",
       "      <th>2</th>\n",
       "      <td>1</td>\n",
       "      <td>2016</td>\n",
       "      <td>45185893</td>\n",
       "      <td>433397</td>\n",
       "      <td>315083</td>\n",
       "      <td>1100</td>\n",
       "      <td>44074</td>\n",
       "      <td>60815</td>\n",
       "      <td>583</td>\n",
       "      <td>104.26</td>\n",
       "      <td>Low</td>\n",
       "    </tr>\n",
       "    <tr>\n",
       "      <th>3</th>\n",
       "      <td>1</td>\n",
       "      <td>2016</td>\n",
       "      <td>39936159</td>\n",
       "      <td>235903</td>\n",
       "      <td>131357</td>\n",
       "      <td>517</td>\n",
       "      <td>36170</td>\n",
       "      <td>53749</td>\n",
       "      <td>317</td>\n",
       "      <td>169.29</td>\n",
       "      <td>Low</td>\n",
       "    </tr>\n",
       "    <tr>\n",
       "      <th>4</th>\n",
       "      <td>1</td>\n",
       "      <td>2016</td>\n",
       "      <td>16153057</td>\n",
       "      <td>1151578</td>\n",
       "      <td>71639</td>\n",
       "      <td>3620</td>\n",
       "      <td>214054</td>\n",
       "      <td>21740</td>\n",
       "      <td>1549</td>\n",
       "      <td>14.03</td>\n",
       "      <td>Low</td>\n",
       "    </tr>\n",
       "  </tbody>\n",
       "</table>\n",
       "</div>"
      ],
      "text/plain": [
       "   Month  Year  Hours_watched Hours_Streamed  Peak_viewers  Peak_channels  \\\n",
       "0      1  2016       94377226        1362044        530270           2903   \n",
       "1      1  2016       47832863         830105        372654           2197   \n",
       "2      1  2016       45185893         433397        315083           1100   \n",
       "3      1  2016       39936159         235903        131357            517   \n",
       "4      1  2016       16153057        1151578         71639           3620   \n",
       "\n",
       "   Streamers  Avg_viewers  Avg_channels  Avg_viewer_ratio Binary_Ratio  \n",
       "0     129172       127021          1833             69.29          Low  \n",
       "1     120849        64378          1117             57.62          Low  \n",
       "2      44074        60815           583            104.26          Low  \n",
       "3      36170        53749           317            169.29          Low  \n",
       "4     214054        21740          1549             14.03          Low  "
      ]
     },
     "execution_count": 33,
     "metadata": {},
     "output_type": "execute_result"
    }
   ],
   "source": [
    "# Преобразуем данные и добавляем условыне классы на основании рейтинга Avg_viewer_ratio\n",
    "data_binary = data.copy()\n",
    "data_binary['Hours_Streamed'] = data_binary.apply(lambda x: x['Hours_Streamed'].replace(' hours', '') , axis=1)\n",
    "data_binary['Binary_Ratio'] = data_binary.apply(lambda row: binary_ratio(row['Avg_viewer_ratio']), axis = 1)\n",
    "data_binary = data_binary.drop(columns = ['Game', 'Rank'], axis = 1)\n",
    "\n",
    "data_binary.head()"
   ]
  },
  {
   "cell_type": "code",
   "execution_count": 34,
   "id": "866d5cb3-8b57-4629-a9a2-8fa16ca61fa1",
   "metadata": {},
   "outputs": [],
   "source": [
    "# Делим набор данных\n",
    "XB = data_binary.iloc[:, 0:9].values\n",
    "YB = data_binary.iloc[:, 10].values\n",
    "\n",
    "# Формируем обучающую и тестовую выборки\n",
    "XB_train, XB_test, YB_train, YB_test = train_test_split(XB, YB, test_size = 0.25, random_state = 25)"
   ]
  },
  {
   "cell_type": "code",
   "execution_count": 35,
   "id": "dd33626b-2425-460c-9b38-159fcca23f9b",
   "metadata": {},
   "outputs": [
    {
     "name": "stdout",
     "output_type": "stream",
     "text": [
      "Accuracy = 99.97222222222221%\n"
     ]
    }
   ],
   "source": [
    "model_LR = LogisticRegression()\n",
    "    \n",
    "model_LR.fit(XB_train, YB_train)\n",
    "Y_Log = model_LR.predict(XB_test)\n",
    "\n",
    "# accuracy\n",
    "print (f'Accuracy = {accuracy_score(YB_test, Y_Log) * 100}%')"
   ]
  },
  {
   "cell_type": "code",
   "execution_count": 36,
   "id": "50e58d33-13c0-4477-99d9-58317dd87419",
   "metadata": {},
   "outputs": [
    {
     "data": {
      "text/plain": [
       "array([[   1,    0],\n",
       "       [   1, 3598]], dtype=int64)"
      ]
     },
     "execution_count": 36,
     "metadata": {},
     "output_type": "execute_result"
    }
   ],
   "source": [
    "# Визуализация матрицы ошибок\n",
    "cf_Log = confusion_matrix(YB_test, Y_Log)\n",
    "cf_Log"
   ]
  },
  {
   "cell_type": "code",
   "execution_count": 37,
   "id": "7d9149d7-b156-4ac2-b708-4dfeddbbb1b3",
   "metadata": {},
   "outputs": [
    {
     "data": {
      "text/plain": [
       "<AxesSubplot:>"
      ]
     },
     "execution_count": 37,
     "metadata": {},
     "output_type": "execute_result"
    },
    {
     "data": {
      "image/png": "[encoded data removed]",
      "text/plain": [
       "<Figure size 432x288 with 2 Axes>"
      ]
     },
     "metadata": {
      "needs_background": "light"
     },
     "output_type": "display_data"
    }
   ],
   "source": [
    "sns.heatmap(cf_Log, annot=True)"
   ]
  },
  {
   "cell_type": "code",
   "execution_count": 38,
   "id": "4953c3d3-5035-467c-b37f-8b39f033d87f",
   "metadata": {},
   "outputs": [
    {
     "name": "stdout",
     "output_type": "stream",
     "text": [
      "Accuracy = 99.97222222222221%\n"
     ]
    }
   ],
   "source": [
    "# Нормализованные данные\n",
    "scaler = StandardScaler()\n",
    "XB_train_M = scaler.fit_transform(XB_train)\n",
    "XB_test_M = scaler.transform(XB_test)\n",
    "\n",
    "model_LogM = LogisticRegression()\n",
    "    \n",
    "model_LogM.fit(XB_train_M, YB_train)\n",
    "Y_LogM = model_LogM.predict(XB_test_M)\n",
    "        \n",
    "accuracy_score(YB_test, Y_LogM)\n",
    "\n",
    "# accuracy\n",
    "print (f'Accuracy = {accuracy_score(YB_test, Y_LogM) * 100}%')"
   ]
  },
  {
   "cell_type": "markdown",
   "id": "e41cffe7-1c06-40bd-8009-9590181927ff",
   "metadata": {},
   "source": [
    "<h2>3. Использование нормализации признаков</h2>\n",
    "В обоих задачах (бинарной и многоклассовой классификации) попробовать также вариант с предварительной нормализацией признаков (StandardScalerили MinMaxScaler). Оценить метрики качества в случае с нормализованными признаками и ненормализованными.</br>"
   ]
  },
  {
   "cell_type": "code",
   "execution_count": 39,
   "id": "db890047-742b-4bc3-a738-0889f1a2266e",
   "metadata": {},
   "outputs": [
    {
     "name": "stdout",
     "output_type": "stream",
     "text": [
      "Accuracy = 99.63888888888889%\n",
      "Accuracy StandardScaler = 99.66666666666667%\n",
      "Binary Accuracy = 99.97222222222221%\n",
      "Binary Accuracy StandardScaler = 99.97222222222221%\n"
     ]
    }
   ],
   "source": [
    "# accuracy\n",
    "print (f'Accuracy = {accuracy_score(Y_test, Y_KNBC) * 100}%')\n",
    "print (f'Accuracy StandardScaler = {accuracy_score(Y_test, Y_KNBCM) * 100}%')\n",
    "\n",
    "print (f'Binary Accuracy = {accuracy_score(YB_test, Y_Log) * 100}%')\n",
    "print (f'Binary Accuracy StandardScaler = {accuracy_score(YB_test, Y_LogM) * 100}%')"
   ]
  },
  {
   "cell_type": "markdown",
   "id": "7bff7fd6-7d2b-429b-9d42-9341ffbcfdea",
   "metadata": {},
   "source": [
    "<h2>Вывод</h2>\n",
    "Либо разница не большая, либо я неверно выполнил задание, либо такой неудачный набор данных, скорее всего полседний вариант."
   ]
  },
  {
   "cell_type": "code",
   "execution_count": null,
   "id": "421c43b1-9cdf-4c92-bd17-955fc2f7226d",
   "metadata": {},
   "outputs": [],
   "source": []
  }
 ],
 "metadata": {
  "kernelspec": {
   "display_name": "Python 3 (ipykernel)",
   "language": "python",
   "name": "python3"
  },
  "language_info": {
   "codemirror_mode": {
    "name": "ipython",
    "version": 3
   },
   "file_extension": ".py",
   "mimetype": "text/x-python",
   "name": "python",
   "nbconvert_exporter": "python",
   "pygments_lexer": "ipython3",
   "version": "3.9.7"
  }
 },
 "nbformat": 4,
 "nbformat_minor": 5
}
